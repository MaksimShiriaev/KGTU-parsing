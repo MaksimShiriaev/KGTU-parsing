{
 "cells": [
  {
   "cell_type": "code",
   "execution_count": 1,
   "metadata": {},
   "outputs": [
    {
     "name": "stdout",
     "output_type": "stream",
     "text": [
      "klgtu\n",
      "database_klgtu\n",
      "klgtu_basic_data\n"
     ]
    }
   ],
   "source": [
    "import sys\n",
    "import json\n",
    "import pandas as pd\n",
    "import os\n",
    "\n",
    "current_dir = os.getcwd()\n",
    "project_dir = os.path.dirname(current_dir)\n",
    "sys.path.append(project_dir)\n",
    "\n",
    "from commonlib.data_manipulation import parse_data\n",
    "from database import BasicData, TimetableData, NewsData\n",
    "\n",
    "with open('parsing_settings.json') as file:\n",
    "    settings = json.load(file)\n",
    "\n",
    "UNI_NAME = settings['uni_name']\n",
    "DB_NAME = settings['db_name']\n",
    "\n",
    "print(UNI_NAME) #идентификатор университа\n",
    "print(DB_NAME) #идентификатор Базы данных\n",
    "print(BasicData.__tablename__) #Базовая таблица (в которую сохраняется основная статическая информация страницы)"
   ]
  },
  {
   "cell_type": "markdown",
   "metadata": {},
   "source": [
    "# Парсеры"
   ]
  },
  {
   "cell_type": "markdown",
   "metadata": {},
   "source": [
    "### Блок \"Образовательные программы\""
   ]
  },
  {
   "cell_type": "markdown",
   "metadata": {},
   "source": [
    "https://www.klgtu.ru"
   ]
  },
  {
   "cell_type": "code",
   "execution_count": 2,
   "metadata": {},
   "outputs": [],
   "source": [
    "from block_parsers import Edu_programms_parser\n",
    "programms_parser = Edu_programms_parser(time_sleep=False)"
   ]
  },
  {
   "cell_type": "code",
   "execution_count": 3,
   "metadata": {},
   "outputs": [
    {
     "name": "stdout",
     "output_type": "stream",
     "text": [
      "Cпарсено 35 документов\n"
     ]
    }
   ],
   "source": [
    "programms_df = parse_data(programms_parser)"
   ]
  },
  {
   "cell_type": "code",
   "execution_count": 4,
   "metadata": {},
   "outputs": [
    {
     "data": {
      "text/html": [
       "<div>\n",
       "<style scoped>\n",
       "    .dataframe tbody tr th:only-of-type {\n",
       "        vertical-align: middle;\n",
       "    }\n",
       "\n",
       "    .dataframe tbody tr th {\n",
       "        vertical-align: top;\n",
       "    }\n",
       "\n",
       "    .dataframe thead th {\n",
       "        text-align: right;\n",
       "    }\n",
       "</style>\n",
       "<table border=\"1\" class=\"dataframe\">\n",
       "  <thead>\n",
       "    <tr style=\"text-align: right;\">\n",
       "      <th></th>\n",
       "      <th>url</th>\n",
       "      <th>topic_block</th>\n",
       "      <th>parsing_date</th>\n",
       "      <th>public_date</th>\n",
       "      <th>title</th>\n",
       "      <th>context</th>\n",
       "      <th>html</th>\n",
       "    </tr>\n",
       "  </thead>\n",
       "  <tbody>\n",
       "    <tr>\n",
       "      <th>0</th>\n",
       "      <td>https://www.klgtu.ru/upload/abitur/buklet/ep.pdf</td>\n",
       "      <td>edu_programms</td>\n",
       "      <td>2024-04-13</td>\n",
       "      <td>None</td>\n",
       "      <td>None</td>\n",
       "      <td>;. None</td>\n",
       "      <td>None</td>\n",
       "    </tr>\n",
       "    <tr>\n",
       "      <th>1</th>\n",
       "      <td>https://www.klgtu.ru/upload/abitur/buklet/st.pdf</td>\n",
       "      <td>edu_programms</td>\n",
       "      <td>2024-04-13</td>\n",
       "      <td>None</td>\n",
       "      <td>None</td>\n",
       "      <td>;. None</td>\n",
       "      <td>None</td>\n",
       "    </tr>\n",
       "    <tr>\n",
       "      <th>2</th>\n",
       "      <td>https://www.klgtu.ru/upload/abitur/buklet/vt.pdf</td>\n",
       "      <td>edu_programms</td>\n",
       "      <td>2024-04-13</td>\n",
       "      <td>None</td>\n",
       "      <td>None</td>\n",
       "      <td>;. None</td>\n",
       "      <td>None</td>\n",
       "    </tr>\n",
       "    <tr>\n",
       "      <th>3</th>\n",
       "      <td>https://www.klgtu.ru/upload/abitur/buklet/is.pdf</td>\n",
       "      <td>edu_programms</td>\n",
       "      <td>2024-04-13</td>\n",
       "      <td>None</td>\n",
       "      <td>None</td>\n",
       "      <td>;. None</td>\n",
       "      <td>None</td>\n",
       "    </tr>\n",
       "    <tr>\n",
       "      <th>4</th>\n",
       "      <td>https://www.klgtu.ru/upload/abitur/buklet/pi.pdf</td>\n",
       "      <td>edu_programms</td>\n",
       "      <td>2024-04-13</td>\n",
       "      <td>None</td>\n",
       "      <td>None</td>\n",
       "      <td>;. None</td>\n",
       "      <td>None</td>\n",
       "    </tr>\n",
       "    <tr>\n",
       "      <th>5</th>\n",
       "      <td>https://www.klgtu.ru/upload/abitur/buklet/te.pdf</td>\n",
       "      <td>edu_programms</td>\n",
       "      <td>2024-04-13</td>\n",
       "      <td>None</td>\n",
       "      <td>None</td>\n",
       "      <td>;. None</td>\n",
       "      <td>None</td>\n",
       "    </tr>\n",
       "  </tbody>\n",
       "</table>\n",
       "</div>"
      ],
      "text/plain": [
       "                                                url    topic_block  \\\n",
       "0  https://www.klgtu.ru/upload/abitur/buklet/ep.pdf  edu_programms   \n",
       "1  https://www.klgtu.ru/upload/abitur/buklet/st.pdf  edu_programms   \n",
       "2  https://www.klgtu.ru/upload/abitur/buklet/vt.pdf  edu_programms   \n",
       "3  https://www.klgtu.ru/upload/abitur/buklet/is.pdf  edu_programms   \n",
       "4  https://www.klgtu.ru/upload/abitur/buklet/pi.pdf  edu_programms   \n",
       "5  https://www.klgtu.ru/upload/abitur/buklet/te.pdf  edu_programms   \n",
       "\n",
       "  parsing_date public_date title  context  html  \n",
       "0   2024-04-13        None  None  ;. None  None  \n",
       "1   2024-04-13        None  None  ;. None  None  \n",
       "2   2024-04-13        None  None  ;. None  None  \n",
       "3   2024-04-13        None  None  ;. None  None  \n",
       "4   2024-04-13        None  None  ;. None  None  \n",
       "5   2024-04-13        None  None  ;. None  None  "
      ]
     },
     "execution_count": 4,
     "metadata": {},
     "output_type": "execute_result"
    }
   ],
   "source": [
    "programms_df.head(6)"
   ]
  },
  {
   "cell_type": "code",
   "execution_count": 5,
   "metadata": {},
   "outputs": [],
   "source": [
    "#print(programms_df.iloc[5]['url'])"
   ]
  },
  {
   "cell_type": "code",
   "execution_count": 6,
   "metadata": {},
   "outputs": [],
   "source": [
    "programms_df.to_json('parsing_edu_programms.json', orient='records', force_ascii=False)"
   ]
  },
  {
   "cell_type": "markdown",
   "metadata": {},
   "source": [
    "### Блок \"Новости сайта КГТУ\""
   ]
  },
  {
   "cell_type": "code",
   "execution_count": 4,
   "metadata": {},
   "outputs": [],
   "source": [
    "from block_parsers import Kgtu_news_parser\n",
    "programms_parser = Kgtu_news_parser(3, time_sleep=False)\n"
   ]
  },
  {
   "cell_type": "code",
   "execution_count": 5,
   "metadata": {},
   "outputs": [
    {
     "name": "stdout",
     "output_type": "stream",
     "text": [
      "Cпарсено 30 документов\n"
     ]
    }
   ],
   "source": [
    "programms_df = parse_data(programms_parser)"
   ]
  },
  {
   "cell_type": "code",
   "execution_count": 6,
   "metadata": {},
   "outputs": [
    {
     "data": {
      "text/html": [
       "<div>\n",
       "<style scoped>\n",
       "    .dataframe tbody tr th:only-of-type {\n",
       "        vertical-align: middle;\n",
       "    }\n",
       "\n",
       "    .dataframe tbody tr th {\n",
       "        vertical-align: top;\n",
       "    }\n",
       "\n",
       "    .dataframe thead th {\n",
       "        text-align: right;\n",
       "    }\n",
       "</style>\n",
       "<table border=\"1\" class=\"dataframe\">\n",
       "  <thead>\n",
       "    <tr style=\"text-align: right;\">\n",
       "      <th></th>\n",
       "      <th>url</th>\n",
       "      <th>topic_block</th>\n",
       "      <th>parsing_date</th>\n",
       "      <th>public_date</th>\n",
       "      <th>title</th>\n",
       "      <th>context</th>\n",
       "      <th>html</th>\n",
       "    </tr>\n",
       "  </thead>\n",
       "  <tbody>\n",
       "    <tr>\n",
       "      <th>0</th>\n",
       "      <td>https://www.klgtu.ru/media/novosti/nauchno_tek...</td>\n",
       "      <td>news</td>\n",
       "      <td>2024-04-12</td>\n",
       "      <td>2024-04-12</td>\n",
       "      <td>Научно-техническая конференция, торжество...</td>\n",
       "      <td>Научно-техническая конференция, торжество студ...</td>\n",
       "      <td>&lt;main class=\"main\"&gt;&lt;section class=\"section pt-...</td>\n",
       "    </tr>\n",
       "    <tr>\n",
       "      <th>1</th>\n",
       "      <td>https://www.klgtu.ru/media/novosti/studenty_i_...</td>\n",
       "      <td>news</td>\n",
       "      <td>2024-04-12</td>\n",
       "      <td>2024-04-12</td>\n",
       "      <td>Студенты и курсанты КГТУ встретились с пи...</td>\n",
       "      <td>Студенты и курсанты КГТУ встретились с писател...</td>\n",
       "      <td>&lt;main class=\"main\"&gt;&lt;section class=\"section pt-...</td>\n",
       "    </tr>\n",
       "    <tr>\n",
       "      <th>2</th>\n",
       "      <td>https://www.klgtu.ru/media/novosti/uchyenye_kg...</td>\n",
       "      <td>news</td>\n",
       "      <td>2024-04-12</td>\n",
       "      <td>2024-04-12</td>\n",
       "      <td>Учёные КГТУ приняли участие в обсуждении ...</td>\n",
       "      <td>Учёные КГТУ приняли участие в обсуждении вопро...</td>\n",
       "      <td>&lt;main class=\"main\"&gt;&lt;section class=\"section pt-...</td>\n",
       "    </tr>\n",
       "    <tr>\n",
       "      <th>3</th>\n",
       "      <td>https://www.klgtu.ru/media/novosti/studenty_ba...</td>\n",
       "      <td>news</td>\n",
       "      <td>2024-04-12</td>\n",
       "      <td>2024-04-11</td>\n",
       "      <td>Студенты Балтийской высшей школы гастроно...</td>\n",
       "      <td>Студенты Балтийской высшей школы гастрономии К...</td>\n",
       "      <td>&lt;main class=\"main\"&gt;&lt;section class=\"section pt-...</td>\n",
       "    </tr>\n",
       "    <tr>\n",
       "      <th>4</th>\n",
       "      <td>https://www.klgtu.ru/media/novosti/v_tochke_ki...</td>\n",
       "      <td>news</td>\n",
       "      <td>2024-04-12</td>\n",
       "      <td>2024-04-10</td>\n",
       "      <td>В точке кипения КГТУ состоялась профориен...</td>\n",
       "      <td>В точке кипения КГТУ состоялась профориентацио...</td>\n",
       "      <td>&lt;main class=\"main\"&gt;&lt;section class=\"section pt-...</td>\n",
       "    </tr>\n",
       "    <tr>\n",
       "      <th>5</th>\n",
       "      <td>https://www.klgtu.ru/media/novosti/studenty_i_...</td>\n",
       "      <td>news</td>\n",
       "      <td>2024-04-12</td>\n",
       "      <td>2024-04-10</td>\n",
       "      <td>В КГТУ собрали очередную партию гуманитар...</td>\n",
       "      <td>В КГТУ собрали очередную партию гуманитарной п...</td>\n",
       "      <td>&lt;main class=\"main\"&gt;&lt;section class=\"section pt-...</td>\n",
       "    </tr>\n",
       "  </tbody>\n",
       "</table>\n",
       "</div>"
      ],
      "text/plain": [
       "                                                 url topic_block parsing_date  \\\n",
       "0  https://www.klgtu.ru/media/novosti/nauchno_tek...        news   2024-04-12   \n",
       "1  https://www.klgtu.ru/media/novosti/studenty_i_...        news   2024-04-12   \n",
       "2  https://www.klgtu.ru/media/novosti/uchyenye_kg...        news   2024-04-12   \n",
       "3  https://www.klgtu.ru/media/novosti/studenty_ba...        news   2024-04-12   \n",
       "4  https://www.klgtu.ru/media/novosti/v_tochke_ki...        news   2024-04-12   \n",
       "5  https://www.klgtu.ru/media/novosti/studenty_i_...        news   2024-04-12   \n",
       "\n",
       "  public_date                                              title  \\\n",
       "0  2024-04-12       Научно-техническая конференция, торжество...   \n",
       "1  2024-04-12       Студенты и курсанты КГТУ встретились с пи...   \n",
       "2  2024-04-12       Учёные КГТУ приняли участие в обсуждении ...   \n",
       "3  2024-04-11       Студенты Балтийской высшей школы гастроно...   \n",
       "4  2024-04-10       В точке кипения КГТУ состоялась профориен...   \n",
       "5  2024-04-10       В КГТУ собрали очередную партию гуманитар...   \n",
       "\n",
       "                                             context  \\\n",
       "0  Научно-техническая конференция, торжество студ...   \n",
       "1  Студенты и курсанты КГТУ встретились с писател...   \n",
       "2  Учёные КГТУ приняли участие в обсуждении вопро...   \n",
       "3  Студенты Балтийской высшей школы гастрономии К...   \n",
       "4  В точке кипения КГТУ состоялась профориентацио...   \n",
       "5  В КГТУ собрали очередную партию гуманитарной п...   \n",
       "\n",
       "                                                html  \n",
       "0  <main class=\"main\"><section class=\"section pt-...  \n",
       "1  <main class=\"main\"><section class=\"section pt-...  \n",
       "2  <main class=\"main\"><section class=\"section pt-...  \n",
       "3  <main class=\"main\"><section class=\"section pt-...  \n",
       "4  <main class=\"main\"><section class=\"section pt-...  \n",
       "5  <main class=\"main\"><section class=\"section pt-...  "
      ]
     },
     "execution_count": 6,
     "metadata": {},
     "output_type": "execute_result"
    }
   ],
   "source": [
    "programms_df.head(6)"
   ]
  },
  {
   "cell_type": "code",
   "execution_count": 9,
   "metadata": {
    "scrolled": true
   },
   "outputs": [
    {
     "name": "stdout",
     "output_type": "stream",
     "text": [
      "Студенты и курсанты КГТУ встретились с писателем Александром Ждановым - заголовок страницы;; 11 апреля состоялось очередное занятие Центра духовно-патриотического развития и творческих инициатив студентов и курсантов КГТУ при кафедре философии и культурологии. ;;Занятие посвятили творческой деятельности представителей художественно-литературной среды Калининградской области. ;;Руководитель центра профессор Шахов В.А. представил слушателям гостя с многогранной творческой судьбой – писателя, художника, журналиста и искусствоведа, члена Союза Российских писателей Александра Борисовича Жданова. Он рассказал слушателям об основных направлениях своей творческой деятельности. ;;На занятии также обсудили вопросы становления и развития отечественной художественной культуры в Калининградской области с послевоенного времени и до наших лней. ;;Большой интерес у студентов вызвали рассказы писателя о своей творческой деятельности. Гость прочитал свои стихотворения и отрывки из новых книг, состоялась дискуссия о роли отечественной литературы и искусства в духовно-нравственном развитии молодежи. ;;В заключение писатель ответил на вопросы студентов и пригласил участников курса к сотворчеству. ;;В организации и проведении мероприятия приняли участие преподаватели Института инженерной педагогики и гуманитарной подготовки БГАРФ доцент Е.В.Дорофеева и старший преподаватель Н.Л. Рябцева.\n"
     ]
    }
   ],
   "source": [
    "#print(programms_df.iloc[1]['url'])\n",
    "print(programms_df.iloc[1]['context'])\n",
    "#print(programms_df.iloc[1]['html'])"
   ]
  },
  {
   "cell_type": "code",
   "execution_count": 8,
   "metadata": {},
   "outputs": [],
   "source": [
    "programms_df.to_json('parsing_news.json', orient='records', force_ascii=False)"
   ]
  },
  {
   "cell_type": "markdown",
   "metadata": {},
   "source": [
    "### Блок \"Анонсы сайта КГТУ\""
   ]
  },
  {
   "cell_type": "code",
   "execution_count": 12,
   "metadata": {},
   "outputs": [],
   "source": [
    "from block_parsers import Kgtu_anons_parser\n",
    "programms_parser = Kgtu_anons_parser(3, time_sleep=False)\n"
   ]
  },
  {
   "cell_type": "code",
   "execution_count": 13,
   "metadata": {},
   "outputs": [
    {
     "name": "stdout",
     "output_type": "stream",
     "text": [
      "Cпарсено 30 документов\n"
     ]
    }
   ],
   "source": [
    "programms_df = parse_data(programms_parser)"
   ]
  },
  {
   "cell_type": "code",
   "execution_count": 14,
   "metadata": {},
   "outputs": [
    {
     "data": {
      "text/html": [
       "<div>\n",
       "<style scoped>\n",
       "    .dataframe tbody tr th:only-of-type {\n",
       "        vertical-align: middle;\n",
       "    }\n",
       "\n",
       "    .dataframe tbody tr th {\n",
       "        vertical-align: top;\n",
       "    }\n",
       "\n",
       "    .dataframe thead th {\n",
       "        text-align: right;\n",
       "    }\n",
       "</style>\n",
       "<table border=\"1\" class=\"dataframe\">\n",
       "  <thead>\n",
       "    <tr style=\"text-align: right;\">\n",
       "      <th></th>\n",
       "      <th>url</th>\n",
       "      <th>topic_block</th>\n",
       "      <th>parsing_date</th>\n",
       "      <th>public_date</th>\n",
       "      <th>title</th>\n",
       "      <th>context</th>\n",
       "      <th>html</th>\n",
       "    </tr>\n",
       "  </thead>\n",
       "  <tbody>\n",
       "    <tr>\n",
       "      <th>0</th>\n",
       "      <td>https://www.klgtu.ru/media/anonsy/kvn_polufinal/</td>\n",
       "      <td>anons</td>\n",
       "      <td>2024-04-06</td>\n",
       "      <td>2024-04-03</td>\n",
       "      <td>КВН - полуфинал!</td>\n",
       "      <td>КВН - полуфинал! - заголовок страницы;; Уже со...</td>\n",
       "      <td>&lt;main class=\"main\"&gt;&lt;section class=\"section pt-...</td>\n",
       "    </tr>\n",
       "    <tr>\n",
       "      <th>1</th>\n",
       "      <td>https://www.klgtu.ru/media/anonsy/v_glavnom_uc...</td>\n",
       "      <td>anons</td>\n",
       "      <td>2024-04-06</td>\n",
       "      <td>2024-04-02</td>\n",
       "      <td>В главном учебном корпусе КГТУ откроется ...</td>\n",
       "      <td>В главном учебном корпусе КГТУ откроется фотов...</td>\n",
       "      <td>&lt;main class=\"main\"&gt;&lt;section class=\"section pt-...</td>\n",
       "    </tr>\n",
       "    <tr>\n",
       "      <th>2</th>\n",
       "      <td>https://www.klgtu.ru/media/anonsy/priglashaem_...</td>\n",
       "      <td>anons</td>\n",
       "      <td>2024-04-06</td>\n",
       "      <td>2024-04-01</td>\n",
       "      <td>Приглашаем присоединиться к II Фестивалю ...</td>\n",
       "      <td>Приглашаем присоединиться к II Фестивалю техно...</td>\n",
       "      <td>&lt;main class=\"main\"&gt;&lt;section class=\"section pt-...</td>\n",
       "    </tr>\n",
       "    <tr>\n",
       "      <th>3</th>\n",
       "      <td>https://www.klgtu.ru/media/anonsy/vecher_poezi...</td>\n",
       "      <td>anons</td>\n",
       "      <td>2024-04-06</td>\n",
       "      <td>2024-03-26</td>\n",
       "      <td>Вечер Поэзии посвященный 225-летию Алекса...</td>\n",
       "      <td>Вечер Поэзии посвященный 225-летию Александра ...</td>\n",
       "      <td>&lt;main class=\"main\"&gt;&lt;section class=\"section pt-...</td>\n",
       "    </tr>\n",
       "    <tr>\n",
       "      <th>4</th>\n",
       "      <td>https://www.klgtu.ru/media/anonsy/kvest_dlya_u...</td>\n",
       "      <td>anons</td>\n",
       "      <td>2024-04-06</td>\n",
       "      <td>2024-03-22</td>\n",
       "      <td>Знакомство с внеучебкой</td>\n",
       "      <td>Знакомство с внеучебкой - заголовок страницы;;...</td>\n",
       "      <td>&lt;main class=\"main\"&gt;&lt;section class=\"section pt-...</td>\n",
       "    </tr>\n",
       "    <tr>\n",
       "      <th>5</th>\n",
       "      <td>https://www.klgtu.ru/media/anonsy/kvn_v_kgtu/</td>\n",
       "      <td>anons</td>\n",
       "      <td>2024-04-06</td>\n",
       "      <td>2024-03-22</td>\n",
       "      <td>КВН В КГТУ</td>\n",
       "      <td>КВН В КГТУ - заголовок страницы;; КВН В КГТУ;;...</td>\n",
       "      <td>&lt;main class=\"main\"&gt;&lt;section class=\"section pt-...</td>\n",
       "    </tr>\n",
       "  </tbody>\n",
       "</table>\n",
       "</div>"
      ],
      "text/plain": [
       "                                                 url topic_block parsing_date  \\\n",
       "0   https://www.klgtu.ru/media/anonsy/kvn_polufinal/       anons   2024-04-06   \n",
       "1  https://www.klgtu.ru/media/anonsy/v_glavnom_uc...       anons   2024-04-06   \n",
       "2  https://www.klgtu.ru/media/anonsy/priglashaem_...       anons   2024-04-06   \n",
       "3  https://www.klgtu.ru/media/anonsy/vecher_poezi...       anons   2024-04-06   \n",
       "4  https://www.klgtu.ru/media/anonsy/kvest_dlya_u...       anons   2024-04-06   \n",
       "5      https://www.klgtu.ru/media/anonsy/kvn_v_kgtu/       anons   2024-04-06   \n",
       "\n",
       "  public_date                                              title  \\\n",
       "0  2024-04-03                                   КВН - полуфинал!   \n",
       "1  2024-04-02       В главном учебном корпусе КГТУ откроется ...   \n",
       "2  2024-04-01       Приглашаем присоединиться к II Фестивалю ...   \n",
       "3  2024-03-26       Вечер Поэзии посвященный 225-летию Алекса...   \n",
       "4  2024-03-22                            Знакомство с внеучебкой   \n",
       "5  2024-03-22                                         КВН В КГТУ   \n",
       "\n",
       "                                             context  \\\n",
       "0  КВН - полуфинал! - заголовок страницы;; Уже со...   \n",
       "1  В главном учебном корпусе КГТУ откроется фотов...   \n",
       "2  Приглашаем присоединиться к II Фестивалю техно...   \n",
       "3  Вечер Поэзии посвященный 225-летию Александра ...   \n",
       "4  Знакомство с внеучебкой - заголовок страницы;;...   \n",
       "5  КВН В КГТУ - заголовок страницы;; КВН В КГТУ;;...   \n",
       "\n",
       "                                                html  \n",
       "0  <main class=\"main\"><section class=\"section pt-...  \n",
       "1  <main class=\"main\"><section class=\"section pt-...  \n",
       "2  <main class=\"main\"><section class=\"section pt-...  \n",
       "3  <main class=\"main\"><section class=\"section pt-...  \n",
       "4  <main class=\"main\"><section class=\"section pt-...  \n",
       "5  <main class=\"main\"><section class=\"section pt-...  "
      ]
     },
     "execution_count": 14,
     "metadata": {},
     "output_type": "execute_result"
    }
   ],
   "source": [
    "programms_df.head(6)"
   ]
  },
  {
   "cell_type": "code",
   "execution_count": 15,
   "metadata": {},
   "outputs": [
    {
     "name": "stdout",
     "output_type": "stream",
     "text": [
      "https://www.klgtu.ru/media/anonsy/v_glavnom_uchebnom_korpuse_kgtu_otkroetsya_fotovystavka_posvyashchyennaya_v_s_chernomyrdinu/\n",
      "В главном учебном корпусе КГТУ откроется фотовыставка, посвящённая В.С. Черномырдину. - заголовок страницы;; 8 апреля в главном учебном корпусе КГТУ откроется фотовыставка, посвящённая крупному политическому деятелю Российской Федерации В.С. Черномырдину.;;Виктор Степанович Черномырдин (1938 – 2010) родился 9 апреля в Оренбургской области. Окончив Куйбышевский политехнический институт, он связал большую часть своей трудовой жизни с газовой отраслью страны. С 1989 по 1992 годы возглавлял правление «Газпрома». В этом году исполняется 35 лет с момента создания Государственного газового концерна, заслуга создания которого во многом принадлежит В.С. Черномырдину.;;После распада СССР в 1992 году Черномырдин занял должность председателя Совета Министров Российской Федерации, где и проработал до конца 90-х годов. В последующем, на протяжении восьми лет, занимал ответственную должность посла Российской Федерации на Украине. В конце жизни Черномырдин выполнял обязанности советника президента России по вопросам экономического сотрудничества со странами СНГ.;;Фотографии выставки представлены Международным информационным агентством «Россия сегодня» и охватывают 16-летний период времени из жизни Виктора Степановича Черномырдина.;;Открытие фотовыставки приурочено к дню его рождения.;;Выставка разместится в фойе 2-го этажа главного учебного корпуса КГТУ. Начало церемонии открытия – 12.00 часов.\n"
     ]
    }
   ],
   "source": [
    "print(programms_df.iloc[1]['url'])\n",
    "print(programms_df.iloc[1]['context'])"
   ]
  },
  {
   "cell_type": "code",
   "execution_count": 16,
   "metadata": {},
   "outputs": [],
   "source": [
    "programms_df.to_json('parsing_anons.json', orient='records', force_ascii=False)"
   ]
  },
  {
   "cell_type": "markdown",
   "metadata": {},
   "source": [
    "### Блок \"Объявления сайта КГТУ\""
   ]
  },
  {
   "cell_type": "code",
   "execution_count": 2,
   "metadata": {},
   "outputs": [],
   "source": [
    "from block_parsers import Kgtu_obyava_parser\n",
    "programms_parser = Kgtu_obyava_parser(3, time_sleep=False)"
   ]
  },
  {
   "cell_type": "code",
   "execution_count": 3,
   "metadata": {},
   "outputs": [
    {
     "name": "stdout",
     "output_type": "stream",
     "text": [
      "Cпарсено 30 документов\n"
     ]
    }
   ],
   "source": [
    "programms_df = parse_data(programms_parser)"
   ]
  },
  {
   "cell_type": "code",
   "execution_count": 4,
   "metadata": {},
   "outputs": [
    {
     "data": {
      "text/html": [
       "<div>\n",
       "<style scoped>\n",
       "    .dataframe tbody tr th:only-of-type {\n",
       "        vertical-align: middle;\n",
       "    }\n",
       "\n",
       "    .dataframe tbody tr th {\n",
       "        vertical-align: top;\n",
       "    }\n",
       "\n",
       "    .dataframe thead th {\n",
       "        text-align: right;\n",
       "    }\n",
       "</style>\n",
       "<table border=\"1\" class=\"dataframe\">\n",
       "  <thead>\n",
       "    <tr style=\"text-align: right;\">\n",
       "      <th></th>\n",
       "      <th>url</th>\n",
       "      <th>topic_block</th>\n",
       "      <th>parsing_date</th>\n",
       "      <th>public_date</th>\n",
       "      <th>title</th>\n",
       "      <th>context</th>\n",
       "      <th>html</th>\n",
       "    </tr>\n",
       "  </thead>\n",
       "  <tbody>\n",
       "    <tr>\n",
       "      <th>0</th>\n",
       "      <td>https://www.klgtu.ru/media/obyavleniya/rabota_...</td>\n",
       "      <td>obyava</td>\n",
       "      <td>2024-04-12</td>\n",
       "      <td>2024-04-08</td>\n",
       "      <td>Работа для профессорско-преподавательског...</td>\n",
       "      <td>Работа для профессорско-преподавательского сос...</td>\n",
       "      <td>&lt;main class=\"main\"&gt;&lt;section class=\"section pt-...</td>\n",
       "    </tr>\n",
       "    <tr>\n",
       "      <th>1</th>\n",
       "      <td>https://www.klgtu.ru/media/obyavleniya/obyavle...</td>\n",
       "      <td>obyava</td>\n",
       "      <td>2024-04-12</td>\n",
       "      <td>2024-02-29</td>\n",
       "      <td>Объявлен всероссийский конкурс «Создай НАШЕ»</td>\n",
       "      <td>Объявлен всероссийский конкурс «Создай НАШЕ» -...</td>\n",
       "      <td>&lt;main class=\"main\"&gt;&lt;section class=\"section pt-...</td>\n",
       "    </tr>\n",
       "    <tr>\n",
       "      <th>2</th>\n",
       "      <td>https://www.klgtu.ru/media/obyavleniya/fond_so...</td>\n",
       "      <td>obyava</td>\n",
       "      <td>2024-04-12</td>\n",
       "      <td>2024-02-28</td>\n",
       "      <td>Фонд содействия инновациям открыл приём з...</td>\n",
       "      <td>Фонд содействия инновациям открыл приём заявок...</td>\n",
       "      <td>&lt;main class=\"main\"&gt;&lt;section class=\"section pt-...</td>\n",
       "    </tr>\n",
       "    <tr>\n",
       "      <th>3</th>\n",
       "      <td>https://www.klgtu.ru/media/obyavleniya/trek_pe...</td>\n",
       "      <td>obyava</td>\n",
       "      <td>2024-04-12</td>\n",
       "      <td>2024-02-21</td>\n",
       "      <td>Трек \"Первопроходец\" от Всероссийского ст...</td>\n",
       "      <td>Трек \"Первопроходец\" от Всероссийского студенч...</td>\n",
       "      <td>&lt;main class=\"main\"&gt;&lt;section class=\"section pt-...</td>\n",
       "    </tr>\n",
       "    <tr>\n",
       "      <th>4</th>\n",
       "      <td>https://www.klgtu.ru/media/obyavleniya/blagotv...</td>\n",
       "      <td>obyava</td>\n",
       "      <td>2024-04-12</td>\n",
       "      <td>2024-02-20</td>\n",
       "      <td>Благотворительная акция</td>\n",
       "      <td>Благотворительная акция - заголовок страницы;;...</td>\n",
       "      <td>&lt;main class=\"main\"&gt;&lt;section class=\"section pt-...</td>\n",
       "    </tr>\n",
       "    <tr>\n",
       "      <th>5</th>\n",
       "      <td>https://www.klgtu.ru/media/obyavleniya/sbor_ma...</td>\n",
       "      <td>obyava</td>\n",
       "      <td>2024-04-12</td>\n",
       "      <td>2024-02-20</td>\n",
       "      <td>Сбор макулатуры</td>\n",
       "      <td>Сбор макулатуры - заголовок страницы;; На базе...</td>\n",
       "      <td>&lt;main class=\"main\"&gt;&lt;section class=\"section pt-...</td>\n",
       "    </tr>\n",
       "  </tbody>\n",
       "</table>\n",
       "</div>"
      ],
      "text/plain": [
       "                                                 url topic_block parsing_date  \\\n",
       "0  https://www.klgtu.ru/media/obyavleniya/rabota_...      obyava   2024-04-12   \n",
       "1  https://www.klgtu.ru/media/obyavleniya/obyavle...      obyava   2024-04-12   \n",
       "2  https://www.klgtu.ru/media/obyavleniya/fond_so...      obyava   2024-04-12   \n",
       "3  https://www.klgtu.ru/media/obyavleniya/trek_pe...      obyava   2024-04-12   \n",
       "4  https://www.klgtu.ru/media/obyavleniya/blagotv...      obyava   2024-04-12   \n",
       "5  https://www.klgtu.ru/media/obyavleniya/sbor_ma...      obyava   2024-04-12   \n",
       "\n",
       "  public_date                                              title  \\\n",
       "0  2024-04-08       Работа для профессорско-преподавательског...   \n",
       "1  2024-02-29       Объявлен всероссийский конкурс «Создай НАШЕ»   \n",
       "2  2024-02-28       Фонд содействия инновациям открыл приём з...   \n",
       "3  2024-02-21       Трек \"Первопроходец\" от Всероссийского ст...   \n",
       "4  2024-02-20                            Благотворительная акция   \n",
       "5  2024-02-20                                    Сбор макулатуры   \n",
       "\n",
       "                                             context  \\\n",
       "0  Работа для профессорско-преподавательского сос...   \n",
       "1  Объявлен всероссийский конкурс «Создай НАШЕ» -...   \n",
       "2  Фонд содействия инновациям открыл приём заявок...   \n",
       "3  Трек \"Первопроходец\" от Всероссийского студенч...   \n",
       "4  Благотворительная акция - заголовок страницы;;...   \n",
       "5  Сбор макулатуры - заголовок страницы;; На базе...   \n",
       "\n",
       "                                                html  \n",
       "0  <main class=\"main\"><section class=\"section pt-...  \n",
       "1  <main class=\"main\"><section class=\"section pt-...  \n",
       "2  <main class=\"main\"><section class=\"section pt-...  \n",
       "3  <main class=\"main\"><section class=\"section pt-...  \n",
       "4  <main class=\"main\"><section class=\"section pt-...  \n",
       "5  <main class=\"main\"><section class=\"section pt-...  "
      ]
     },
     "execution_count": 4,
     "metadata": {},
     "output_type": "execute_result"
    }
   ],
   "source": [
    "programms_df.head(6)"
   ]
  },
  {
   "cell_type": "code",
   "execution_count": 5,
   "metadata": {},
   "outputs": [
    {
     "name": "stdout",
     "output_type": "stream",
     "text": [
      "https://www.klgtu.ru/media/obyavleniya/fond_sodeystviya_innovatsiyam_otkryl_priyem_zayavok_na_v_ochered_konkursa_studencheskiy_startap/\n",
      "Фонд содействия инновациям открыл приём заявок на V очередь конкурса «Студенческий стартап» - заголовок страницы;; Фонд содействия инновациям открыл приём заявок на V очередь конкурса «Студенческий стартап»! ;;Две тысячи – именно столько студентов в этом году смогут выиграть грант в 1 млн рублей! ;;Всё о конкурсе – на странице: https://fasie.ru/studstartup/ ;;Заполняйте форму, чтобы получить инструкцию по подаче заявки! ;;Направления проектов: ;;- цифровые технологии; ;;- медицина и технологии здоровьесбережения; ;;- химические технологии и новые материалы; ;;- новые приборы и интеллектуальные производственные технологии; ;;- биотехнологии; ;;- ресурсосберегающая энергетика; ;;- креативные индустрии. ;;Приоритет получат проекты в области микроэлектроники, БПЛА, станкостроения, ИИ и цифровых технологий, а также персонализированной медицины и агробиотехнологий. ;;«Имея всероссийский и международный характер, «Студенческий стартап» является доступным инструментом поддержки для наиболее широкого числа студентов, стремящихся воплотить свои идеи в реальность. Именно поэтому мы упростили форму подачи заявки, сделав её более компактной и понятной», – комментирует генеральный директор Фонда содействия инновациям Сергей Поляков. ;;Гранты будут предоставляться в рамках федерального проекта «Платформа университетского технологического предпринимательства» ;;Приём заявок – до 15 апреля 2024 года! ;;Дополнительные консультации по вопросам участия в конкурсном отборе можно получить в центре молодежной науки и предпринимательства: ;;Мороз Елена Дмитриевна, телефон 8 (4012) 995-994, e-mail: elena.moroz@klgtu.ru ;;Веселовский Кирилл Константинович, телефон 8 (4012) 995-994 ;;e-mail: kirill.veselovskij@klgtu.ru\n"
     ]
    }
   ],
   "source": [
    "print(programms_df.iloc[2]['url'])\n",
    "print(programms_df.iloc[2]['context'])"
   ]
  },
  {
   "cell_type": "code",
   "execution_count": 6,
   "metadata": {},
   "outputs": [],
   "source": [
    "programms_df.to_json('parsing_obyava.json', orient='records', force_ascii=False)"
   ]
  },
  {
   "cell_type": "markdown",
   "metadata": {},
   "source": [
    "### Блок \"Документы студенческого городка\""
   ]
  },
  {
   "cell_type": "code",
   "execution_count": 22,
   "metadata": {},
   "outputs": [],
   "source": [
    "from block_parsers import Kgtu_studgorodok_parser\n",
    "programms_parser = Kgtu_studgorodok_parser(time_sleep=False)"
   ]
  },
  {
   "cell_type": "code",
   "execution_count": 23,
   "metadata": {},
   "outputs": [
    {
     "name": "stdout",
     "output_type": "stream",
     "text": [
      "Cпарсено 6 документов\n"
     ]
    }
   ],
   "source": [
    "programms_df = parse_data(programms_parser)"
   ]
  },
  {
   "cell_type": "code",
   "execution_count": 24,
   "metadata": {},
   "outputs": [
    {
     "data": {
      "text/html": [
       "<div>\n",
       "<style scoped>\n",
       "    .dataframe tbody tr th:only-of-type {\n",
       "        vertical-align: middle;\n",
       "    }\n",
       "\n",
       "    .dataframe tbody tr th {\n",
       "        vertical-align: top;\n",
       "    }\n",
       "\n",
       "    .dataframe thead th {\n",
       "        text-align: right;\n",
       "    }\n",
       "</style>\n",
       "<table border=\"1\" class=\"dataframe\">\n",
       "  <thead>\n",
       "    <tr style=\"text-align: right;\">\n",
       "      <th></th>\n",
       "      <th>url</th>\n",
       "      <th>topic_block</th>\n",
       "      <th>parsing_date</th>\n",
       "      <th>public_date</th>\n",
       "      <th>title</th>\n",
       "      <th>context</th>\n",
       "      <th>html</th>\n",
       "    </tr>\n",
       "  </thead>\n",
       "  <tbody>\n",
       "    <tr>\n",
       "      <th>0</th>\n",
       "      <td>https://www.klgtu.ru/upload/iblock/50b/q7a37uo...</td>\n",
       "      <td>studgorodok</td>\n",
       "      <td>2024-04-06</td>\n",
       "      <td>None</td>\n",
       "      <td>None</td>\n",
       "      <td>;. None</td>\n",
       "      <td>None</td>\n",
       "    </tr>\n",
       "    <tr>\n",
       "      <th>1</th>\n",
       "      <td>https://www.klgtu.ru/upload/iblock/3b4/q74o2pn...</td>\n",
       "      <td>studgorodok</td>\n",
       "      <td>2024-04-06</td>\n",
       "      <td>None</td>\n",
       "      <td>None</td>\n",
       "      <td>;. None</td>\n",
       "      <td>None</td>\n",
       "    </tr>\n",
       "    <tr>\n",
       "      <th>2</th>\n",
       "      <td>https://www.klgtu.ru/upload/iblock/85c/yhcjezl...</td>\n",
       "      <td>studgorodok</td>\n",
       "      <td>2024-04-06</td>\n",
       "      <td>None</td>\n",
       "      <td>None</td>\n",
       "      <td>;. None</td>\n",
       "      <td>None</td>\n",
       "    </tr>\n",
       "    <tr>\n",
       "      <th>3</th>\n",
       "      <td>https://www.klgtu.ru/upload/iblock/72f/eyyu78i...</td>\n",
       "      <td>studgorodok</td>\n",
       "      <td>2024-04-06</td>\n",
       "      <td>None</td>\n",
       "      <td>None</td>\n",
       "      <td>;. None</td>\n",
       "      <td>None</td>\n",
       "    </tr>\n",
       "    <tr>\n",
       "      <th>4</th>\n",
       "      <td>https://www.klgtu.ru/upload/iblock/c2a/si49xu9...</td>\n",
       "      <td>studgorodok</td>\n",
       "      <td>2024-04-06</td>\n",
       "      <td>None</td>\n",
       "      <td>None</td>\n",
       "      <td>;. None</td>\n",
       "      <td>None</td>\n",
       "    </tr>\n",
       "    <tr>\n",
       "      <th>5</th>\n",
       "      <td>https://www.klgtu.ru/upload/iblock/589/av8zc0j...</td>\n",
       "      <td>studgorodok</td>\n",
       "      <td>2024-04-06</td>\n",
       "      <td>None</td>\n",
       "      <td>None</td>\n",
       "      <td>;. None</td>\n",
       "      <td>None</td>\n",
       "    </tr>\n",
       "  </tbody>\n",
       "</table>\n",
       "</div>"
      ],
      "text/plain": [
       "                                                 url  topic_block  \\\n",
       "0  https://www.klgtu.ru/upload/iblock/50b/q7a37uo...  studgorodok   \n",
       "1  https://www.klgtu.ru/upload/iblock/3b4/q74o2pn...  studgorodok   \n",
       "2  https://www.klgtu.ru/upload/iblock/85c/yhcjezl...  studgorodok   \n",
       "3  https://www.klgtu.ru/upload/iblock/72f/eyyu78i...  studgorodok   \n",
       "4  https://www.klgtu.ru/upload/iblock/c2a/si49xu9...  studgorodok   \n",
       "5  https://www.klgtu.ru/upload/iblock/589/av8zc0j...  studgorodok   \n",
       "\n",
       "  parsing_date public_date title  context  html  \n",
       "0   2024-04-06        None  None  ;. None  None  \n",
       "1   2024-04-06        None  None  ;. None  None  \n",
       "2   2024-04-06        None  None  ;. None  None  \n",
       "3   2024-04-06        None  None  ;. None  None  \n",
       "4   2024-04-06        None  None  ;. None  None  \n",
       "5   2024-04-06        None  None  ;. None  None  "
      ]
     },
     "execution_count": 24,
     "metadata": {},
     "output_type": "execute_result"
    }
   ],
   "source": [
    "programms_df.head(6)"
   ]
  },
  {
   "cell_type": "code",
   "execution_count": 25,
   "metadata": {},
   "outputs": [
    {
     "name": "stdout",
     "output_type": "stream",
     "text": [
      "https://www.klgtu.ru/upload/iblock/589/av8zc0jm3yh7d4v2nnr97vylyeypr4ie.pdf\n"
     ]
    }
   ],
   "source": [
    "print(programms_df.iloc[5]['url'])"
   ]
  },
  {
   "cell_type": "code",
   "execution_count": 26,
   "metadata": {},
   "outputs": [],
   "source": [
    "programms_df.to_json('parsing_studgorodok.json', orient='records', force_ascii=False)"
   ]
  },
  {
   "cell_type": "markdown",
   "metadata": {},
   "source": [
    "### Блок \"Документы практики\""
   ]
  },
  {
   "cell_type": "code",
   "execution_count": 27,
   "metadata": {},
   "outputs": [],
   "source": [
    "from block_parsers import Kgtu_praktika_parser\n",
    "programms_parser = Kgtu_praktika_parser(time_sleep=False)"
   ]
  },
  {
   "cell_type": "code",
   "execution_count": 28,
   "metadata": {},
   "outputs": [
    {
     "name": "stdout",
     "output_type": "stream",
     "text": [
      "Cпарсено 9 документов\n"
     ]
    }
   ],
   "source": [
    "programms_df = parse_data(programms_parser)"
   ]
  },
  {
   "cell_type": "code",
   "execution_count": 29,
   "metadata": {},
   "outputs": [
    {
     "data": {
      "text/html": [
       "<div>\n",
       "<style scoped>\n",
       "    .dataframe tbody tr th:only-of-type {\n",
       "        vertical-align: middle;\n",
       "    }\n",
       "\n",
       "    .dataframe tbody tr th {\n",
       "        vertical-align: top;\n",
       "    }\n",
       "\n",
       "    .dataframe thead th {\n",
       "        text-align: right;\n",
       "    }\n",
       "</style>\n",
       "<table border=\"1\" class=\"dataframe\">\n",
       "  <thead>\n",
       "    <tr style=\"text-align: right;\">\n",
       "      <th></th>\n",
       "      <th>url</th>\n",
       "      <th>topic_block</th>\n",
       "      <th>parsing_date</th>\n",
       "      <th>public_date</th>\n",
       "      <th>title</th>\n",
       "      <th>context</th>\n",
       "      <th>html</th>\n",
       "    </tr>\n",
       "  </thead>\n",
       "  <tbody>\n",
       "    <tr>\n",
       "      <th>0</th>\n",
       "      <td>https://www.klgtu.ru/upload/iblock/721/rnccfhq...</td>\n",
       "      <td>praktika</td>\n",
       "      <td>2024-04-06</td>\n",
       "      <td>None</td>\n",
       "      <td>None</td>\n",
       "      <td>;. None</td>\n",
       "      <td>None</td>\n",
       "    </tr>\n",
       "    <tr>\n",
       "      <th>1</th>\n",
       "      <td>https://www.klgtu.ru/upload/iblock/65c/gaqqbp9...</td>\n",
       "      <td>praktika</td>\n",
       "      <td>2024-04-06</td>\n",
       "      <td>None</td>\n",
       "      <td>None</td>\n",
       "      <td>;. None</td>\n",
       "      <td>None</td>\n",
       "    </tr>\n",
       "    <tr>\n",
       "      <th>2</th>\n",
       "      <td>https://www.klgtu.ru/upload/iblock/a9e/oejkf23...</td>\n",
       "      <td>praktika</td>\n",
       "      <td>2024-04-06</td>\n",
       "      <td>None</td>\n",
       "      <td>None</td>\n",
       "      <td>;. None</td>\n",
       "      <td>None</td>\n",
       "    </tr>\n",
       "    <tr>\n",
       "      <th>3</th>\n",
       "      <td>https://www.klgtu.ru/upload/iblock/c07/2ks2mo7...</td>\n",
       "      <td>praktika</td>\n",
       "      <td>2024-04-06</td>\n",
       "      <td>None</td>\n",
       "      <td>None</td>\n",
       "      <td>;. None</td>\n",
       "      <td>None</td>\n",
       "    </tr>\n",
       "    <tr>\n",
       "      <th>4</th>\n",
       "      <td>https://www.klgtu.ru/upload/iblock/932/vgyqibo...</td>\n",
       "      <td>praktika</td>\n",
       "      <td>2024-04-06</td>\n",
       "      <td>None</td>\n",
       "      <td>None</td>\n",
       "      <td>;. None</td>\n",
       "      <td>None</td>\n",
       "    </tr>\n",
       "    <tr>\n",
       "      <th>5</th>\n",
       "      <td>https://www.klgtu.ru/upload/iblock/073/w3xpu13...</td>\n",
       "      <td>praktika</td>\n",
       "      <td>2024-04-06</td>\n",
       "      <td>None</td>\n",
       "      <td>None</td>\n",
       "      <td>;. None</td>\n",
       "      <td>None</td>\n",
       "    </tr>\n",
       "  </tbody>\n",
       "</table>\n",
       "</div>"
      ],
      "text/plain": [
       "                                                 url topic_block parsing_date  \\\n",
       "0  https://www.klgtu.ru/upload/iblock/721/rnccfhq...    praktika   2024-04-06   \n",
       "1  https://www.klgtu.ru/upload/iblock/65c/gaqqbp9...    praktika   2024-04-06   \n",
       "2  https://www.klgtu.ru/upload/iblock/a9e/oejkf23...    praktika   2024-04-06   \n",
       "3  https://www.klgtu.ru/upload/iblock/c07/2ks2mo7...    praktika   2024-04-06   \n",
       "4  https://www.klgtu.ru/upload/iblock/932/vgyqibo...    praktika   2024-04-06   \n",
       "5  https://www.klgtu.ru/upload/iblock/073/w3xpu13...    praktika   2024-04-06   \n",
       "\n",
       "  public_date title  context  html  \n",
       "0        None  None  ;. None  None  \n",
       "1        None  None  ;. None  None  \n",
       "2        None  None  ;. None  None  \n",
       "3        None  None  ;. None  None  \n",
       "4        None  None  ;. None  None  \n",
       "5        None  None  ;. None  None  "
      ]
     },
     "execution_count": 29,
     "metadata": {},
     "output_type": "execute_result"
    }
   ],
   "source": [
    "programms_df.head(6)"
   ]
  },
  {
   "cell_type": "code",
   "execution_count": 30,
   "metadata": {},
   "outputs": [
    {
     "name": "stdout",
     "output_type": "stream",
     "text": [
      "https://www.klgtu.ru/upload/iblock/073/w3xpu137t49zrptcin00p2pz27vy8fsf.docx\n"
     ]
    }
   ],
   "source": [
    "print(programms_df.iloc[5]['url'])"
   ]
  },
  {
   "cell_type": "code",
   "execution_count": 31,
   "metadata": {},
   "outputs": [],
   "source": [
    "programms_df.to_json('parsing_praktika.json', orient='records', force_ascii=False)"
   ]
  },
  {
   "cell_type": "markdown",
   "metadata": {},
   "source": [
    "### Блок \"Институты КГТУ\""
   ]
  },
  {
   "cell_type": "code",
   "execution_count": 2,
   "metadata": {},
   "outputs": [],
   "source": [
    "from block_parsers import Kgtu_instituts_parser\n",
    "programms_parser = Kgtu_instituts_parser(time_sleep=False)"
   ]
  },
  {
   "cell_type": "code",
   "execution_count": 3,
   "metadata": {},
   "outputs": [
    {
     "name": "stdout",
     "output_type": "stream",
     "text": [
      "Cпарсено 9 документов\n"
     ]
    }
   ],
   "source": [
    "programms_df = parse_data(programms_parser)"
   ]
  },
  {
   "cell_type": "code",
   "execution_count": 4,
   "metadata": {},
   "outputs": [
    {
     "data": {
      "text/html": [
       "<div>\n",
       "<style scoped>\n",
       "    .dataframe tbody tr th:only-of-type {\n",
       "        vertical-align: middle;\n",
       "    }\n",
       "\n",
       "    .dataframe tbody tr th {\n",
       "        vertical-align: top;\n",
       "    }\n",
       "\n",
       "    .dataframe thead th {\n",
       "        text-align: right;\n",
       "    }\n",
       "</style>\n",
       "<table border=\"1\" class=\"dataframe\">\n",
       "  <thead>\n",
       "    <tr style=\"text-align: right;\">\n",
       "      <th></th>\n",
       "      <th>url</th>\n",
       "      <th>topic_block</th>\n",
       "      <th>parsing_date</th>\n",
       "      <th>public_date</th>\n",
       "      <th>title</th>\n",
       "      <th>context</th>\n",
       "      <th>html</th>\n",
       "    </tr>\n",
       "  </thead>\n",
       "  <tbody>\n",
       "    <tr>\n",
       "      <th>0</th>\n",
       "      <td>https://www.klgtu.ru/institutes/institut_rybol...</td>\n",
       "      <td>instituts</td>\n",
       "      <td>2024-04-15</td>\n",
       "      <td>None</td>\n",
       "      <td>Институт рыболовства и а...</td>\n",
       "      <td>Институт рыболовства и аквакультуры - заголово...</td>\n",
       "      <td>&lt;main class=\"main\"&gt; &lt;section class=\"section mo...</td>\n",
       "    </tr>\n",
       "    <tr>\n",
       "      <th>1</th>\n",
       "      <td>https://www.klgtu.ru/institutes/institut_agroi...</td>\n",
       "      <td>instituts</td>\n",
       "      <td>2024-04-15</td>\n",
       "      <td>None</td>\n",
       "      <td>Институт агроинженерии и...</td>\n",
       "      <td>Институт агроинженерии и пищевых систем - заго...</td>\n",
       "      <td>&lt;main class=\"main\"&gt; &lt;section class=\"section mo...</td>\n",
       "    </tr>\n",
       "    <tr>\n",
       "      <th>2</th>\n",
       "      <td>https://www.klgtu.ru/institutes/institut_tsifr...</td>\n",
       "      <td>instituts</td>\n",
       "      <td>2024-04-15</td>\n",
       "      <td>None</td>\n",
       "      <td>Институт цифровых технол...</td>\n",
       "      <td>Институт цифровых технологий - заголовок стран...</td>\n",
       "      <td>&lt;main class=\"main\"&gt; &lt;section class=\"section mo...</td>\n",
       "    </tr>\n",
       "    <tr>\n",
       "      <th>3</th>\n",
       "      <td>https://www.klgtu.ru/institutes/institut_morsk...</td>\n",
       "      <td>instituts</td>\n",
       "      <td>2024-04-15</td>\n",
       "      <td>None</td>\n",
       "      <td>Институт морских техноло...</td>\n",
       "      <td>Институт морских технологий, энергетики и стро...</td>\n",
       "      <td>&lt;main class=\"main\"&gt; &lt;section class=\"section mo...</td>\n",
       "    </tr>\n",
       "    <tr>\n",
       "      <th>4</th>\n",
       "      <td>https://www.klgtu.ru/institutes/institut_inzhe...</td>\n",
       "      <td>instituts</td>\n",
       "      <td>2024-04-15</td>\n",
       "      <td>None</td>\n",
       "      <td>Институт инженерной педа...</td>\n",
       "      <td>Институт инженерной педагогики и гуманитарной ...</td>\n",
       "      <td>&lt;main class=\"main\"&gt; &lt;section class=\"section mo...</td>\n",
       "    </tr>\n",
       "    <tr>\n",
       "      <th>5</th>\n",
       "      <td>https://www.klgtu.ru/institutes/institut_otras...</td>\n",
       "      <td>instituts</td>\n",
       "      <td>2024-04-15</td>\n",
       "      <td>None</td>\n",
       "      <td>Институт отраслевой экон...</td>\n",
       "      <td>Институт отраслевой экономики и управления - з...</td>\n",
       "      <td>&lt;main class=\"main\"&gt; &lt;section class=\"section mo...</td>\n",
       "    </tr>\n",
       "    <tr>\n",
       "      <th>6</th>\n",
       "      <td>https://www.klgtu.ru/institutes/kaliningradski...</td>\n",
       "      <td>instituts</td>\n",
       "      <td>2024-04-15</td>\n",
       "      <td>None</td>\n",
       "      <td>Калининградский морской ...</td>\n",
       "      <td>Калининградский морской рыбопромышленный колле...</td>\n",
       "      <td>&lt;main class=\"main\"&gt; &lt;section class=\"section bg...</td>\n",
       "    </tr>\n",
       "    <tr>\n",
       "      <th>7</th>\n",
       "      <td>https://www.klgtu.ru/institutes/morskoy_institut/</td>\n",
       "      <td>instituts</td>\n",
       "      <td>2024-04-15</td>\n",
       "      <td>None</td>\n",
       "      <td>Морской институт        ...</td>\n",
       "      <td>Морской институт - заголовок страницы;; Контак...</td>\n",
       "      <td>&lt;main class=\"main\"&gt; &lt;section class=\"section mo...</td>\n",
       "    </tr>\n",
       "    <tr>\n",
       "      <th>8</th>\n",
       "      <td>https://www.klgtu.ru/institutes/sankt_peterbur...</td>\n",
       "      <td>instituts</td>\n",
       "      <td>2024-04-15</td>\n",
       "      <td>None</td>\n",
       "      <td>Санкт-Петербургский морс...</td>\n",
       "      <td>Санкт-Петербургский морской рыбопромышленный к...</td>\n",
       "      <td>&lt;main class=\"main\"&gt; &lt;section class=\"section bg...</td>\n",
       "    </tr>\n",
       "  </tbody>\n",
       "</table>\n",
       "</div>"
      ],
      "text/plain": [
       "                                                 url topic_block parsing_date  \\\n",
       "0  https://www.klgtu.ru/institutes/institut_rybol...   instituts   2024-04-15   \n",
       "1  https://www.klgtu.ru/institutes/institut_agroi...   instituts   2024-04-15   \n",
       "2  https://www.klgtu.ru/institutes/institut_tsifr...   instituts   2024-04-15   \n",
       "3  https://www.klgtu.ru/institutes/institut_morsk...   instituts   2024-04-15   \n",
       "4  https://www.klgtu.ru/institutes/institut_inzhe...   instituts   2024-04-15   \n",
       "5  https://www.klgtu.ru/institutes/institut_otras...   instituts   2024-04-15   \n",
       "6  https://www.klgtu.ru/institutes/kaliningradski...   instituts   2024-04-15   \n",
       "7  https://www.klgtu.ru/institutes/morskoy_institut/   instituts   2024-04-15   \n",
       "8  https://www.klgtu.ru/institutes/sankt_peterbur...   instituts   2024-04-15   \n",
       "\n",
       "  public_date                                              title  \\\n",
       "0        None                        Институт рыболовства и а...   \n",
       "1        None                        Институт агроинженерии и...   \n",
       "2        None                        Институт цифровых технол...   \n",
       "3        None                        Институт морских техноло...   \n",
       "4        None                        Институт инженерной педа...   \n",
       "5        None                        Институт отраслевой экон...   \n",
       "6        None                        Калининградский морской ...   \n",
       "7        None                        Морской институт        ...   \n",
       "8        None                        Санкт-Петербургский морс...   \n",
       "\n",
       "                                             context  \\\n",
       "0  Институт рыболовства и аквакультуры - заголово...   \n",
       "1  Институт агроинженерии и пищевых систем - заго...   \n",
       "2  Институт цифровых технологий - заголовок стран...   \n",
       "3  Институт морских технологий, энергетики и стро...   \n",
       "4  Институт инженерной педагогики и гуманитарной ...   \n",
       "5  Институт отраслевой экономики и управления - з...   \n",
       "6  Калининградский морской рыбопромышленный колле...   \n",
       "7  Морской институт - заголовок страницы;; Контак...   \n",
       "8  Санкт-Петербургский морской рыбопромышленный к...   \n",
       "\n",
       "                                                html  \n",
       "0  <main class=\"main\"> <section class=\"section mo...  \n",
       "1  <main class=\"main\"> <section class=\"section mo...  \n",
       "2  <main class=\"main\"> <section class=\"section mo...  \n",
       "3  <main class=\"main\"> <section class=\"section mo...  \n",
       "4  <main class=\"main\"> <section class=\"section mo...  \n",
       "5  <main class=\"main\"> <section class=\"section mo...  \n",
       "6  <main class=\"main\"> <section class=\"section bg...  \n",
       "7  <main class=\"main\"> <section class=\"section mo...  \n",
       "8  <main class=\"main\"> <section class=\"section bg...  "
      ]
     },
     "execution_count": 4,
     "metadata": {},
     "output_type": "execute_result"
    }
   ],
   "source": [
    "programms_df.head(9)"
   ]
  },
  {
   "cell_type": "code",
   "execution_count": 5,
   "metadata": {},
   "outputs": [
    {
     "name": "stdout",
     "output_type": "stream",
     "text": [
      "Институт цифровых технологий - заголовок страницы;; Контакты ДИРЕКЦИЯ ; тел: 8 (4012) 99-59-55; email tristanov@digital.klgtu.ru; адрес г. Калининград, Советский проспект, 1 ; режим работы ПН-ПТ 8:30 – 17:00 ; обеденный перерыв 13:00 – 13:30 ; соц. сети ;;Контакты СТУДЕНЧЕСКИЙ ОФИС ; тел: 8 (4012) 99-53-78; email stoffice@digital-klgtu.ru; адрес г. Калининград, Советский проспект, 1 ; режим работы ПН-ПТ 9:00 – 17:00 ; обеденный перерыв 13:00 – 13:30 ;;Кафедра цифровых систем и автоматики; Кафедра прикладной информатики; Кафедра прикладной математики и информационных технологий; Кафедра информационной безопасности\n"
     ]
    }
   ],
   "source": [
    "print(programms_df.iloc[2]['context'])"
   ]
  },
  {
   "cell_type": "code",
   "execution_count": 6,
   "metadata": {},
   "outputs": [],
   "source": [
    "programms_df.to_json('parsing_instituts.json', orient='records', force_ascii=False)"
   ]
  },
  {
   "cell_type": "markdown",
   "metadata": {},
   "source": [
    "### Блок \"Новости на английском сайта КГТУ\""
   ]
  },
  {
   "cell_type": "code",
   "execution_count": 12,
   "metadata": {},
   "outputs": [],
   "source": [
    "from block_parsers import Kgtu_news_en_parser\n",
    "programms_parser = Kgtu_news_en_parser(3, time_sleep=False)"
   ]
  },
  {
   "cell_type": "code",
   "execution_count": 13,
   "metadata": {},
   "outputs": [
    {
     "name": "stdout",
     "output_type": "stream",
     "text": [
      "Cпарсено 30 документов\n"
     ]
    }
   ],
   "source": [
    "programms_df = parse_data(programms_parser)"
   ]
  },
  {
   "cell_type": "code",
   "execution_count": 14,
   "metadata": {},
   "outputs": [
    {
     "data": {
      "text/html": [
       "<div>\n",
       "<style scoped>\n",
       "    .dataframe tbody tr th:only-of-type {\n",
       "        vertical-align: middle;\n",
       "    }\n",
       "\n",
       "    .dataframe tbody tr th {\n",
       "        vertical-align: top;\n",
       "    }\n",
       "\n",
       "    .dataframe thead th {\n",
       "        text-align: right;\n",
       "    }\n",
       "</style>\n",
       "<table border=\"1\" class=\"dataframe\">\n",
       "  <thead>\n",
       "    <tr style=\"text-align: right;\">\n",
       "      <th></th>\n",
       "      <th>url</th>\n",
       "      <th>topic_block</th>\n",
       "      <th>parsing_date</th>\n",
       "      <th>public_date</th>\n",
       "      <th>title</th>\n",
       "      <th>context</th>\n",
       "      <th>html</th>\n",
       "    </tr>\n",
       "  </thead>\n",
       "  <tbody>\n",
       "    <tr>\n",
       "      <th>0</th>\n",
       "      <td>https://www.klgtu.ru/en/media/news_en/kstu-con...</td>\n",
       "      <td>news_en</td>\n",
       "      <td>2024-04-12</td>\n",
       "      <td>2024-03-13</td>\n",
       "      <td>KSTU conducted the opening ceremony of an...</td>\n",
       "      <td>KSTU conducted the opening ceremony of an inte...</td>\n",
       "      <td>&lt;main class=\"main\"&gt;&lt;section class=\"section pt-...</td>\n",
       "    </tr>\n",
       "    <tr>\n",
       "      <th>1</th>\n",
       "      <td>https://www.klgtu.ru/en/media/news_en/kstu-mas...</td>\n",
       "      <td>news_en</td>\n",
       "      <td>2024-04-12</td>\n",
       "      <td>2024-03-04</td>\n",
       "      <td>KSTU master’s students spoke at the inter...</td>\n",
       "      <td>KSTU master’s students spoke at the internatio...</td>\n",
       "      <td>&lt;main class=\"main\"&gt;&lt;section class=\"section pt-...</td>\n",
       "    </tr>\n",
       "    <tr>\n",
       "      <th>2</th>\n",
       "      <td>https://www.klgtu.ru/en/media/news_en/kstu-stu...</td>\n",
       "      <td>news_en</td>\n",
       "      <td>2024-04-12</td>\n",
       "      <td>2024-03-01</td>\n",
       "      <td>KSTU student - participant of the Exhibit...</td>\n",
       "      <td>KSTU student - participant of the Exhibition-F...</td>\n",
       "      <td>&lt;main class=\"main\"&gt;&lt;section class=\"section pt-...</td>\n",
       "    </tr>\n",
       "    <tr>\n",
       "      <th>3</th>\n",
       "      <td>https://www.klgtu.ru/en/media/news_en/kstu-stu...</td>\n",
       "      <td>news_en</td>\n",
       "      <td>2024-04-12</td>\n",
       "      <td>2024-02-19</td>\n",
       "      <td>KSTU students discussed the use of innova...</td>\n",
       "      <td>KSTU students discussed the use of innovative ...</td>\n",
       "      <td>&lt;main class=\"main\"&gt;&lt;section class=\"section pt-...</td>\n",
       "    </tr>\n",
       "    <tr>\n",
       "      <th>4</th>\n",
       "      <td>https://www.klgtu.ru/en/media/news_en/kstu-hos...</td>\n",
       "      <td>news_en</td>\n",
       "      <td>2024-04-12</td>\n",
       "      <td>2024-02-15</td>\n",
       "      <td>KSTU hosted a scientific conference Nutri...</td>\n",
       "      <td>KSTU hosted a scientific conference Nutrition....</td>\n",
       "      <td>&lt;main class=\"main\"&gt;&lt;section class=\"section pt-...</td>\n",
       "    </tr>\n",
       "    <tr>\n",
       "      <th>5</th>\n",
       "      <td>https://www.klgtu.ru/en/media/news_en/young-sc...</td>\n",
       "      <td>news_en</td>\n",
       "      <td>2024-04-12</td>\n",
       "      <td>2024-02-12</td>\n",
       "      <td>Young Scientist</td>\n",
       "      <td>Young Scientist - заголовок страницы;; From Fe...</td>\n",
       "      <td>&lt;main class=\"main\"&gt;&lt;section class=\"section pt-...</td>\n",
       "    </tr>\n",
       "  </tbody>\n",
       "</table>\n",
       "</div>"
      ],
      "text/plain": [
       "                                                 url topic_block parsing_date  \\\n",
       "0  https://www.klgtu.ru/en/media/news_en/kstu-con...     news_en   2024-04-12   \n",
       "1  https://www.klgtu.ru/en/media/news_en/kstu-mas...     news_en   2024-04-12   \n",
       "2  https://www.klgtu.ru/en/media/news_en/kstu-stu...     news_en   2024-04-12   \n",
       "3  https://www.klgtu.ru/en/media/news_en/kstu-stu...     news_en   2024-04-12   \n",
       "4  https://www.klgtu.ru/en/media/news_en/kstu-hos...     news_en   2024-04-12   \n",
       "5  https://www.klgtu.ru/en/media/news_en/young-sc...     news_en   2024-04-12   \n",
       "\n",
       "  public_date                                              title  \\\n",
       "0  2024-03-13       KSTU conducted the opening ceremony of an...   \n",
       "1  2024-03-04       KSTU master’s students spoke at the inter...   \n",
       "2  2024-03-01       KSTU student - participant of the Exhibit...   \n",
       "3  2024-02-19       KSTU students discussed the use of innova...   \n",
       "4  2024-02-15       KSTU hosted a scientific conference Nutri...   \n",
       "5  2024-02-12                                    Young Scientist   \n",
       "\n",
       "                                             context  \\\n",
       "0  KSTU conducted the opening ceremony of an inte...   \n",
       "1  KSTU master’s students spoke at the internatio...   \n",
       "2  KSTU student - participant of the Exhibition-F...   \n",
       "3  KSTU students discussed the use of innovative ...   \n",
       "4  KSTU hosted a scientific conference Nutrition....   \n",
       "5  Young Scientist - заголовок страницы;; From Fe...   \n",
       "\n",
       "                                                html  \n",
       "0  <main class=\"main\"><section class=\"section pt-...  \n",
       "1  <main class=\"main\"><section class=\"section pt-...  \n",
       "2  <main class=\"main\"><section class=\"section pt-...  \n",
       "3  <main class=\"main\"><section class=\"section pt-...  \n",
       "4  <main class=\"main\"><section class=\"section pt-...  \n",
       "5  <main class=\"main\"><section class=\"section pt-...  "
      ]
     },
     "execution_count": 14,
     "metadata": {},
     "output_type": "execute_result"
    }
   ],
   "source": [
    "programms_df.head(6)"
   ]
  },
  {
   "cell_type": "code",
   "execution_count": 15,
   "metadata": {},
   "outputs": [
    {
     "name": "stdout",
     "output_type": "stream",
     "text": [
      "https://www.klgtu.ru/en/media/news_en/kstu-conducted-the-opening-ceremony-of-an-international-educational-project/\n",
      "KSTU conducted the opening ceremony of an international educational project - заголовок страницы;; On March 13, KSTU hosted the opening of the joint educational online project of the EAEU countries, Cultivation of valuable fish species in closed water supply systems. ;;Representatives from several universities and scientific organisations from Russia, Belarus, Armenia and Kyrgyzstan took part in the international event. Our university was represented in the project by V. I. Ustich, Vice-Rector for Academic Affairs, and O. A. Novozhilov, Director of the Institute of Fisheries and Aquaculture. ;;The first welcoming speech to the project participants was delivered by A. A. Harutyunyan, Director of the Department of Agro-Industrial Policy of the Eurasian Economic Commission. The course participants were also welcomed by V. I. Sokolov, Deputy Head of the Federal Agency for Fishery (Rosrybolovstvo). ;;During the project, the representatives of the industry in the videoconference mode will consider topical issues of commercial fish breeding in industrial aquaculture: production and choice of feed, prevention and treatment of diseases, selection and farming. As part of the course, the participants will also discuss such an important technical issue as software development.\n"
     ]
    }
   ],
   "source": [
    "print(programms_df.iloc[0]['url'])\n",
    "print(programms_df.iloc[0]['context'])"
   ]
  },
  {
   "cell_type": "code",
   "execution_count": 16,
   "metadata": {},
   "outputs": [],
   "source": [
    "programms_df.to_json('parsing_news_en.json', orient='records', force_ascii=False)"
   ]
  },
  {
   "cell_type": "markdown",
   "metadata": {},
   "source": [
    "### Блок \"Образовательные программы на английском\""
   ]
  },
  {
   "cell_type": "code",
   "execution_count": 42,
   "metadata": {},
   "outputs": [],
   "source": [
    "from block_parsers import Edu_programms_en_parser\n",
    "programms_parser = Edu_programms_en_parser(time_sleep=False)"
   ]
  },
  {
   "cell_type": "code",
   "execution_count": 43,
   "metadata": {},
   "outputs": [
    {
     "name": "stdout",
     "output_type": "stream",
     "text": [
      "Cпарсено 56 документов\n"
     ]
    }
   ],
   "source": [
    "programms_df = parse_data(programms_parser)"
   ]
  },
  {
   "cell_type": "code",
   "execution_count": 44,
   "metadata": {},
   "outputs": [
    {
     "data": {
      "text/html": [
       "<div>\n",
       "<style scoped>\n",
       "    .dataframe tbody tr th:only-of-type {\n",
       "        vertical-align: middle;\n",
       "    }\n",
       "\n",
       "    .dataframe tbody tr th {\n",
       "        vertical-align: top;\n",
       "    }\n",
       "\n",
       "    .dataframe thead th {\n",
       "        text-align: right;\n",
       "    }\n",
       "</style>\n",
       "<table border=\"1\" class=\"dataframe\">\n",
       "  <thead>\n",
       "    <tr style=\"text-align: right;\">\n",
       "      <th></th>\n",
       "      <th>url</th>\n",
       "      <th>topic_block</th>\n",
       "      <th>parsing_date</th>\n",
       "      <th>public_date</th>\n",
       "      <th>title</th>\n",
       "      <th>context</th>\n",
       "      <th>html</th>\n",
       "    </tr>\n",
       "  </thead>\n",
       "  <tbody>\n",
       "    <tr>\n",
       "      <th>0</th>\n",
       "      <td>https://www.klgtu.ru/upload/abitur/buklet/ep.pdf</td>\n",
       "      <td>edu_programms_en</td>\n",
       "      <td>2024-04-06</td>\n",
       "      <td>None</td>\n",
       "      <td>None</td>\n",
       "      <td>;. None</td>\n",
       "      <td>None</td>\n",
       "    </tr>\n",
       "    <tr>\n",
       "      <th>1</th>\n",
       "      <td>https://www.klgtu.ru/upload/abitur/buklet/st.pdf</td>\n",
       "      <td>edu_programms_en</td>\n",
       "      <td>2024-04-06</td>\n",
       "      <td>None</td>\n",
       "      <td>None</td>\n",
       "      <td>;. None</td>\n",
       "      <td>None</td>\n",
       "    </tr>\n",
       "    <tr>\n",
       "      <th>2</th>\n",
       "      <td>https://www.klgtu.ru/upload/abitur/buklet/vt.pdf</td>\n",
       "      <td>edu_programms_en</td>\n",
       "      <td>2024-04-06</td>\n",
       "      <td>None</td>\n",
       "      <td>None</td>\n",
       "      <td>;. None</td>\n",
       "      <td>None</td>\n",
       "    </tr>\n",
       "    <tr>\n",
       "      <th>3</th>\n",
       "      <td>https://www.klgtu.ru/upload/abitur/buklet/is.pdf</td>\n",
       "      <td>edu_programms_en</td>\n",
       "      <td>2024-04-06</td>\n",
       "      <td>None</td>\n",
       "      <td>None</td>\n",
       "      <td>;. None</td>\n",
       "      <td>None</td>\n",
       "    </tr>\n",
       "    <tr>\n",
       "      <th>4</th>\n",
       "      <td>https://www.klgtu.ru/upload/abitur/buklet/pi.pdf</td>\n",
       "      <td>edu_programms_en</td>\n",
       "      <td>2024-04-06</td>\n",
       "      <td>None</td>\n",
       "      <td>None</td>\n",
       "      <td>;. None</td>\n",
       "      <td>None</td>\n",
       "    </tr>\n",
       "    <tr>\n",
       "      <th>5</th>\n",
       "      <td>https://www.klgtu.ru/upload/abitur/buklet/te.pdf</td>\n",
       "      <td>edu_programms_en</td>\n",
       "      <td>2024-04-06</td>\n",
       "      <td>None</td>\n",
       "      <td>None</td>\n",
       "      <td>;. None</td>\n",
       "      <td>None</td>\n",
       "    </tr>\n",
       "  </tbody>\n",
       "</table>\n",
       "</div>"
      ],
      "text/plain": [
       "                                                url       topic_block  \\\n",
       "0  https://www.klgtu.ru/upload/abitur/buklet/ep.pdf  edu_programms_en   \n",
       "1  https://www.klgtu.ru/upload/abitur/buklet/st.pdf  edu_programms_en   \n",
       "2  https://www.klgtu.ru/upload/abitur/buklet/vt.pdf  edu_programms_en   \n",
       "3  https://www.klgtu.ru/upload/abitur/buklet/is.pdf  edu_programms_en   \n",
       "4  https://www.klgtu.ru/upload/abitur/buklet/pi.pdf  edu_programms_en   \n",
       "5  https://www.klgtu.ru/upload/abitur/buklet/te.pdf  edu_programms_en   \n",
       "\n",
       "  parsing_date public_date title  context  html  \n",
       "0   2024-04-06        None  None  ;. None  None  \n",
       "1   2024-04-06        None  None  ;. None  None  \n",
       "2   2024-04-06        None  None  ;. None  None  \n",
       "3   2024-04-06        None  None  ;. None  None  \n",
       "4   2024-04-06        None  None  ;. None  None  \n",
       "5   2024-04-06        None  None  ;. None  None  "
      ]
     },
     "execution_count": 44,
     "metadata": {},
     "output_type": "execute_result"
    }
   ],
   "source": [
    "programms_df.head(6)"
   ]
  },
  {
   "cell_type": "code",
   "execution_count": 45,
   "metadata": {},
   "outputs": [
    {
     "name": "stdout",
     "output_type": "stream",
     "text": [
      "https://www.klgtu.ru/upload/abitur/buklet/te.pdf\n"
     ]
    }
   ],
   "source": [
    "print(programms_df.iloc[5]['url'])"
   ]
  },
  {
   "cell_type": "code",
   "execution_count": 46,
   "metadata": {},
   "outputs": [],
   "source": [
    "programms_df.to_json('parsing_edu_programms_en.json', orient='records', force_ascii=False)"
   ]
  },
  {
   "cell_type": "markdown",
   "metadata": {},
   "source": [
    "### Блок \"Институты на английском\""
   ]
  },
  {
   "cell_type": "code",
   "execution_count": 7,
   "metadata": {},
   "outputs": [],
   "source": [
    "from block_parsers import Kgtu_instituts_en_parser\n",
    "programms_parser = Kgtu_instituts_en_parser(time_sleep=False)"
   ]
  },
  {
   "cell_type": "code",
   "execution_count": 8,
   "metadata": {},
   "outputs": [
    {
     "name": "stdout",
     "output_type": "stream",
     "text": [
      "Cпарсено 5 документов\n"
     ]
    }
   ],
   "source": [
    "programms_df = parse_data(programms_parser)"
   ]
  },
  {
   "cell_type": "code",
   "execution_count": 9,
   "metadata": {},
   "outputs": [
    {
     "data": {
      "text/html": [
       "<div>\n",
       "<style scoped>\n",
       "    .dataframe tbody tr th:only-of-type {\n",
       "        vertical-align: middle;\n",
       "    }\n",
       "\n",
       "    .dataframe tbody tr th {\n",
       "        vertical-align: top;\n",
       "    }\n",
       "\n",
       "    .dataframe thead th {\n",
       "        text-align: right;\n",
       "    }\n",
       "</style>\n",
       "<table border=\"1\" class=\"dataframe\">\n",
       "  <thead>\n",
       "    <tr style=\"text-align: right;\">\n",
       "      <th></th>\n",
       "      <th>url</th>\n",
       "      <th>topic_block</th>\n",
       "      <th>parsing_date</th>\n",
       "      <th>public_date</th>\n",
       "      <th>title</th>\n",
       "      <th>context</th>\n",
       "      <th>html</th>\n",
       "    </tr>\n",
       "  </thead>\n",
       "  <tbody>\n",
       "    <tr>\n",
       "      <th>0</th>\n",
       "      <td>https://www.klgtu.ru/en/institutes/institute_o...</td>\n",
       "      <td>instituts</td>\n",
       "      <td>2024-04-15</td>\n",
       "      <td>None</td>\n",
       "      <td>Institute of Agricultura...</td>\n",
       "      <td>Institute of Agricultural Engineering and Food...</td>\n",
       "      <td>&lt;main class=\"main\"&gt; &lt;section class=\"section mo...</td>\n",
       "    </tr>\n",
       "    <tr>\n",
       "      <th>1</th>\n",
       "      <td>https://www.klgtu.ru/en/institutes/institute_o...</td>\n",
       "      <td>instituts</td>\n",
       "      <td>2024-04-15</td>\n",
       "      <td>None</td>\n",
       "      <td>Institute of Digital Tec...</td>\n",
       "      <td>Institute of Digital Technologies - заголовок ...</td>\n",
       "      <td>&lt;main class=\"main\"&gt; &lt;section class=\"section mo...</td>\n",
       "    </tr>\n",
       "    <tr>\n",
       "      <th>2</th>\n",
       "      <td>https://www.klgtu.ru/en/institutes/institute_o...</td>\n",
       "      <td>instituts</td>\n",
       "      <td>2024-04-15</td>\n",
       "      <td>None</td>\n",
       "      <td>Institute of Fisheries a...</td>\n",
       "      <td>Institute of Fisheries and Aquaculture - загол...</td>\n",
       "      <td>&lt;main class=\"main\"&gt; &lt;section class=\"section mo...</td>\n",
       "    </tr>\n",
       "    <tr>\n",
       "      <th>3</th>\n",
       "      <td>https://www.klgtu.ru/en/institutes/institute_o...</td>\n",
       "      <td>instituts</td>\n",
       "      <td>2024-04-15</td>\n",
       "      <td>None</td>\n",
       "      <td>Institute of Industry-Ba...</td>\n",
       "      <td>Institute of Industry-Based Economics and Mana...</td>\n",
       "      <td>&lt;main class=\"main\"&gt; &lt;section class=\"section mo...</td>\n",
       "    </tr>\n",
       "    <tr>\n",
       "      <th>4</th>\n",
       "      <td>https://www.klgtu.ru/en/institutes/institute_o...</td>\n",
       "      <td>instituts</td>\n",
       "      <td>2024-04-15</td>\n",
       "      <td>None</td>\n",
       "      <td>Institute of Marine Tech...</td>\n",
       "      <td>Institute of Marine Technologies, Power Engine...</td>\n",
       "      <td>&lt;main class=\"main\"&gt; &lt;section class=\"section mo...</td>\n",
       "    </tr>\n",
       "  </tbody>\n",
       "</table>\n",
       "</div>"
      ],
      "text/plain": [
       "                                                 url topic_block parsing_date  \\\n",
       "0  https://www.klgtu.ru/en/institutes/institute_o...   instituts   2024-04-15   \n",
       "1  https://www.klgtu.ru/en/institutes/institute_o...   instituts   2024-04-15   \n",
       "2  https://www.klgtu.ru/en/institutes/institute_o...   instituts   2024-04-15   \n",
       "3  https://www.klgtu.ru/en/institutes/institute_o...   instituts   2024-04-15   \n",
       "4  https://www.klgtu.ru/en/institutes/institute_o...   instituts   2024-04-15   \n",
       "\n",
       "  public_date                                              title  \\\n",
       "0        None                        Institute of Agricultura...   \n",
       "1        None                        Institute of Digital Tec...   \n",
       "2        None                        Institute of Fisheries a...   \n",
       "3        None                        Institute of Industry-Ba...   \n",
       "4        None                        Institute of Marine Tech...   \n",
       "\n",
       "                                             context  \\\n",
       "0  Institute of Agricultural Engineering and Food...   \n",
       "1  Institute of Digital Technologies - заголовок ...   \n",
       "2  Institute of Fisheries and Aquaculture - загол...   \n",
       "3  Institute of Industry-Based Economics and Mana...   \n",
       "4  Institute of Marine Technologies, Power Engine...   \n",
       "\n",
       "                                                html  \n",
       "0  <main class=\"main\"> <section class=\"section mo...  \n",
       "1  <main class=\"main\"> <section class=\"section mo...  \n",
       "2  <main class=\"main\"> <section class=\"section mo...  \n",
       "3  <main class=\"main\"> <section class=\"section mo...  \n",
       "4  <main class=\"main\"> <section class=\"section mo...  "
      ]
     },
     "execution_count": 9,
     "metadata": {},
     "output_type": "execute_result"
    }
   ],
   "source": [
    "programms_df.head(6)"
   ]
  },
  {
   "cell_type": "code",
   "execution_count": 10,
   "metadata": {},
   "outputs": [
    {
     "name": "stdout",
     "output_type": "stream",
     "text": [
      "Institute of Digital Technologies - заголовок страницы;; Contacts DIRECTORATE ; phone +74012995955; email tristanov@digital.klgtu.ru; address Kaliningrad, Sovetsky Prospekt, 1 ; work time Mon-Fri 8:30 a.m – 5:00 p.m ; time break 1:00 – 1:30 p.m ; social network ;;Contacts STUDENT OFFICE ; phone +74012995378; email stoffice@digital-klgtu.ru; address Kaliningrad, Sovetsky Prospekt, 1 ; work time Mon-Fri 9:00 a.m – 5:00 p.m ; time break 1:00 – 1:30 p.m\n"
     ]
    }
   ],
   "source": [
    "print(programms_df.iloc[1]['context'])"
   ]
  },
  {
   "cell_type": "code",
   "execution_count": 11,
   "metadata": {},
   "outputs": [],
   "source": [
    "programms_df.to_json('parsing_instituts_en.json', orient='records', force_ascii=False)"
   ]
  },
  {
   "cell_type": "markdown",
   "metadata": {},
   "source": [
    "# Парсеры телеграмма"
   ]
  },
  {
   "cell_type": "markdown",
   "metadata": {},
   "source": [
    "### Блок \"Новости телеграмм-канала КГТУ\""
   ]
  },
  {
   "cell_type": "code",
   "execution_count": 2,
   "metadata": {},
   "outputs": [
    {
     "name": "stderr",
     "output_type": "stream",
     "text": [
      "[nltk_data] Downloading package punkt to\n",
      "[nltk_data]     C:\\Users\\GoLuBoK\\AppData\\Roaming\\nltk_data...\n",
      "[nltk_data]   Package punkt is already up-to-date!\n"
     ]
    }
   ],
   "source": [
    "from block_parsers_tg_kgtu import Telegram_parser_news"
   ]
  },
  {
   "cell_type": "code",
   "execution_count": 3,
   "metadata": {
    "scrolled": true
   },
   "outputs": [],
   "source": [
    "programms_df = pd.DataFrame(Telegram_parser_news.df)"
   ]
  },
  {
   "cell_type": "code",
   "execution_count": 4,
   "metadata": {},
   "outputs": [
    {
     "data": {
      "text/html": [
       "<div>\n",
       "<style scoped>\n",
       "    .dataframe tbody tr th:only-of-type {\n",
       "        vertical-align: middle;\n",
       "    }\n",
       "\n",
       "    .dataframe tbody tr th {\n",
       "        vertical-align: top;\n",
       "    }\n",
       "\n",
       "    .dataframe thead th {\n",
       "        text-align: right;\n",
       "    }\n",
       "</style>\n",
       "<table border=\"1\" class=\"dataframe\">\n",
       "  <thead>\n",
       "    <tr style=\"text-align: right;\">\n",
       "      <th></th>\n",
       "      <th>url</th>\n",
       "      <th>topic_block</th>\n",
       "      <th>parsing_date</th>\n",
       "      <th>public_date</th>\n",
       "      <th>title</th>\n",
       "      <th>context</th>\n",
       "      <th>html</th>\n",
       "    </tr>\n",
       "  </thead>\n",
       "  <tbody>\n",
       "    <tr>\n",
       "      <th>0</th>\n",
       "      <td>https://t.me/klgtu39/1783</td>\n",
       "      <td>tg_news</td>\n",
       "      <td>2024-04-19</td>\n",
       "      <td>None</td>\n",
       "      <td>⚡️В Калининградском государственном техническо...</td>\n",
       "      <td>⚡️В Калининградском государственном техническо...</td>\n",
       "      <td>&lt;main class=\"tgme_main\" data-url=\"/klgtu39\"&gt;\\n...</td>\n",
       "    </tr>\n",
       "    <tr>\n",
       "      <th>1</th>\n",
       "      <td>https://t.me/klgtu39/1784</td>\n",
       "      <td>tg_news</td>\n",
       "      <td>2024-04-19</td>\n",
       "      <td>None</td>\n",
       "      <td>⚛️«Дни науки» успешно стартовали в стенах наше...</td>\n",
       "      <td>⚛️«Дни науки» успешно стартовали в стенах наше...</td>\n",
       "      <td>&lt;main class=\"tgme_main\" data-url=\"/klgtu39\"&gt;\\n...</td>\n",
       "    </tr>\n",
       "    <tr>\n",
       "      <th>2</th>\n",
       "      <td>https://t.me/klgtu39/1785</td>\n",
       "      <td>tg_news</td>\n",
       "      <td>2024-04-19</td>\n",
       "      <td>None</td>\n",
       "      <td>🛰Группа иностранных студентов КГТУ посетила на...</td>\n",
       "      <td>🛰Группа иностранных студентов КГТУ посетила на...</td>\n",
       "      <td>&lt;main class=\"tgme_main\" data-url=\"/klgtu39\"&gt;\\n...</td>\n",
       "    </tr>\n",
       "    <tr>\n",
       "      <th>3</th>\n",
       "      <td>https://t.me/klgtu39/1786</td>\n",
       "      <td>tg_news</td>\n",
       "      <td>2024-04-19</td>\n",
       "      <td>None</td>\n",
       "      <td>💫Сегодня по итогу школы КВН состоялся  отбороч...</td>\n",
       "      <td>💫Сегодня по итогу школы КВН состоялся  отбороч...</td>\n",
       "      <td>&lt;main class=\"tgme_main\" data-url=\"/klgtu39\"&gt;\\n...</td>\n",
       "    </tr>\n",
       "    <tr>\n",
       "      <th>4</th>\n",
       "      <td>https://t.me/klgtu39/1795</td>\n",
       "      <td>tg_news</td>\n",
       "      <td>2024-04-19</td>\n",
       "      <td>None</td>\n",
       "      <td>⚛️Продолжаются \"Дни науки\" в стенах нашего уни...</td>\n",
       "      <td>⚛️Продолжаются \"Дни науки\" в стенах нашего уни...</td>\n",
       "      <td>&lt;main class=\"tgme_main\" data-url=\"/klgtu39\"&gt;\\n...</td>\n",
       "    </tr>\n",
       "    <tr>\n",
       "      <th>5</th>\n",
       "      <td>https://t.me/klgtu39/1797</td>\n",
       "      <td>tg_news</td>\n",
       "      <td>2024-04-19</td>\n",
       "      <td>None</td>\n",
       "      <td>🧡Студенты КГТУ направления обучения «Агрономия...</td>\n",
       "      <td>🧡Студенты КГТУ направления обучения «Агрономия...</td>\n",
       "      <td>&lt;main class=\"tgme_main\" data-url=\"/klgtu39\"&gt;\\n...</td>\n",
       "    </tr>\n",
       "    <tr>\n",
       "      <th>6</th>\n",
       "      <td>https://t.me/klgtu39/1799</td>\n",
       "      <td>tg_news</td>\n",
       "      <td>2024-04-19</td>\n",
       "      <td>None</td>\n",
       "      <td>⚛️17 апреля, в рамках III научно-технической к...</td>\n",
       "      <td>⚛️17 апреля, в рамках III научно-технической к...</td>\n",
       "      <td>&lt;main class=\"tgme_main\" data-url=\"/klgtu39\"&gt;\\n...</td>\n",
       "    </tr>\n",
       "    <tr>\n",
       "      <th>7</th>\n",
       "      <td>https://t.me/klgtu39/1802</td>\n",
       "      <td>tg_news</td>\n",
       "      <td>2024-04-19</td>\n",
       "      <td>None</td>\n",
       "      <td>🧡Стали известны результаты IХ международной ст...</td>\n",
       "      <td>🧡Стали известны результаты IХ международной ст...</td>\n",
       "      <td>&lt;main class=\"tgme_main\" data-url=\"/klgtu39\"&gt;\\n...</td>\n",
       "    </tr>\n",
       "  </tbody>\n",
       "</table>\n",
       "</div>"
      ],
      "text/plain": [
       "                         url topic_block parsing_date public_date  \\\n",
       "0  https://t.me/klgtu39/1783     tg_news   2024-04-19        None   \n",
       "1  https://t.me/klgtu39/1784     tg_news   2024-04-19        None   \n",
       "2  https://t.me/klgtu39/1785     tg_news   2024-04-19        None   \n",
       "3  https://t.me/klgtu39/1786     tg_news   2024-04-19        None   \n",
       "4  https://t.me/klgtu39/1795     tg_news   2024-04-19        None   \n",
       "5  https://t.me/klgtu39/1797     tg_news   2024-04-19        None   \n",
       "6  https://t.me/klgtu39/1799     tg_news   2024-04-19        None   \n",
       "7  https://t.me/klgtu39/1802     tg_news   2024-04-19        None   \n",
       "\n",
       "                                               title  \\\n",
       "0  ⚡️В Калининградском государственном техническо...   \n",
       "1  ⚛️«Дни науки» успешно стартовали в стенах наше...   \n",
       "2  🛰Группа иностранных студентов КГТУ посетила на...   \n",
       "3  💫Сегодня по итогу школы КВН состоялся  отбороч...   \n",
       "4  ⚛️Продолжаются \"Дни науки\" в стенах нашего уни...   \n",
       "5  🧡Студенты КГТУ направления обучения «Агрономия...   \n",
       "6  ⚛️17 апреля, в рамках III научно-технической к...   \n",
       "7  🧡Стали известны результаты IХ международной ст...   \n",
       "\n",
       "                                             context  \\\n",
       "0  ⚡️В Калининградском государственном техническо...   \n",
       "1  ⚛️«Дни науки» успешно стартовали в стенах наше...   \n",
       "2  🛰Группа иностранных студентов КГТУ посетила на...   \n",
       "3  💫Сегодня по итогу школы КВН состоялся  отбороч...   \n",
       "4  ⚛️Продолжаются \"Дни науки\" в стенах нашего уни...   \n",
       "5  🧡Студенты КГТУ направления обучения «Агрономия...   \n",
       "6  ⚛️17 апреля, в рамках III научно-технической к...   \n",
       "7  🧡Стали известны результаты IХ международной ст...   \n",
       "\n",
       "                                                html  \n",
       "0  <main class=\"tgme_main\" data-url=\"/klgtu39\">\\n...  \n",
       "1  <main class=\"tgme_main\" data-url=\"/klgtu39\">\\n...  \n",
       "2  <main class=\"tgme_main\" data-url=\"/klgtu39\">\\n...  \n",
       "3  <main class=\"tgme_main\" data-url=\"/klgtu39\">\\n...  \n",
       "4  <main class=\"tgme_main\" data-url=\"/klgtu39\">\\n...  \n",
       "5  <main class=\"tgme_main\" data-url=\"/klgtu39\">\\n...  \n",
       "6  <main class=\"tgme_main\" data-url=\"/klgtu39\">\\n...  \n",
       "7  <main class=\"tgme_main\" data-url=\"/klgtu39\">\\n...  "
      ]
     },
     "execution_count": 4,
     "metadata": {},
     "output_type": "execute_result"
    }
   ],
   "source": [
    "programms_df.head(20)"
   ]
  },
  {
   "cell_type": "code",
   "execution_count": 5,
   "metadata": {},
   "outputs": [
    {
     "name": "stdout",
     "output_type": "stream",
     "text": [
      "💫Сегодня по итогу школы КВН состоялся  отборочный фестиваль проекта Министерства молодёжной политики  «Просто и смешно», на котором выступили 5 наших команд со следующими результатами: 👀«Твоими глазами» (КГТУ) - 1 место 3 блока🐟«Сборная КМРК» (КМРК) - 2 место 3 блока ⚡️«Опоссумы» (КГТУ) - победители в душе😌🚢«Морячки» (БГАРФ) - 2 место 2 блока💥«Сборная апокалипсиса» (КГТУ) - 2 место 1 блока По итогу игры в общем зачете Команда КВН «Твоими глазами» заняла 3 место🔥Также мы забрали сразу 2 номинации:🕺🏻Лучший актер- Даниил  «Сборная КМРК»💃Лучшая актриса- Ксения  «Морячки» Хотим поблагодарить всех организаторов, кураторов и преподавателей школы за бесценный опыт и знания❤️#КГТУ #БГАРФ #КМРК #лигаквнплотва #квнплотва #лигаплотва #molod39 #квнзапад #командаВолкогона\n"
     ]
    }
   ],
   "source": [
    "print(programms_df.iloc[3]['context'])"
   ]
  },
  {
   "cell_type": "code",
   "execution_count": 6,
   "metadata": {},
   "outputs": [],
   "source": [
    "programms_df.to_json('parsing_tg_news.json', orient='records', force_ascii=False)"
   ]
  },
  {
   "cell_type": "markdown",
   "metadata": {},
   "source": [
    "### Блок \"Новости телеграмм-канала Студенческого совета КГТУ\""
   ]
  },
  {
   "cell_type": "code",
   "execution_count": 7,
   "metadata": {},
   "outputs": [
    {
     "name": "stderr",
     "output_type": "stream",
     "text": [
      "[nltk_data] Downloading package punkt to\n",
      "[nltk_data]     C:\\Users\\GoLuBoK\\AppData\\Roaming\\nltk_data...\n",
      "[nltk_data]   Package punkt is already up-to-date!\n"
     ]
    }
   ],
   "source": [
    "from block_parsers_tg_studsov import Telegram_parser_studsov"
   ]
  },
  {
   "cell_type": "code",
   "execution_count": 8,
   "metadata": {},
   "outputs": [],
   "source": [
    "programms_df = pd.DataFrame(Telegram_parser_studsov.df)"
   ]
  },
  {
   "cell_type": "code",
   "execution_count": 9,
   "metadata": {},
   "outputs": [
    {
     "data": {
      "text/html": [
       "<div>\n",
       "<style scoped>\n",
       "    .dataframe tbody tr th:only-of-type {\n",
       "        vertical-align: middle;\n",
       "    }\n",
       "\n",
       "    .dataframe tbody tr th {\n",
       "        vertical-align: top;\n",
       "    }\n",
       "\n",
       "    .dataframe thead th {\n",
       "        text-align: right;\n",
       "    }\n",
       "</style>\n",
       "<table border=\"1\" class=\"dataframe\">\n",
       "  <thead>\n",
       "    <tr style=\"text-align: right;\">\n",
       "      <th></th>\n",
       "      <th>url</th>\n",
       "      <th>topic_block</th>\n",
       "      <th>parsing_date</th>\n",
       "      <th>public_date</th>\n",
       "      <th>title</th>\n",
       "      <th>context</th>\n",
       "      <th>html</th>\n",
       "    </tr>\n",
       "  </thead>\n",
       "  <tbody>\n",
       "    <tr>\n",
       "      <th>0</th>\n",
       "      <td>https://t.me/students_counsil/1</td>\n",
       "      <td>tg_studsov</td>\n",
       "      <td>2024-04-19</td>\n",
       "      <td>None</td>\n",
       "      <td>Channel created</td>\n",
       "      <td>Channel created</td>\n",
       "      <td>&lt;main class=\"tgme_main\" data-url=\"/students_co...</td>\n",
       "    </tr>\n",
       "    <tr>\n",
       "      <th>1</th>\n",
       "      <td>https://t.me/students_counsil/5</td>\n",
       "      <td>tg_studsov</td>\n",
       "      <td>2024-04-19</td>\n",
       "      <td>None</td>\n",
       "      <td>🌟Всем привет, это студенческий совет КГТУ Мы т...</td>\n",
       "      <td>🌟Всем привет, это студенческий совет КГТУ Мы т...</td>\n",
       "      <td>&lt;main class=\"tgme_main\" data-url=\"/students_co...</td>\n",
       "    </tr>\n",
       "    <tr>\n",
       "      <th>2</th>\n",
       "      <td>https://t.me/students_counsil/7</td>\n",
       "      <td>tg_studsov</td>\n",
       "      <td>2024-04-19</td>\n",
       "      <td>None</td>\n",
       "      <td>💥Региональный форум студенческого самоуправлен...</td>\n",
       "      <td>💥Региональный форум студенческого самоуправлен...</td>\n",
       "      <td>&lt;main class=\"tgme_main\" data-url=\"/students_co...</td>\n",
       "    </tr>\n",
       "    <tr>\n",
       "      <th>3</th>\n",
       "      <td>https://t.me/students_counsil/8</td>\n",
       "      <td>tg_studsov</td>\n",
       "      <td>2024-04-19</td>\n",
       "      <td>None</td>\n",
       "      <td>📣 Сегодня прошло открытие выездной школы социа...</td>\n",
       "      <td>📣 Сегодня прошло открытие выездной школы социа...</td>\n",
       "      <td>&lt;main class=\"tgme_main\" data-url=\"/students_co...</td>\n",
       "    </tr>\n",
       "    <tr>\n",
       "      <th>4</th>\n",
       "      <td>https://t.me/students_counsil/9</td>\n",
       "      <td>tg_studsov</td>\n",
       "      <td>2024-04-19</td>\n",
       "      <td>None</td>\n",
       "      <td>📣Квест СТУДПРОФИ для студентов и курсантов СПО...</td>\n",
       "      <td>📣Квест СТУДПРОФИ для студентов и курсантов СПО...</td>\n",
       "      <td>&lt;main class=\"tgme_main\" data-url=\"/students_co...</td>\n",
       "    </tr>\n",
       "  </tbody>\n",
       "</table>\n",
       "</div>"
      ],
      "text/plain": [
       "                               url topic_block parsing_date public_date  \\\n",
       "0  https://t.me/students_counsil/1  tg_studsov   2024-04-19        None   \n",
       "1  https://t.me/students_counsil/5  tg_studsov   2024-04-19        None   \n",
       "2  https://t.me/students_counsil/7  tg_studsov   2024-04-19        None   \n",
       "3  https://t.me/students_counsil/8  tg_studsov   2024-04-19        None   \n",
       "4  https://t.me/students_counsil/9  tg_studsov   2024-04-19        None   \n",
       "\n",
       "                                               title  \\\n",
       "0                                    Channel created   \n",
       "1  🌟Всем привет, это студенческий совет КГТУ Мы т...   \n",
       "2  💥Региональный форум студенческого самоуправлен...   \n",
       "3  📣 Сегодня прошло открытие выездной школы социа...   \n",
       "4  📣Квест СТУДПРОФИ для студентов и курсантов СПО...   \n",
       "\n",
       "                                             context  \\\n",
       "0                                    Channel created   \n",
       "1  🌟Всем привет, это студенческий совет КГТУ Мы т...   \n",
       "2  💥Региональный форум студенческого самоуправлен...   \n",
       "3  📣 Сегодня прошло открытие выездной школы социа...   \n",
       "4  📣Квест СТУДПРОФИ для студентов и курсантов СПО...   \n",
       "\n",
       "                                                html  \n",
       "0  <main class=\"tgme_main\" data-url=\"/students_co...  \n",
       "1  <main class=\"tgme_main\" data-url=\"/students_co...  \n",
       "2  <main class=\"tgme_main\" data-url=\"/students_co...  \n",
       "3  <main class=\"tgme_main\" data-url=\"/students_co...  \n",
       "4  <main class=\"tgme_main\" data-url=\"/students_co...  "
      ]
     },
     "execution_count": 9,
     "metadata": {},
     "output_type": "execute_result"
    }
   ],
   "source": [
    "programms_df.head(20)"
   ]
  },
  {
   "cell_type": "code",
   "execution_count": 10,
   "metadata": {},
   "outputs": [],
   "source": [
    "programms_df.to_json('parsing_tg_studsov.json', orient='records', force_ascii=False)"
   ]
  },
  {
   "cell_type": "markdown",
   "metadata": {},
   "source": [
    "### Блок \"Новости телеграмм-канала Плотва КГТУ\""
   ]
  },
  {
   "cell_type": "code",
   "execution_count": 11,
   "metadata": {},
   "outputs": [
    {
     "name": "stderr",
     "output_type": "stream",
     "text": [
      "[nltk_data] Downloading package punkt to\n",
      "[nltk_data]     C:\\Users\\GoLuBoK\\AppData\\Roaming\\nltk_data...\n",
      "[nltk_data]   Package punkt is already up-to-date!\n"
     ]
    }
   ],
   "source": [
    "from block_parsers_tg_plotva import Telegram_parser_plotva"
   ]
  },
  {
   "cell_type": "code",
   "execution_count": 12,
   "metadata": {},
   "outputs": [],
   "source": [
    "programms_df = pd.DataFrame(Telegram_parser_plotva.df)"
   ]
  },
  {
   "cell_type": "code",
   "execution_count": 13,
   "metadata": {},
   "outputs": [
    {
     "data": {
      "text/html": [
       "<div>\n",
       "<style scoped>\n",
       "    .dataframe tbody tr th:only-of-type {\n",
       "        vertical-align: middle;\n",
       "    }\n",
       "\n",
       "    .dataframe tbody tr th {\n",
       "        vertical-align: top;\n",
       "    }\n",
       "\n",
       "    .dataframe thead th {\n",
       "        text-align: right;\n",
       "    }\n",
       "</style>\n",
       "<table border=\"1\" class=\"dataframe\">\n",
       "  <thead>\n",
       "    <tr style=\"text-align: right;\">\n",
       "      <th></th>\n",
       "      <th>url</th>\n",
       "      <th>topic_block</th>\n",
       "      <th>parsing_date</th>\n",
       "      <th>public_date</th>\n",
       "      <th>title</th>\n",
       "      <th>context</th>\n",
       "      <th>html</th>\n",
       "    </tr>\n",
       "  </thead>\n",
       "  <tbody>\n",
       "    <tr>\n",
       "      <th>0</th>\n",
       "      <td>https://t.me/ligaplotv/620</td>\n",
       "      <td>tg_plotva</td>\n",
       "      <td>2024-04-19</td>\n",
       "      <td>None</td>\n",
       "      <td>💫Целыми днями готовился к полуфиналу?</td>\n",
       "      <td>💫Целыми днями готовился к полуфиналу? Устал от...</td>\n",
       "      <td>&lt;main class=\"tgme_main\" data-url=\"/ligaplotv\"&gt;...</td>\n",
       "    </tr>\n",
       "    <tr>\n",
       "      <th>1</th>\n",
       "      <td>https://t.me/ligaplotv/621</td>\n",
       "      <td>tg_plotva</td>\n",
       "      <td>2024-04-19</td>\n",
       "      <td>None</td>\n",
       "      <td>Результаты полуфинала лиги КВН «ПЛОТВА»🔥💅Лучша...</td>\n",
       "      <td>Результаты полуфинала лиги КВН «ПЛОТВА»🔥💅Лучша...</td>\n",
       "      <td>&lt;main class=\"tgme_main\" data-url=\"/ligaplotv\"&gt;...</td>\n",
       "    </tr>\n",
       "    <tr>\n",
       "      <th>2</th>\n",
       "      <td>https://t.me/ligaplotv/622</td>\n",
       "      <td>tg_plotva</td>\n",
       "      <td>2024-04-19</td>\n",
       "      <td>None</td>\n",
       "      <td>🎉 Накануне вечером было жарко от шуток в актов...</td>\n",
       "      <td>🎉 Накануне вечером было жарко от шуток в актов...</td>\n",
       "      <td>&lt;main class=\"tgme_main\" data-url=\"/ligaplotv\"&gt;...</td>\n",
       "    </tr>\n",
       "    <tr>\n",
       "      <th>3</th>\n",
       "      <td>https://t.me/ligaplotv/623</td>\n",
       "      <td>tg_plotva</td>\n",
       "      <td>2024-04-19</td>\n",
       "      <td>None</td>\n",
       "      <td>Фотоотчет о полуфинале от Насти Ликиновой🥰КГТУ...</td>\n",
       "      <td>Фотоотчет о полуфинале от Насти Ликиновой🥰КГТУ...</td>\n",
       "      <td>&lt;main class=\"tgme_main\" data-url=\"/ligaplotv\"&gt;...</td>\n",
       "    </tr>\n",
       "    <tr>\n",
       "      <th>4</th>\n",
       "      <td>https://t.me/ligaplotv/624</td>\n",
       "      <td>tg_plotva</td>\n",
       "      <td>2024-04-19</td>\n",
       "      <td>None</td>\n",
       "      <td>💫В 1961 году 12 апреля Юрий Гагарин сказал «По...</td>\n",
       "      <td>💫В 1961 году 12 апреля Юрий Гагарин сказал «По...</td>\n",
       "      <td>&lt;main class=\"tgme_main\" data-url=\"/ligaplotv\"&gt;...</td>\n",
       "    </tr>\n",
       "    <tr>\n",
       "      <th>5</th>\n",
       "      <td>https://t.me/ligaplotv/625</td>\n",
       "      <td>tg_plotva</td>\n",
       "      <td>2024-04-19</td>\n",
       "      <td>None</td>\n",
       "      <td>💫 Наши ребята находятся на школе КВН «Просто и...</td>\n",
       "      <td>💫 Наши ребята находятся на школе КВН «Просто и...</td>\n",
       "      <td>&lt;main class=\"tgme_main\" data-url=\"/ligaplotv\"&gt;...</td>\n",
       "    </tr>\n",
       "    <tr>\n",
       "      <th>6</th>\n",
       "      <td>https://t.me/ligaplotv/637</td>\n",
       "      <td>tg_plotva</td>\n",
       "      <td>2024-04-19</td>\n",
       "      <td>None</td>\n",
       "      <td>💫Сегодня по итогу школы КВН состоялся  отбороч...</td>\n",
       "      <td>💫Сегодня по итогу школы КВН состоялся  отбороч...</td>\n",
       "      <td>&lt;main class=\"tgme_main\" data-url=\"/ligaplotv\"&gt;...</td>\n",
       "    </tr>\n",
       "  </tbody>\n",
       "</table>\n",
       "</div>"
      ],
      "text/plain": [
       "                          url topic_block parsing_date public_date  \\\n",
       "0  https://t.me/ligaplotv/620   tg_plotva   2024-04-19        None   \n",
       "1  https://t.me/ligaplotv/621   tg_plotva   2024-04-19        None   \n",
       "2  https://t.me/ligaplotv/622   tg_plotva   2024-04-19        None   \n",
       "3  https://t.me/ligaplotv/623   tg_plotva   2024-04-19        None   \n",
       "4  https://t.me/ligaplotv/624   tg_plotva   2024-04-19        None   \n",
       "5  https://t.me/ligaplotv/625   tg_plotva   2024-04-19        None   \n",
       "6  https://t.me/ligaplotv/637   tg_plotva   2024-04-19        None   \n",
       "\n",
       "                                               title  \\\n",
       "0              💫Целыми днями готовился к полуфиналу?   \n",
       "1  Результаты полуфинала лиги КВН «ПЛОТВА»🔥💅Лучша...   \n",
       "2  🎉 Накануне вечером было жарко от шуток в актов...   \n",
       "3  Фотоотчет о полуфинале от Насти Ликиновой🥰КГТУ...   \n",
       "4  💫В 1961 году 12 апреля Юрий Гагарин сказал «По...   \n",
       "5  💫 Наши ребята находятся на школе КВН «Просто и...   \n",
       "6  💫Сегодня по итогу школы КВН состоялся  отбороч...   \n",
       "\n",
       "                                             context  \\\n",
       "0  💫Целыми днями готовился к полуфиналу? Устал от...   \n",
       "1  Результаты полуфинала лиги КВН «ПЛОТВА»🔥💅Лучша...   \n",
       "2  🎉 Накануне вечером было жарко от шуток в актов...   \n",
       "3  Фотоотчет о полуфинале от Насти Ликиновой🥰КГТУ...   \n",
       "4  💫В 1961 году 12 апреля Юрий Гагарин сказал «По...   \n",
       "5  💫 Наши ребята находятся на школе КВН «Просто и...   \n",
       "6  💫Сегодня по итогу школы КВН состоялся  отбороч...   \n",
       "\n",
       "                                                html  \n",
       "0  <main class=\"tgme_main\" data-url=\"/ligaplotv\">...  \n",
       "1  <main class=\"tgme_main\" data-url=\"/ligaplotv\">...  \n",
       "2  <main class=\"tgme_main\" data-url=\"/ligaplotv\">...  \n",
       "3  <main class=\"tgme_main\" data-url=\"/ligaplotv\">...  \n",
       "4  <main class=\"tgme_main\" data-url=\"/ligaplotv\">...  \n",
       "5  <main class=\"tgme_main\" data-url=\"/ligaplotv\">...  \n",
       "6  <main class=\"tgme_main\" data-url=\"/ligaplotv\">...  "
      ]
     },
     "execution_count": 13,
     "metadata": {},
     "output_type": "execute_result"
    }
   ],
   "source": [
    "programms_df.head(20)"
   ]
  },
  {
   "cell_type": "code",
   "execution_count": 14,
   "metadata": {},
   "outputs": [],
   "source": [
    "programms_df.to_json('parsing_tg_plotva.json', orient='records', force_ascii=False)"
   ]
  },
  {
   "cell_type": "markdown",
   "metadata": {},
   "source": [
    "### Блок \"Новости телеграмм-канала Центр карьеры КГТУ\""
   ]
  },
  {
   "cell_type": "code",
   "execution_count": 15,
   "metadata": {},
   "outputs": [
    {
     "name": "stderr",
     "output_type": "stream",
     "text": [
      "[nltk_data] Downloading package punkt to\n",
      "[nltk_data]     C:\\Users\\GoLuBoK\\AppData\\Roaming\\nltk_data...\n",
      "[nltk_data]   Package punkt is already up-to-date!\n"
     ]
    }
   ],
   "source": [
    "from block_parsers_tg_career import Telegram_parser_career"
   ]
  },
  {
   "cell_type": "code",
   "execution_count": 16,
   "metadata": {},
   "outputs": [],
   "source": [
    "programms_df = pd.DataFrame(Telegram_parser_career.df)"
   ]
  },
  {
   "cell_type": "code",
   "execution_count": 17,
   "metadata": {},
   "outputs": [
    {
     "data": {
      "text/html": [
       "<div>\n",
       "<style scoped>\n",
       "    .dataframe tbody tr th:only-of-type {\n",
       "        vertical-align: middle;\n",
       "    }\n",
       "\n",
       "    .dataframe tbody tr th {\n",
       "        vertical-align: top;\n",
       "    }\n",
       "\n",
       "    .dataframe thead th {\n",
       "        text-align: right;\n",
       "    }\n",
       "</style>\n",
       "<table border=\"1\" class=\"dataframe\">\n",
       "  <thead>\n",
       "    <tr style=\"text-align: right;\">\n",
       "      <th></th>\n",
       "      <th>url</th>\n",
       "      <th>topic_block</th>\n",
       "      <th>parsing_date</th>\n",
       "      <th>public_date</th>\n",
       "      <th>title</th>\n",
       "      <th>context</th>\n",
       "      <th>html</th>\n",
       "    </tr>\n",
       "  </thead>\n",
       "  <tbody>\n",
       "    <tr>\n",
       "      <th>0</th>\n",
       "      <td>https://t.me/cprk_klgtu/374</td>\n",
       "      <td>tg_career</td>\n",
       "      <td>2024-04-19</td>\n",
       "      <td>None</td>\n",
       "      <td>✅Вакансия дня:Инженер по качеству производстве...</td>\n",
       "      <td>✅Вакансия дня:Инженер по качеству производстве...</td>\n",
       "      <td>&lt;main class=\"tgme_main\" data-url=\"/cprk_klgtu\"...</td>\n",
       "    </tr>\n",
       "    <tr>\n",
       "      <th>1</th>\n",
       "      <td>https://t.me/cprk_klgtu/375</td>\n",
       "      <td>tg_career</td>\n",
       "      <td>2024-04-19</td>\n",
       "      <td>None</td>\n",
       "      <td>Регистрация уже началась!Не упусти свой шанс!#...</td>\n",
       "      <td>Регистрация уже началась!Не упусти свой шанс!#...</td>\n",
       "      <td>&lt;main class=\"tgme_main\" data-url=\"/cprk_klgtu\"...</td>\n",
       "    </tr>\n",
       "    <tr>\n",
       "      <th>2</th>\n",
       "      <td>https://t.me/cprk_klgtu/376</td>\n",
       "      <td>tg_career</td>\n",
       "      <td>2024-04-19</td>\n",
       "      <td>None</td>\n",
       "      <td>Наши рубрики:#вакансия - свежие вакансии ;#кар...</td>\n",
       "      <td>Наши рубрики:#вакансия - свежие вакансии ;#кар...</td>\n",
       "      <td>&lt;main class=\"tgme_main\" data-url=\"/cprk_klgtu\"...</td>\n",
       "    </tr>\n",
       "    <tr>\n",
       "      <th>3</th>\n",
       "      <td>https://t.me/cprk_klgtu/377</td>\n",
       "      <td>tg_career</td>\n",
       "      <td>2024-04-19</td>\n",
       "      <td>None</td>\n",
       "      <td>Центр карьеры КГТУ pinned «Наши рубрики: #вака...</td>\n",
       "      <td>Центр карьеры КГТУ pinned «Наши рубрики: #вака...</td>\n",
       "      <td>&lt;main class=\"tgme_main\" data-url=\"/cprk_klgtu\"...</td>\n",
       "    </tr>\n",
       "    <tr>\n",
       "      <th>4</th>\n",
       "      <td>https://t.me/cprk_klgtu/378</td>\n",
       "      <td>tg_career</td>\n",
       "      <td>2024-04-19</td>\n",
       "      <td>None</td>\n",
       "      <td>❓Видишь себя в образовательной деятельности?То...</td>\n",
       "      <td>❓Видишь себя в образовательной деятельности?То...</td>\n",
       "      <td>&lt;main class=\"tgme_main\" data-url=\"/cprk_klgtu\"...</td>\n",
       "    </tr>\n",
       "    <tr>\n",
       "      <th>5</th>\n",
       "      <td>https://t.me/cprk_klgtu/380</td>\n",
       "      <td>tg_career</td>\n",
       "      <td>2024-04-19</td>\n",
       "      <td>None</td>\n",
       "      <td>📌Сегодня мы подготовили для тебя подборку дост...</td>\n",
       "      <td>📌Сегодня мы подготовили для тебя подборку дост...</td>\n",
       "      <td>&lt;main class=\"tgme_main\" data-url=\"/cprk_klgtu\"...</td>\n",
       "    </tr>\n",
       "    <tr>\n",
       "      <th>6</th>\n",
       "      <td>https://t.me/cprk_klgtu/381</td>\n",
       "      <td>tg_career</td>\n",
       "      <td>2024-04-19</td>\n",
       "      <td>None</td>\n",
       "      <td>📝Технолог пищевого производства - эта вакансия...</td>\n",
       "      <td>📝Технолог пищевого производства - эта вакансия...</td>\n",
       "      <td>&lt;main class=\"tgme_main\" data-url=\"/cprk_klgtu\"...</td>\n",
       "    </tr>\n",
       "    <tr>\n",
       "      <th>7</th>\n",
       "      <td>https://t.me/cprk_klgtu/384</td>\n",
       "      <td>tg_career</td>\n",
       "      <td>2024-04-19</td>\n",
       "      <td>None</td>\n",
       "      <td>👩‍🍳Твое направление подготовки - технология пр...</td>\n",
       "      <td>👩‍🍳Твое направление подготовки - технология пр...</td>\n",
       "      <td>&lt;main class=\"tgme_main\" data-url=\"/cprk_klgtu\"...</td>\n",
       "    </tr>\n",
       "    <tr>\n",
       "      <th>8</th>\n",
       "      <td>https://t.me/cprk_klgtu/385</td>\n",
       "      <td>tg_career</td>\n",
       "      <td>2024-04-19</td>\n",
       "      <td>None</td>\n",
       "      <td>🤓Оплачиваемая стажировка!Стажёр-разработчик С+...</td>\n",
       "      <td>🤓Оплачиваемая стажировка!Стажёр-разработчик С+...</td>\n",
       "      <td>&lt;main class=\"tgme_main\" data-url=\"/cprk_klgtu\"...</td>\n",
       "    </tr>\n",
       "    <tr>\n",
       "      <th>9</th>\n",
       "      <td>https://t.me/cprk_klgtu/387</td>\n",
       "      <td>tg_career</td>\n",
       "      <td>2024-04-19</td>\n",
       "      <td>None</td>\n",
       "      <td>♻ Знакомься с нашим новым кадровым партнером -...</td>\n",
       "      <td>♻ Знакомься с нашим новым кадровым партнером -...</td>\n",
       "      <td>&lt;main class=\"tgme_main\" data-url=\"/cprk_klgtu\"...</td>\n",
       "    </tr>\n",
       "    <tr>\n",
       "      <th>10</th>\n",
       "      <td>https://t.me/cprk_klgtu/390</td>\n",
       "      <td>tg_career</td>\n",
       "      <td>2024-04-19</td>\n",
       "      <td>None</td>\n",
       "      <td>❓Любишь залипать в соцсетях?☺Тогда эта ваканси...</td>\n",
       "      <td>❓Любишь залипать в соцсетях?☺Тогда эта ваканси...</td>\n",
       "      <td>&lt;main class=\"tgme_main\" data-url=\"/cprk_klgtu\"...</td>\n",
       "    </tr>\n",
       "    <tr>\n",
       "      <th>11</th>\n",
       "      <td>https://t.me/cprk_klgtu/392</td>\n",
       "      <td>tg_career</td>\n",
       "      <td>2024-04-19</td>\n",
       "      <td>None</td>\n",
       "      <td>📌Профразвитие: стажировки📑 200 + стажировок✅ 8...</td>\n",
       "      <td>📌Профразвитие: стажировки📑 200 + стажировок✅ 8...</td>\n",
       "      <td>&lt;main class=\"tgme_main\" data-url=\"/cprk_klgtu\"...</td>\n",
       "    </tr>\n",
       "    <tr>\n",
       "      <th>12</th>\n",
       "      <td>https://t.me/cprk_klgtu/393</td>\n",
       "      <td>tg_career</td>\n",
       "      <td>2024-04-19</td>\n",
       "      <td>None</td>\n",
       "      <td>⁉Ты амбициозный студент предпоследнего курса и...</td>\n",
       "      <td>⁉Ты амбициозный студент предпоследнего курса и...</td>\n",
       "      <td>&lt;main class=\"tgme_main\" data-url=\"/cprk_klgtu\"...</td>\n",
       "    </tr>\n",
       "    <tr>\n",
       "      <th>13</th>\n",
       "      <td>https://t.me/cprk_klgtu/394</td>\n",
       "      <td>tg_career</td>\n",
       "      <td>2024-04-19</td>\n",
       "      <td>None</td>\n",
       "      <td>✅Выпускникам направления подготовки \"Строитель...</td>\n",
       "      <td>✅Выпускникам направления подготовки \"Строитель...</td>\n",
       "      <td>&lt;main class=\"tgme_main\" data-url=\"/cprk_klgtu\"...</td>\n",
       "    </tr>\n",
       "    <tr>\n",
       "      <th>14</th>\n",
       "      <td>https://t.me/cprk_klgtu/396</td>\n",
       "      <td>tg_career</td>\n",
       "      <td>2024-04-19</td>\n",
       "      <td>None</td>\n",
       "      <td>🏆Вакансия от нашего кадрового партнера АО \"Рос...</td>\n",
       "      <td>🏆Вакансия от нашего кадрового партнера АО \"Рос...</td>\n",
       "      <td>&lt;main class=\"tgme_main\" data-url=\"/cprk_klgtu\"...</td>\n",
       "    </tr>\n",
       "    <tr>\n",
       "      <th>15</th>\n",
       "      <td>https://t.me/cprk_klgtu/398</td>\n",
       "      <td>tg_career</td>\n",
       "      <td>2024-04-19</td>\n",
       "      <td>None</td>\n",
       "      <td>💼 бЕЗ ОПЫТАПодборка вакансийhttps://facultet.u...</td>\n",
       "      <td>💼 бЕЗ ОПЫТАПодборка вакансийhttps://facultet.u...</td>\n",
       "      <td>&lt;main class=\"tgme_main\" data-url=\"/cprk_klgtu\"...</td>\n",
       "    </tr>\n",
       "    <tr>\n",
       "      <th>16</th>\n",
       "      <td>https://t.me/cprk_klgtu/399</td>\n",
       "      <td>tg_career</td>\n",
       "      <td>2024-04-19</td>\n",
       "      <td>None</td>\n",
       "      <td>• Деловая встреча с инспектором по Калининград...</td>\n",
       "      <td>• Деловая встреча с инспектором по Калининград...</td>\n",
       "      <td>&lt;main class=\"tgme_main\" data-url=\"/cprk_klgtu\"...</td>\n",
       "    </tr>\n",
       "    <tr>\n",
       "      <th>17</th>\n",
       "      <td>https://t.me/cprk_klgtu/400</td>\n",
       "      <td>tg_career</td>\n",
       "      <td>2024-04-19</td>\n",
       "      <td>None</td>\n",
       "      <td>• Стажировка в Банке России📅 14 мартаНабор на ...</td>\n",
       "      <td>• Стажировка в Банке России📅 14 мартаНабор на ...</td>\n",
       "      <td>&lt;main class=\"tgme_main\" data-url=\"/cprk_klgtu\"...</td>\n",
       "    </tr>\n",
       "    <tr>\n",
       "      <th>18</th>\n",
       "      <td>https://t.me/cprk_klgtu/401</td>\n",
       "      <td>tg_career</td>\n",
       "      <td>2024-04-19</td>\n",
       "      <td>None</td>\n",
       "      <td>• День открытых дверей Росстандарта.</td>\n",
       "      <td>• День открытых дверей Росстандарта. КГТУ &amp; ФБ...</td>\n",
       "      <td>&lt;main class=\"tgme_main\" data-url=\"/cprk_klgtu\"...</td>\n",
       "    </tr>\n",
       "  </tbody>\n",
       "</table>\n",
       "</div>"
      ],
      "text/plain": [
       "                            url topic_block parsing_date public_date  \\\n",
       "0   https://t.me/cprk_klgtu/374   tg_career   2024-04-19        None   \n",
       "1   https://t.me/cprk_klgtu/375   tg_career   2024-04-19        None   \n",
       "2   https://t.me/cprk_klgtu/376   tg_career   2024-04-19        None   \n",
       "3   https://t.me/cprk_klgtu/377   tg_career   2024-04-19        None   \n",
       "4   https://t.me/cprk_klgtu/378   tg_career   2024-04-19        None   \n",
       "5   https://t.me/cprk_klgtu/380   tg_career   2024-04-19        None   \n",
       "6   https://t.me/cprk_klgtu/381   tg_career   2024-04-19        None   \n",
       "7   https://t.me/cprk_klgtu/384   tg_career   2024-04-19        None   \n",
       "8   https://t.me/cprk_klgtu/385   tg_career   2024-04-19        None   \n",
       "9   https://t.me/cprk_klgtu/387   tg_career   2024-04-19        None   \n",
       "10  https://t.me/cprk_klgtu/390   tg_career   2024-04-19        None   \n",
       "11  https://t.me/cprk_klgtu/392   tg_career   2024-04-19        None   \n",
       "12  https://t.me/cprk_klgtu/393   tg_career   2024-04-19        None   \n",
       "13  https://t.me/cprk_klgtu/394   tg_career   2024-04-19        None   \n",
       "14  https://t.me/cprk_klgtu/396   tg_career   2024-04-19        None   \n",
       "15  https://t.me/cprk_klgtu/398   tg_career   2024-04-19        None   \n",
       "16  https://t.me/cprk_klgtu/399   tg_career   2024-04-19        None   \n",
       "17  https://t.me/cprk_klgtu/400   tg_career   2024-04-19        None   \n",
       "18  https://t.me/cprk_klgtu/401   tg_career   2024-04-19        None   \n",
       "\n",
       "                                                title  \\\n",
       "0   ✅Вакансия дня:Инженер по качеству производстве...   \n",
       "1   Регистрация уже началась!Не упусти свой шанс!#...   \n",
       "2   Наши рубрики:#вакансия - свежие вакансии ;#кар...   \n",
       "3   Центр карьеры КГТУ pinned «Наши рубрики: #вака...   \n",
       "4   ❓Видишь себя в образовательной деятельности?То...   \n",
       "5   📌Сегодня мы подготовили для тебя подборку дост...   \n",
       "6   📝Технолог пищевого производства - эта вакансия...   \n",
       "7   👩‍🍳Твое направление подготовки - технология пр...   \n",
       "8   🤓Оплачиваемая стажировка!Стажёр-разработчик С+...   \n",
       "9   ♻ Знакомься с нашим новым кадровым партнером -...   \n",
       "10  ❓Любишь залипать в соцсетях?☺Тогда эта ваканси...   \n",
       "11  📌Профразвитие: стажировки📑 200 + стажировок✅ 8...   \n",
       "12  ⁉Ты амбициозный студент предпоследнего курса и...   \n",
       "13  ✅Выпускникам направления подготовки \"Строитель...   \n",
       "14  🏆Вакансия от нашего кадрового партнера АО \"Рос...   \n",
       "15  💼 бЕЗ ОПЫТАПодборка вакансийhttps://facultet.u...   \n",
       "16  • Деловая встреча с инспектором по Калининград...   \n",
       "17  • Стажировка в Банке России📅 14 мартаНабор на ...   \n",
       "18               • День открытых дверей Росстандарта.   \n",
       "\n",
       "                                              context  \\\n",
       "0   ✅Вакансия дня:Инженер по качеству производстве...   \n",
       "1   Регистрация уже началась!Не упусти свой шанс!#...   \n",
       "2   Наши рубрики:#вакансия - свежие вакансии ;#кар...   \n",
       "3   Центр карьеры КГТУ pinned «Наши рубрики: #вака...   \n",
       "4   ❓Видишь себя в образовательной деятельности?То...   \n",
       "5   📌Сегодня мы подготовили для тебя подборку дост...   \n",
       "6   📝Технолог пищевого производства - эта вакансия...   \n",
       "7   👩‍🍳Твое направление подготовки - технология пр...   \n",
       "8   🤓Оплачиваемая стажировка!Стажёр-разработчик С+...   \n",
       "9   ♻ Знакомься с нашим новым кадровым партнером -...   \n",
       "10  ❓Любишь залипать в соцсетях?☺Тогда эта ваканси...   \n",
       "11  📌Профразвитие: стажировки📑 200 + стажировок✅ 8...   \n",
       "12  ⁉Ты амбициозный студент предпоследнего курса и...   \n",
       "13  ✅Выпускникам направления подготовки \"Строитель...   \n",
       "14  🏆Вакансия от нашего кадрового партнера АО \"Рос...   \n",
       "15  💼 бЕЗ ОПЫТАПодборка вакансийhttps://facultet.u...   \n",
       "16  • Деловая встреча с инспектором по Калининград...   \n",
       "17  • Стажировка в Банке России📅 14 мартаНабор на ...   \n",
       "18  • День открытых дверей Росстандарта. КГТУ & ФБ...   \n",
       "\n",
       "                                                 html  \n",
       "0   <main class=\"tgme_main\" data-url=\"/cprk_klgtu\"...  \n",
       "1   <main class=\"tgme_main\" data-url=\"/cprk_klgtu\"...  \n",
       "2   <main class=\"tgme_main\" data-url=\"/cprk_klgtu\"...  \n",
       "3   <main class=\"tgme_main\" data-url=\"/cprk_klgtu\"...  \n",
       "4   <main class=\"tgme_main\" data-url=\"/cprk_klgtu\"...  \n",
       "5   <main class=\"tgme_main\" data-url=\"/cprk_klgtu\"...  \n",
       "6   <main class=\"tgme_main\" data-url=\"/cprk_klgtu\"...  \n",
       "7   <main class=\"tgme_main\" data-url=\"/cprk_klgtu\"...  \n",
       "8   <main class=\"tgme_main\" data-url=\"/cprk_klgtu\"...  \n",
       "9   <main class=\"tgme_main\" data-url=\"/cprk_klgtu\"...  \n",
       "10  <main class=\"tgme_main\" data-url=\"/cprk_klgtu\"...  \n",
       "11  <main class=\"tgme_main\" data-url=\"/cprk_klgtu\"...  \n",
       "12  <main class=\"tgme_main\" data-url=\"/cprk_klgtu\"...  \n",
       "13  <main class=\"tgme_main\" data-url=\"/cprk_klgtu\"...  \n",
       "14  <main class=\"tgme_main\" data-url=\"/cprk_klgtu\"...  \n",
       "15  <main class=\"tgme_main\" data-url=\"/cprk_klgtu\"...  \n",
       "16  <main class=\"tgme_main\" data-url=\"/cprk_klgtu\"...  \n",
       "17  <main class=\"tgme_main\" data-url=\"/cprk_klgtu\"...  \n",
       "18  <main class=\"tgme_main\" data-url=\"/cprk_klgtu\"...  "
      ]
     },
     "execution_count": 17,
     "metadata": {},
     "output_type": "execute_result"
    }
   ],
   "source": [
    "programms_df.head(20)"
   ]
  },
  {
   "cell_type": "code",
   "execution_count": 18,
   "metadata": {},
   "outputs": [],
   "source": [
    "programms_df.to_json('parsing_tg_career.json', orient='records', force_ascii=False)"
   ]
  },
  {
   "cell_type": "markdown",
   "metadata": {},
   "source": [
    "### Блок \"Новости телеграмм-канала ИЦТ\""
   ]
  },
  {
   "cell_type": "code",
   "execution_count": 19,
   "metadata": {},
   "outputs": [
    {
     "name": "stderr",
     "output_type": "stream",
     "text": [
      "[nltk_data] Downloading package punkt to\n",
      "[nltk_data]     C:\\Users\\GoLuBoK\\AppData\\Roaming\\nltk_data...\n",
      "[nltk_data]   Package punkt is already up-to-date!\n"
     ]
    }
   ],
   "source": [
    "from block_parsers_tg_icht import Telegram_parser_icht"
   ]
  },
  {
   "cell_type": "code",
   "execution_count": 20,
   "metadata": {},
   "outputs": [],
   "source": [
    "programms_df = pd.DataFrame(Telegram_parser_icht.df)"
   ]
  },
  {
   "cell_type": "code",
   "execution_count": 21,
   "metadata": {},
   "outputs": [
    {
     "data": {
      "text/html": [
       "<div>\n",
       "<style scoped>\n",
       "    .dataframe tbody tr th:only-of-type {\n",
       "        vertical-align: middle;\n",
       "    }\n",
       "\n",
       "    .dataframe tbody tr th {\n",
       "        vertical-align: top;\n",
       "    }\n",
       "\n",
       "    .dataframe thead th {\n",
       "        text-align: right;\n",
       "    }\n",
       "</style>\n",
       "<table border=\"1\" class=\"dataframe\">\n",
       "  <thead>\n",
       "    <tr style=\"text-align: right;\">\n",
       "      <th></th>\n",
       "      <th>url</th>\n",
       "      <th>topic_block</th>\n",
       "      <th>parsing_date</th>\n",
       "      <th>public_date</th>\n",
       "      <th>title</th>\n",
       "      <th>context</th>\n",
       "      <th>html</th>\n",
       "    </tr>\n",
       "  </thead>\n",
       "  <tbody>\n",
       "    <tr>\n",
       "      <th>0</th>\n",
       "      <td>https://t.me/klgtu_digital_channel/1187</td>\n",
       "      <td>tg_icht</td>\n",
       "      <td>2024-04-19</td>\n",
       "      <td>None</td>\n",
       "      <td>25 апреля фирма «1С:Северо-Запад» проводит кон...</td>\n",
       "      <td>25 апреля фирма «1С:Северо-Запад» проводит кон...</td>\n",
       "      <td>&lt;main class=\"tgme_main\" data-url=\"/klgtu_digit...</td>\n",
       "    </tr>\n",
       "    <tr>\n",
       "      <th>1</th>\n",
       "      <td>https://t.me/klgtu_digital_channel/1188</td>\n",
       "      <td>tg_icht</td>\n",
       "      <td>2024-04-19</td>\n",
       "      <td>None</td>\n",
       "      <td>КГТУ и Сбер расширяют сотрудничество.</td>\n",
       "      <td>КГТУ и Сбер расширяют сотрудничество. 18 апрел...</td>\n",
       "      <td>&lt;main class=\"tgme_main\" data-url=\"/klgtu_digit...</td>\n",
       "    </tr>\n",
       "    <tr>\n",
       "      <th>2</th>\n",
       "      <td>https://t.me/klgtu_digital_channel/1189</td>\n",
       "      <td>tg_icht</td>\n",
       "      <td>2024-04-19</td>\n",
       "      <td>None</td>\n",
       "      <td>Поздравляем участников Квеста \"Цифровой прорыв...</td>\n",
       "      <td>Поздравляем участников Квеста \"Цифровой прорыв...</td>\n",
       "      <td>&lt;main class=\"tgme_main\" data-url=\"/klgtu_digit...</td>\n",
       "    </tr>\n",
       "    <tr>\n",
       "      <th>3</th>\n",
       "      <td>https://t.me/klgtu_digital_channel/1200</td>\n",
       "      <td>tg_icht</td>\n",
       "      <td>2024-04-19</td>\n",
       "      <td>None</td>\n",
       "      <td>В субботу 13 апреля в ИЦТ состоялся Квест \"Циф...</td>\n",
       "      <td>В субботу 13 апреля в ИЦТ состоялся Квест \"Циф...</td>\n",
       "      <td>&lt;main class=\"tgme_main\" data-url=\"/klgtu_digit...</td>\n",
       "    </tr>\n",
       "    <tr>\n",
       "      <th>4</th>\n",
       "      <td>https://t.me/klgtu_digital_channel/1201</td>\n",
       "      <td>tg_icht</td>\n",
       "      <td>2024-04-19</td>\n",
       "      <td>None</td>\n",
       "      <td>Приглашаем студентов и сотрудников ИЦТ присоед...</td>\n",
       "      <td>Приглашаем студентов и сотрудников ИЦТ присоед...</td>\n",
       "      <td>&lt;main class=\"tgme_main\" data-url=\"/klgtu_digit...</td>\n",
       "    </tr>\n",
       "    <tr>\n",
       "      <th>5</th>\n",
       "      <td>https://t.me/klgtu_digital_channel/1202</td>\n",
       "      <td>tg_icht</td>\n",
       "      <td>2024-04-19</td>\n",
       "      <td>None</td>\n",
       "      <td>Студенты ИЦТ посетили уже вторую встречу- диск...</td>\n",
       "      <td>Студенты ИЦТ посетили уже вторую встречу- диск...</td>\n",
       "      <td>&lt;main class=\"tgme_main\" data-url=\"/klgtu_digit...</td>\n",
       "    </tr>\n",
       "  </tbody>\n",
       "</table>\n",
       "</div>"
      ],
      "text/plain": [
       "                                       url topic_block parsing_date  \\\n",
       "0  https://t.me/klgtu_digital_channel/1187     tg_icht   2024-04-19   \n",
       "1  https://t.me/klgtu_digital_channel/1188     tg_icht   2024-04-19   \n",
       "2  https://t.me/klgtu_digital_channel/1189     tg_icht   2024-04-19   \n",
       "3  https://t.me/klgtu_digital_channel/1200     tg_icht   2024-04-19   \n",
       "4  https://t.me/klgtu_digital_channel/1201     tg_icht   2024-04-19   \n",
       "5  https://t.me/klgtu_digital_channel/1202     tg_icht   2024-04-19   \n",
       "\n",
       "  public_date                                              title  \\\n",
       "0        None  25 апреля фирма «1С:Северо-Запад» проводит кон...   \n",
       "1        None              КГТУ и Сбер расширяют сотрудничество.   \n",
       "2        None  Поздравляем участников Квеста \"Цифровой прорыв...   \n",
       "3        None  В субботу 13 апреля в ИЦТ состоялся Квест \"Циф...   \n",
       "4        None  Приглашаем студентов и сотрудников ИЦТ присоед...   \n",
       "5        None  Студенты ИЦТ посетили уже вторую встречу- диск...   \n",
       "\n",
       "                                             context  \\\n",
       "0  25 апреля фирма «1С:Северо-Запад» проводит кон...   \n",
       "1  КГТУ и Сбер расширяют сотрудничество. 18 апрел...   \n",
       "2  Поздравляем участников Квеста \"Цифровой прорыв...   \n",
       "3  В субботу 13 апреля в ИЦТ состоялся Квест \"Циф...   \n",
       "4  Приглашаем студентов и сотрудников ИЦТ присоед...   \n",
       "5  Студенты ИЦТ посетили уже вторую встречу- диск...   \n",
       "\n",
       "                                                html  \n",
       "0  <main class=\"tgme_main\" data-url=\"/klgtu_digit...  \n",
       "1  <main class=\"tgme_main\" data-url=\"/klgtu_digit...  \n",
       "2  <main class=\"tgme_main\" data-url=\"/klgtu_digit...  \n",
       "3  <main class=\"tgme_main\" data-url=\"/klgtu_digit...  \n",
       "4  <main class=\"tgme_main\" data-url=\"/klgtu_digit...  \n",
       "5  <main class=\"tgme_main\" data-url=\"/klgtu_digit...  "
      ]
     },
     "execution_count": 21,
     "metadata": {},
     "output_type": "execute_result"
    }
   ],
   "source": [
    "programms_df.head(50)"
   ]
  },
  {
   "cell_type": "code",
   "execution_count": 22,
   "metadata": {},
   "outputs": [],
   "source": [
    "programms_df.to_json('parsing_tg_career.json', orient='records', force_ascii=False)"
   ]
  },
  {
   "cell_type": "code",
   "execution_count": null,
   "metadata": {},
   "outputs": [],
   "source": []
  },
  {
   "cell_type": "code",
   "execution_count": null,
   "metadata": {},
   "outputs": [],
   "source": []
  }
 ],
 "metadata": {
  "kernelspec": {
   "display_name": "Python 3 (ipykernel)",
   "language": "python",
   "name": "python3"
  },
  "language_info": {
   "codemirror_mode": {
    "name": "ipython",
    "version": 3
   },
   "file_extension": ".py",
   "mimetype": "text/x-python",
   "name": "python",
   "nbconvert_exporter": "python",
   "pygments_lexer": "ipython3",
   "version": "3.11.2"
  },
  "vscode": {
   "interpreter": {
    "hash": "b0fa6594d8f4cbf19f97940f81e996739fb7646882a419484c72d19e05852a7e"
   }
  }
 },
 "nbformat": 4,
 "nbformat_minor": 4
}
