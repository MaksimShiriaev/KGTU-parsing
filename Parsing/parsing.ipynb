{
 "cells": [
  {
   "cell_type": "code",
   "execution_count": 7,
   "metadata": {},
   "outputs": [
    {
     "name": "stdout",
     "output_type": "stream",
     "text": [
      "klgtu\n",
      "database_klgtu\n",
      "klgtu_basic_data\n"
     ]
    }
   ],
   "source": [
    "import sys\n",
    "import json\n",
    "import pandas as pd\n",
    "import os\n",
    "\n",
    "current_dir = os.getcwd()\n",
    "project_dir = os.path.dirname(current_dir)\n",
    "sys.path.append(project_dir)\n",
    "\n",
    "from commonlib.data_manipulation import parse_data\n",
    "from database import BasicData, TimetableData, NewsData\n",
    "\n",
    "with open('parsing_settings.json') as file:\n",
    "    settings = json.load(file)\n",
    "\n",
    "UNI_NAME = settings['uni_name']\n",
    "DB_NAME = settings['db_name']\n",
    "\n",
    "print(UNI_NAME) #идентификатор университа\n",
    "print(DB_NAME) #идентификатор Базы данных\n",
    "print(BasicData.__tablename__) #Базовая таблица (в которую сохраняется основная статическая информация страницы)"
   ]
  },
  {
   "cell_type": "markdown",
   "metadata": {},
   "source": [
    "# Парсеры"
   ]
  },
  {
   "cell_type": "markdown",
   "metadata": {},
   "source": [
    "### Блок \"Новости сайта КГТУ\""
   ]
  },
  {
   "cell_type": "code",
   "execution_count": 8,
   "metadata": {},
   "outputs": [],
   "source": [
    "from block_parsers import Kgtu_news_parser\n",
    "programms_parser = Kgtu_news_parser(3, time_sleep=False)\n"
   ]
  },
  {
   "cell_type": "code",
   "execution_count": 9,
   "metadata": {},
   "outputs": [
    {
     "name": "stdout",
     "output_type": "stream",
     "text": [
      "Cпарсено 30 документов\n"
     ]
    }
   ],
   "source": [
    "programms_df = parse_data(programms_parser)"
   ]
  },
  {
   "cell_type": "code",
   "execution_count": 10,
   "metadata": {},
   "outputs": [
    {
     "data": {
      "text/html": [
       "<div>\n",
       "<style scoped>\n",
       "    .dataframe tbody tr th:only-of-type {\n",
       "        vertical-align: middle;\n",
       "    }\n",
       "\n",
       "    .dataframe tbody tr th {\n",
       "        vertical-align: top;\n",
       "    }\n",
       "\n",
       "    .dataframe thead th {\n",
       "        text-align: right;\n",
       "    }\n",
       "</style>\n",
       "<table border=\"1\" class=\"dataframe\">\n",
       "  <thead>\n",
       "    <tr style=\"text-align: right;\">\n",
       "      <th></th>\n",
       "      <th>url</th>\n",
       "      <th>parser</th>\n",
       "      <th>source</th>\n",
       "      <th>topic_block</th>\n",
       "      <th>parsing_date</th>\n",
       "      <th>public_date</th>\n",
       "      <th>title</th>\n",
       "      <th>context</th>\n",
       "      <th>raw_html</th>\n",
       "      <th>is_document</th>\n",
       "    </tr>\n",
       "  </thead>\n",
       "  <tbody>\n",
       "    <tr>\n",
       "      <th>0</th>\n",
       "      <td>https://www.klgtu.ru/media/novosti/v_kgtu_star...</td>\n",
       "      <td>Kgtu_news_parser</td>\n",
       "      <td>site</td>\n",
       "      <td>news</td>\n",
       "      <td>2024-06-24</td>\n",
       "      <td>2024-06-20</td>\n",
       "      <td>В КГТУ стартовала приёмная кампания</td>\n",
       "      <td>В КГТУ стартовала приёмная кампания - заголово...</td>\n",
       "      <td>&lt;main class=\"main\"&gt;&lt;section class=\"section pt-...</td>\n",
       "      <td>False</td>\n",
       "    </tr>\n",
       "    <tr>\n",
       "      <th>1</th>\n",
       "      <td>https://www.klgtu.ru/media/novosti/uchenym_iz_...</td>\n",
       "      <td>Kgtu_news_parser</td>\n",
       "      <td>site</td>\n",
       "      <td>news</td>\n",
       "      <td>2024-06-24</td>\n",
       "      <td>2024-06-19</td>\n",
       "      <td>Ученым из КГТУ вручена премия «Эврика»</td>\n",
       "      <td>Ученым из КГТУ вручена премия «Эврика» - загол...</td>\n",
       "      <td>&lt;main class=\"main\"&gt;&lt;section class=\"section pt-...</td>\n",
       "      <td>False</td>\n",
       "    </tr>\n",
       "    <tr>\n",
       "      <th>2</th>\n",
       "      <td>https://www.klgtu.ru/media/novosti/v_inoteku_p...</td>\n",
       "      <td>Kgtu_news_parser</td>\n",
       "      <td>site</td>\n",
       "      <td>news</td>\n",
       "      <td>2024-06-24</td>\n",
       "      <td>2024-06-19</td>\n",
       "      <td>В ИНОТЭКУ провели три летние профильные с...</td>\n",
       "      <td>В ИНОТЭКУ провели три летние профильные смены ...</td>\n",
       "      <td>&lt;main class=\"main\"&gt;&lt;section class=\"section pt-...</td>\n",
       "      <td>False</td>\n",
       "    </tr>\n",
       "    <tr>\n",
       "      <th>3</th>\n",
       "      <td>https://www.klgtu.ru/media/novosti/v_kgtu_rabo...</td>\n",
       "      <td>Kgtu_news_parser</td>\n",
       "      <td>site</td>\n",
       "      <td>news</td>\n",
       "      <td>2024-06-24</td>\n",
       "      <td>2024-06-18</td>\n",
       "      <td>В КГТУ работает Центр компетенций по проч...</td>\n",
       "      <td>В КГТУ работает Центр компетенций по прочностн...</td>\n",
       "      <td>&lt;main class=\"main\"&gt;&lt;section class=\"section pt-...</td>\n",
       "      <td>False</td>\n",
       "    </tr>\n",
       "    <tr>\n",
       "      <th>4</th>\n",
       "      <td>https://www.klgtu.ru/media/novosti/v_kgtu_20_i...</td>\n",
       "      <td>Kgtu_news_parser</td>\n",
       "      <td>site</td>\n",
       "      <td>news</td>\n",
       "      <td>2024-06-24</td>\n",
       "      <td>2024-06-18</td>\n",
       "      <td>В КГТУ 20 июня стартует приёмная кампания</td>\n",
       "      <td>В КГТУ 20 июня стартует приёмная кампания - за...</td>\n",
       "      <td>&lt;main class=\"main\"&gt;&lt;section class=\"section pt-...</td>\n",
       "      <td>False</td>\n",
       "    </tr>\n",
       "    <tr>\n",
       "      <th>5</th>\n",
       "      <td>https://www.klgtu.ru/media/novosti/v_institute...</td>\n",
       "      <td>Kgtu_news_parser</td>\n",
       "      <td>site</td>\n",
       "      <td>news</td>\n",
       "      <td>2024-06-24</td>\n",
       "      <td>2024-06-18</td>\n",
       "      <td>В ИЦТ прошли летние технические смены</td>\n",
       "      <td>В ИЦТ прошли летние технические смены - заголо...</td>\n",
       "      <td>&lt;main class=\"main\"&gt;&lt;section class=\"section pt-...</td>\n",
       "      <td>False</td>\n",
       "    </tr>\n",
       "  </tbody>\n",
       "</table>\n",
       "</div>"
      ],
      "text/plain": [
       "                                                 url            parser source  \\\n",
       "0  https://www.klgtu.ru/media/novosti/v_kgtu_star...  Kgtu_news_parser   site   \n",
       "1  https://www.klgtu.ru/media/novosti/uchenym_iz_...  Kgtu_news_parser   site   \n",
       "2  https://www.klgtu.ru/media/novosti/v_inoteku_p...  Kgtu_news_parser   site   \n",
       "3  https://www.klgtu.ru/media/novosti/v_kgtu_rabo...  Kgtu_news_parser   site   \n",
       "4  https://www.klgtu.ru/media/novosti/v_kgtu_20_i...  Kgtu_news_parser   site   \n",
       "5  https://www.klgtu.ru/media/novosti/v_institute...  Kgtu_news_parser   site   \n",
       "\n",
       "  topic_block parsing_date public_date  \\\n",
       "0        news   2024-06-24  2024-06-20   \n",
       "1        news   2024-06-24  2024-06-19   \n",
       "2        news   2024-06-24  2024-06-19   \n",
       "3        news   2024-06-24  2024-06-18   \n",
       "4        news   2024-06-24  2024-06-18   \n",
       "5        news   2024-06-24  2024-06-18   \n",
       "\n",
       "                                               title  \\\n",
       "0                В КГТУ стартовала приёмная кампания   \n",
       "1             Ученым из КГТУ вручена премия «Эврика»   \n",
       "2       В ИНОТЭКУ провели три летние профильные с...   \n",
       "3       В КГТУ работает Центр компетенций по проч...   \n",
       "4         В КГТУ 20 июня стартует приёмная кампания    \n",
       "5             В ИЦТ прошли летние технические смены    \n",
       "\n",
       "                                             context  \\\n",
       "0  В КГТУ стартовала приёмная кампания - заголово...   \n",
       "1  Ученым из КГТУ вручена премия «Эврика» - загол...   \n",
       "2  В ИНОТЭКУ провели три летние профильные смены ...   \n",
       "3  В КГТУ работает Центр компетенций по прочностн...   \n",
       "4  В КГТУ 20 июня стартует приёмная кампания - за...   \n",
       "5  В ИЦТ прошли летние технические смены - заголо...   \n",
       "\n",
       "                                            raw_html  is_document  \n",
       "0  <main class=\"main\"><section class=\"section pt-...        False  \n",
       "1  <main class=\"main\"><section class=\"section pt-...        False  \n",
       "2  <main class=\"main\"><section class=\"section pt-...        False  \n",
       "3  <main class=\"main\"><section class=\"section pt-...        False  \n",
       "4  <main class=\"main\"><section class=\"section pt-...        False  \n",
       "5  <main class=\"main\"><section class=\"section pt-...        False  "
      ]
     },
     "execution_count": 10,
     "metadata": {},
     "output_type": "execute_result"
    }
   ],
   "source": [
    "programms_df.head(6)"
   ]
  },
  {
   "cell_type": "code",
   "execution_count": 11,
   "metadata": {
    "scrolled": true
   },
   "outputs": [
    {
     "name": "stdout",
     "output_type": "stream",
     "text": [
      "Ученым из КГТУ вручена премия «Эврика» - заголовок страницы;; \"Ваш талант, самоотверженность, увлеченность и искреннее желание сделать свой регион лучше, впечатляют. Приятно удивлен большим количеством молодых лауреатов и целых коллективов с опытными наставниками и продолжателями их дела. Обещаю не оставлять без внимания ваши идеи и замыслы, применять их на благо Калининградской области\" - отметил врио губернатора Алексей Беспрозванных. ;; Поздравления в этот день и денежные премии за победу в номинации \"Эврика\" получили представители Калининградского государственного технического университета за проект \"Система автоматизированного проектирования и имитационного 3D-моделирования технических средств рыболовства\". ;; Счастливыми обладателями премии стал авторский коллектив разработчиков IT продукта: проректор по отраслевой научно-методической деятельности, заведующий кафедрой промышленного рыболовства КГТУ А.А. Недоступ, кандидат технических наук, ведущий научный сотрудник университета А.О. Ражев и доцент кафедры промышленного рыболовства, заместитель директора по основной образовательной деятельности института рыболовства и аквакультуры Е.Е. Львова. ;; Премия \"Эврика\" присуждается за достижения в области науки, технологий и инновационной деятельности, \"Признание\" – за достижения в области культуры, литературы и искусства, \"Созидание\" – за достижения в области строительства и жилищно-коммунального комплекса, промышленности, транспорта, архитектуры, природоохранной деятельности, других сферах хозяйствования, \"Сопричастность\" – за достижения в гуманитарной и социальной сферах. ;; В этом году обладателями региональных премий \"Эврика\", \"Признание\", \"Сопричастность\" и \"Созидание\" стали 22 лауреата.\n"
     ]
    }
   ],
   "source": [
    "#print(programms_df.iloc[1]['url'])\n",
    "print(programms_df.iloc[1]['context'])\n",
    "#print(programms_df.iloc[1]['html'])"
   ]
  },
  {
   "cell_type": "code",
   "execution_count": 12,
   "metadata": {},
   "outputs": [],
   "source": [
    "programms_df.to_json('parsing_news.json', orient='records', force_ascii=False)"
   ]
  },
  {
   "cell_type": "markdown",
   "metadata": {},
   "source": [
    "### Блок \"Анонсы сайта КГТУ\""
   ]
  },
  {
   "cell_type": "code",
   "execution_count": 13,
   "metadata": {},
   "outputs": [],
   "source": [
    "from block_parsers import Kgtu_anons_parser\n",
    "programms_parser = Kgtu_anons_parser(3, time_sleep=False)\n"
   ]
  },
  {
   "cell_type": "code",
   "execution_count": 14,
   "metadata": {},
   "outputs": [
    {
     "name": "stdout",
     "output_type": "stream",
     "text": [
      "Cпарсено 30 документов\n"
     ]
    }
   ],
   "source": [
    "programms_df = parse_data(programms_parser)"
   ]
  },
  {
   "cell_type": "code",
   "execution_count": 15,
   "metadata": {},
   "outputs": [
    {
     "data": {
      "text/html": [
       "<div>\n",
       "<style scoped>\n",
       "    .dataframe tbody tr th:only-of-type {\n",
       "        vertical-align: middle;\n",
       "    }\n",
       "\n",
       "    .dataframe tbody tr th {\n",
       "        vertical-align: top;\n",
       "    }\n",
       "\n",
       "    .dataframe thead th {\n",
       "        text-align: right;\n",
       "    }\n",
       "</style>\n",
       "<table border=\"1\" class=\"dataframe\">\n",
       "  <thead>\n",
       "    <tr style=\"text-align: right;\">\n",
       "      <th></th>\n",
       "      <th>url</th>\n",
       "      <th>parser</th>\n",
       "      <th>source</th>\n",
       "      <th>topic_block</th>\n",
       "      <th>parsing_date</th>\n",
       "      <th>public_date</th>\n",
       "      <th>title</th>\n",
       "      <th>context</th>\n",
       "      <th>raw_html</th>\n",
       "      <th>is_document</th>\n",
       "    </tr>\n",
       "  </thead>\n",
       "  <tbody>\n",
       "    <tr>\n",
       "      <th>0</th>\n",
       "      <td>https://www.klgtu.ru/media/anonsy/v_kaliningra...</td>\n",
       "      <td>Kgtu_anons_parser</td>\n",
       "      <td>site</td>\n",
       "      <td>anons</td>\n",
       "      <td>2024-06-24</td>\n",
       "      <td>2024-06-18</td>\n",
       "      <td>В Калининграде пройдёт фестиваль Дня моло...</td>\n",
       "      <td>В Калининграде пройдёт фестиваль Дня молодёжи ...</td>\n",
       "      <td>&lt;main class=\"main\"&gt;&lt;section class=\"section pt-...</td>\n",
       "      <td>False</td>\n",
       "    </tr>\n",
       "    <tr>\n",
       "      <th>1</th>\n",
       "      <td>https://www.klgtu.ru/media/anonsy/master_klass...</td>\n",
       "      <td>Kgtu_anons_parser</td>\n",
       "      <td>site</td>\n",
       "      <td>anons</td>\n",
       "      <td>2024-06-24</td>\n",
       "      <td>2024-06-18</td>\n",
       "      <td>Мастер-класс \"Как писать заявку на патент?\"</td>\n",
       "      <td>Мастер-класс \"Как писать заявку на патент?\" - ...</td>\n",
       "      <td>&lt;main class=\"main\"&gt;&lt;section class=\"section pt-...</td>\n",
       "      <td>False</td>\n",
       "    </tr>\n",
       "    <tr>\n",
       "      <th>2</th>\n",
       "      <td>https://www.klgtu.ru/media/anonsy/ochnyy_etap_...</td>\n",
       "      <td>Kgtu_anons_parser</td>\n",
       "      <td>site</td>\n",
       "      <td>anons</td>\n",
       "      <td>2024-06-24</td>\n",
       "      <td>2024-06-05</td>\n",
       "      <td>Очный этап конкурса \"Смотрим за горизонт\"</td>\n",
       "      <td>Очный этап конкурса \"Смотрим за горизонт\" - за...</td>\n",
       "      <td>&lt;main class=\"main\"&gt;&lt;section class=\"section pt-...</td>\n",
       "      <td>False</td>\n",
       "    </tr>\n",
       "    <tr>\n",
       "      <th>3</th>\n",
       "      <td>https://www.klgtu.ru/media/anonsy/parad_zvyezd...</td>\n",
       "      <td>Kgtu_anons_parser</td>\n",
       "      <td>site</td>\n",
       "      <td>anons</td>\n",
       "      <td>2024-06-24</td>\n",
       "      <td>2024-05-28</td>\n",
       "      <td>Парад звёзд - 2024!</td>\n",
       "      <td>Парад звёзд - 2024! - заголовок страницы;; 26 ...</td>\n",
       "      <td>&lt;main class=\"main\"&gt;&lt;section class=\"section pt-...</td>\n",
       "      <td>False</td>\n",
       "    </tr>\n",
       "    <tr>\n",
       "      <th>4</th>\n",
       "      <td>https://www.klgtu.ru/media/anonsy/registriruys...</td>\n",
       "      <td>Kgtu_anons_parser</td>\n",
       "      <td>site</td>\n",
       "      <td>anons</td>\n",
       "      <td>2024-06-24</td>\n",
       "      <td>2024-05-23</td>\n",
       "      <td>Регистрируйся и участвуй в молодёжном мед...</td>\n",
       "      <td>Регистрируйся и участвуй в молодёжном медиафор...</td>\n",
       "      <td>&lt;main class=\"main\"&gt;&lt;section class=\"section pt-...</td>\n",
       "      <td>False</td>\n",
       "    </tr>\n",
       "    <tr>\n",
       "      <th>5</th>\n",
       "      <td>https://www.klgtu.ru/media/anonsy/prazdnik_nat...</td>\n",
       "      <td>Kgtu_anons_parser</td>\n",
       "      <td>site</td>\n",
       "      <td>anons</td>\n",
       "      <td>2024-06-24</td>\n",
       "      <td>2024-05-23</td>\n",
       "      <td>Праздник национальных культур в КГТУ</td>\n",
       "      <td>Праздник национальных культур в КГТУ - заголов...</td>\n",
       "      <td>&lt;main class=\"main\"&gt;&lt;section class=\"section pt-...</td>\n",
       "      <td>False</td>\n",
       "    </tr>\n",
       "  </tbody>\n",
       "</table>\n",
       "</div>"
      ],
      "text/plain": [
       "                                                 url             parser  \\\n",
       "0  https://www.klgtu.ru/media/anonsy/v_kaliningra...  Kgtu_anons_parser   \n",
       "1  https://www.klgtu.ru/media/anonsy/master_klass...  Kgtu_anons_parser   \n",
       "2  https://www.klgtu.ru/media/anonsy/ochnyy_etap_...  Kgtu_anons_parser   \n",
       "3  https://www.klgtu.ru/media/anonsy/parad_zvyezd...  Kgtu_anons_parser   \n",
       "4  https://www.klgtu.ru/media/anonsy/registriruys...  Kgtu_anons_parser   \n",
       "5  https://www.klgtu.ru/media/anonsy/prazdnik_nat...  Kgtu_anons_parser   \n",
       "\n",
       "  source topic_block parsing_date public_date  \\\n",
       "0   site       anons   2024-06-24  2024-06-18   \n",
       "1   site       anons   2024-06-24  2024-06-18   \n",
       "2   site       anons   2024-06-24  2024-06-05   \n",
       "3   site       anons   2024-06-24  2024-05-28   \n",
       "4   site       anons   2024-06-24  2024-05-23   \n",
       "5   site       anons   2024-06-24  2024-05-23   \n",
       "\n",
       "                                               title  \\\n",
       "0       В Калининграде пройдёт фестиваль Дня моло...   \n",
       "1        Мастер-класс \"Как писать заявку на патент?\"   \n",
       "2          Очный этап конкурса \"Смотрим за горизонт\"   \n",
       "3                                Парад звёзд - 2024!   \n",
       "4       Регистрируйся и участвуй в молодёжном мед...   \n",
       "5               Праздник национальных культур в КГТУ   \n",
       "\n",
       "                                             context  \\\n",
       "0  В Калининграде пройдёт фестиваль Дня молодёжи ...   \n",
       "1  Мастер-класс \"Как писать заявку на патент?\" - ...   \n",
       "2  Очный этап конкурса \"Смотрим за горизонт\" - за...   \n",
       "3  Парад звёзд - 2024! - заголовок страницы;; 26 ...   \n",
       "4  Регистрируйся и участвуй в молодёжном медиафор...   \n",
       "5  Праздник национальных культур в КГТУ - заголов...   \n",
       "\n",
       "                                            raw_html  is_document  \n",
       "0  <main class=\"main\"><section class=\"section pt-...        False  \n",
       "1  <main class=\"main\"><section class=\"section pt-...        False  \n",
       "2  <main class=\"main\"><section class=\"section pt-...        False  \n",
       "3  <main class=\"main\"><section class=\"section pt-...        False  \n",
       "4  <main class=\"main\"><section class=\"section pt-...        False  \n",
       "5  <main class=\"main\"><section class=\"section pt-...        False  "
      ]
     },
     "execution_count": 15,
     "metadata": {},
     "output_type": "execute_result"
    }
   ],
   "source": [
    "programms_df.head(6)"
   ]
  },
  {
   "cell_type": "code",
   "execution_count": 16,
   "metadata": {},
   "outputs": [
    {
     "name": "stdout",
     "output_type": "stream",
     "text": [
      "https://www.klgtu.ru/media/anonsy/master_klass_kak_pisat_zayavku_na_patent_/\n",
      "Мастер-класс \"Как писать заявку на патент?\" - заголовок страницы;; Студенты и молодые изобретатели! Приглашаем вас на мастер-класс, который раскроет секреты написания заявки на патент. ;; Узнайте, как защитить свои идеи и технологии! ;; Спикер - ведущий патентовед, автор более 40 патентов Ногай Светлана Александровна! ;; На мастер-классе вы: ;; -получите знания от эксперта в области интеллектуальной собственности; ;; - научитесь формулировать заявки на патенты; ;; - изучите процесс регистрации патентов. ;; Не упустите шанс стать частью инновационного сообщества! ;; Регистрация обязательна - https://forms.yandex.ru/cloud/66713c81e010db26ad57de11/ ;; 24 июня, 16:00 в Точке кипения КГТУ (проспект Мира, 2, 2-ой этаж, ауд.229) ;; Ждем вас!\n"
     ]
    }
   ],
   "source": [
    "print(programms_df.iloc[1]['url'])\n",
    "print(programms_df.iloc[1]['context'])"
   ]
  },
  {
   "cell_type": "code",
   "execution_count": 17,
   "metadata": {},
   "outputs": [],
   "source": [
    "programms_df.to_json('parsing_anons.json', orient='records', force_ascii=False)"
   ]
  },
  {
   "cell_type": "markdown",
   "metadata": {},
   "source": [
    "### Блок \"Объявления сайта КГТУ\""
   ]
  },
  {
   "cell_type": "code",
   "execution_count": 18,
   "metadata": {},
   "outputs": [],
   "source": [
    "from block_parsers import Kgtu_obyava_parser\n",
    "programms_parser = Kgtu_obyava_parser(3, time_sleep=False)"
   ]
  },
  {
   "cell_type": "code",
   "execution_count": 19,
   "metadata": {},
   "outputs": [
    {
     "name": "stdout",
     "output_type": "stream",
     "text": [
      "Cпарсено 30 документов\n"
     ]
    }
   ],
   "source": [
    "programms_df = parse_data(programms_parser)"
   ]
  },
  {
   "cell_type": "code",
   "execution_count": 20,
   "metadata": {},
   "outputs": [
    {
     "data": {
      "text/html": [
       "<div>\n",
       "<style scoped>\n",
       "    .dataframe tbody tr th:only-of-type {\n",
       "        vertical-align: middle;\n",
       "    }\n",
       "\n",
       "    .dataframe tbody tr th {\n",
       "        vertical-align: top;\n",
       "    }\n",
       "\n",
       "    .dataframe thead th {\n",
       "        text-align: right;\n",
       "    }\n",
       "</style>\n",
       "<table border=\"1\" class=\"dataframe\">\n",
       "  <thead>\n",
       "    <tr style=\"text-align: right;\">\n",
       "      <th></th>\n",
       "      <th>url</th>\n",
       "      <th>parser</th>\n",
       "      <th>source</th>\n",
       "      <th>topic_block</th>\n",
       "      <th>parsing_date</th>\n",
       "      <th>public_date</th>\n",
       "      <th>title</th>\n",
       "      <th>context</th>\n",
       "      <th>raw_html</th>\n",
       "      <th>is_document</th>\n",
       "    </tr>\n",
       "  </thead>\n",
       "  <tbody>\n",
       "    <tr>\n",
       "      <th>0</th>\n",
       "      <td>https://www.klgtu.ru/media/obyavleniya/rabota_...</td>\n",
       "      <td>Kgtu_obyava_parser</td>\n",
       "      <td>site</td>\n",
       "      <td>obyava</td>\n",
       "      <td>2024-06-24</td>\n",
       "      <td>2024-06-17</td>\n",
       "      <td>Работа для профессорско-преподавательског...</td>\n",
       "      <td>Работа для профессорско-преподавательского сос...</td>\n",
       "      <td>&lt;main class=\"main\"&gt;&lt;section class=\"section pt-...</td>\n",
       "      <td>False</td>\n",
       "    </tr>\n",
       "    <tr>\n",
       "      <th>1</th>\n",
       "      <td>https://www.klgtu.ru/media/obyavleniya/v_kalin...</td>\n",
       "      <td>Kgtu_obyava_parser</td>\n",
       "      <td>site</td>\n",
       "      <td>obyava</td>\n",
       "      <td>2024-06-24</td>\n",
       "      <td>2024-06-17</td>\n",
       "      <td>В Калининграде пройдет Всероссийская акци...</td>\n",
       "      <td>В Калининграде пройдет Всероссийская акция «Св...</td>\n",
       "      <td>&lt;main class=\"main\"&gt;&lt;section class=\"section pt-...</td>\n",
       "      <td>False</td>\n",
       "    </tr>\n",
       "    <tr>\n",
       "      <th>2</th>\n",
       "      <td>https://www.klgtu.ru/media/obyavleniya/v_kalin...</td>\n",
       "      <td>Kgtu_obyava_parser</td>\n",
       "      <td>site</td>\n",
       "      <td>obyava</td>\n",
       "      <td>2024-06-24</td>\n",
       "      <td>2024-06-17</td>\n",
       "      <td>В Калининградской области года пройдет ки...</td>\n",
       "      <td>В Калининградской области года пройдет киберсп...</td>\n",
       "      <td>&lt;main class=\"main\"&gt;&lt;section class=\"section pt-...</td>\n",
       "      <td>False</td>\n",
       "    </tr>\n",
       "    <tr>\n",
       "      <th>3</th>\n",
       "      <td>https://www.klgtu.ru/media/obyavleniya/vnimani...</td>\n",
       "      <td>Kgtu_obyava_parser</td>\n",
       "      <td>site</td>\n",
       "      <td>obyava</td>\n",
       "      <td>2024-06-24</td>\n",
       "      <td>2024-06-04</td>\n",
       "      <td>Внимание, КОНКУРС!</td>\n",
       "      <td>Внимание, КОНКУРС! - заголовок страницы;; Студ...</td>\n",
       "      <td>&lt;main class=\"main\"&gt;&lt;section class=\"section pt-...</td>\n",
       "      <td>False</td>\n",
       "    </tr>\n",
       "    <tr>\n",
       "      <th>4</th>\n",
       "      <td>https://www.klgtu.ru/media/obyavleniya/poday_z...</td>\n",
       "      <td>Kgtu_obyava_parser</td>\n",
       "      <td>site</td>\n",
       "      <td>obyava</td>\n",
       "      <td>2024-06-24</td>\n",
       "      <td>2024-05-23</td>\n",
       "      <td>Подай заявку на Международную Премию #МЫВ...</td>\n",
       "      <td>Подай заявку на Международную Премию #МЫВМЕСТЕ...</td>\n",
       "      <td>&lt;main class=\"main\"&gt;&lt;section class=\"section pt-...</td>\n",
       "      <td>False</td>\n",
       "    </tr>\n",
       "    <tr>\n",
       "      <th>5</th>\n",
       "      <td>https://www.klgtu.ru/media/obyavleniya/obuchen...</td>\n",
       "      <td>Kgtu_obyava_parser</td>\n",
       "      <td>site</td>\n",
       "      <td>obyava</td>\n",
       "      <td>2024-06-24</td>\n",
       "      <td>2024-05-21</td>\n",
       "      <td>Обучение в Сербии!</td>\n",
       "      <td>Обучение в Сербии! - заголовок страницы;; Мини...</td>\n",
       "      <td>&lt;main class=\"main\"&gt;&lt;section class=\"section pt-...</td>\n",
       "      <td>False</td>\n",
       "    </tr>\n",
       "  </tbody>\n",
       "</table>\n",
       "</div>"
      ],
      "text/plain": [
       "                                                 url              parser  \\\n",
       "0  https://www.klgtu.ru/media/obyavleniya/rabota_...  Kgtu_obyava_parser   \n",
       "1  https://www.klgtu.ru/media/obyavleniya/v_kalin...  Kgtu_obyava_parser   \n",
       "2  https://www.klgtu.ru/media/obyavleniya/v_kalin...  Kgtu_obyava_parser   \n",
       "3  https://www.klgtu.ru/media/obyavleniya/vnimani...  Kgtu_obyava_parser   \n",
       "4  https://www.klgtu.ru/media/obyavleniya/poday_z...  Kgtu_obyava_parser   \n",
       "5  https://www.klgtu.ru/media/obyavleniya/obuchen...  Kgtu_obyava_parser   \n",
       "\n",
       "  source topic_block parsing_date public_date  \\\n",
       "0   site      obyava   2024-06-24  2024-06-17   \n",
       "1   site      obyava   2024-06-24  2024-06-17   \n",
       "2   site      obyava   2024-06-24  2024-06-17   \n",
       "3   site      obyava   2024-06-24  2024-06-04   \n",
       "4   site      obyava   2024-06-24  2024-05-23   \n",
       "5   site      obyava   2024-06-24  2024-05-21   \n",
       "\n",
       "                                               title  \\\n",
       "0       Работа для профессорско-преподавательског...   \n",
       "1       В Калининграде пройдет Всероссийская акци...   \n",
       "2       В Калининградской области года пройдет ки...   \n",
       "3                                 Внимание, КОНКУРС!   \n",
       "4       Подай заявку на Международную Премию #МЫВ...   \n",
       "5                                 Обучение в Сербии!   \n",
       "\n",
       "                                             context  \\\n",
       "0  Работа для профессорско-преподавательского сос...   \n",
       "1  В Калининграде пройдет Всероссийская акция «Св...   \n",
       "2  В Калининградской области года пройдет киберсп...   \n",
       "3  Внимание, КОНКУРС! - заголовок страницы;; Студ...   \n",
       "4  Подай заявку на Международную Премию #МЫВМЕСТЕ...   \n",
       "5  Обучение в Сербии! - заголовок страницы;; Мини...   \n",
       "\n",
       "                                            raw_html  is_document  \n",
       "0  <main class=\"main\"><section class=\"section pt-...        False  \n",
       "1  <main class=\"main\"><section class=\"section pt-...        False  \n",
       "2  <main class=\"main\"><section class=\"section pt-...        False  \n",
       "3  <main class=\"main\"><section class=\"section pt-...        False  \n",
       "4  <main class=\"main\"><section class=\"section pt-...        False  \n",
       "5  <main class=\"main\"><section class=\"section pt-...        False  "
      ]
     },
     "execution_count": 20,
     "metadata": {},
     "output_type": "execute_result"
    }
   ],
   "source": [
    "programms_df.head(6)"
   ]
  },
  {
   "cell_type": "code",
   "execution_count": 21,
   "metadata": {},
   "outputs": [
    {
     "name": "stdout",
     "output_type": "stream",
     "text": [
      "https://www.klgtu.ru/media/obyavleniya/v_kaliningradskoy_oblasti_goda_proydet_kibersportivnyy_turnir_po_dota_2/\n",
      "В Калининградской области года пройдет киберспортивный турнир по «Dota 2» - заголовок страницы;; В Калининградской области с 03 по 10 октября 2024 года пройдет киберспортивный турнир по «Dota 2». ;; Турнир будет проходить в рамках международного движения «Игры будущего», объединяющего спорт, науку, образование и технологии. ;; К участию в турнире приглашаются киберспортивные команды высших и среднеспециальных учебных заведений. ;; Максимальное количество участников команды составляет 5 человек, возраст – от 18 до 27 лет. ;; Решение о ее рассмотрении будет направлено на адрес электронной почты, указанный в заявке. ;; Отборочные туры продлятся до 01 сентября 2024 года, по итогам которых в финал будут отобраны 8 команд. ;; В рамках проведения итогового турнира в Калининградской области для участников будут организованы спортивные и культурно-познавательные мероприятия. ;; Ознакомиться с программой мероприятия, регламентом проведения турнира, а также получить консультацию возможно перейдя по указанной ссылке на сайте организатора. ;; Для участия в турнире в срок до 28 июня 2024 года необходимо заполнить заявку на сайте: https://friday.center/sobyitiya/turyi/cybercamp.html.\n"
     ]
    }
   ],
   "source": [
    "print(programms_df.iloc[2]['url'])\n",
    "print(programms_df.iloc[2]['context'])"
   ]
  },
  {
   "cell_type": "code",
   "execution_count": 22,
   "metadata": {},
   "outputs": [],
   "source": [
    "programms_df.to_json('parsing_obyava.json', orient='records', force_ascii=False)"
   ]
  },
  {
   "cell_type": "markdown",
   "metadata": {},
   "source": [
    "### Блок \"Институты КГТУ\""
   ]
  },
  {
   "cell_type": "code",
   "execution_count": 23,
   "metadata": {},
   "outputs": [],
   "source": [
    "from block_parsers import Kgtu_instituts_parser\n",
    "programms_parser = Kgtu_instituts_parser(time_sleep=False)"
   ]
  },
  {
   "cell_type": "code",
   "execution_count": 24,
   "metadata": {},
   "outputs": [
    {
     "name": "stdout",
     "output_type": "stream",
     "text": [
      "Cпарсено 9 документов\n"
     ]
    }
   ],
   "source": [
    "programms_df = parse_data(programms_parser)"
   ]
  },
  {
   "cell_type": "code",
   "execution_count": 25,
   "metadata": {},
   "outputs": [
    {
     "data": {
      "text/html": [
       "<div>\n",
       "<style scoped>\n",
       "    .dataframe tbody tr th:only-of-type {\n",
       "        vertical-align: middle;\n",
       "    }\n",
       "\n",
       "    .dataframe tbody tr th {\n",
       "        vertical-align: top;\n",
       "    }\n",
       "\n",
       "    .dataframe thead th {\n",
       "        text-align: right;\n",
       "    }\n",
       "</style>\n",
       "<table border=\"1\" class=\"dataframe\">\n",
       "  <thead>\n",
       "    <tr style=\"text-align: right;\">\n",
       "      <th></th>\n",
       "      <th>url</th>\n",
       "      <th>parser</th>\n",
       "      <th>source</th>\n",
       "      <th>topic_block</th>\n",
       "      <th>parsing_date</th>\n",
       "      <th>public_date</th>\n",
       "      <th>title</th>\n",
       "      <th>context</th>\n",
       "      <th>raw_html</th>\n",
       "      <th>is_document</th>\n",
       "    </tr>\n",
       "  </thead>\n",
       "  <tbody>\n",
       "    <tr>\n",
       "      <th>0</th>\n",
       "      <td>https://www.klgtu.ru/institutes/institut_rybol...</td>\n",
       "      <td>Kgtu_instituts_parser</td>\n",
       "      <td>site</td>\n",
       "      <td>instituts</td>\n",
       "      <td>2024-06-24</td>\n",
       "      <td>None</td>\n",
       "      <td>Институт рыболовства и а...</td>\n",
       "      <td>Институт рыболовства и аквакультуры - заголово...</td>\n",
       "      <td>&lt;main class=\"main\"&gt; &lt;section class=\"section mo...</td>\n",
       "      <td>False</td>\n",
       "    </tr>\n",
       "    <tr>\n",
       "      <th>1</th>\n",
       "      <td>https://www.klgtu.ru/institutes/institut_agroi...</td>\n",
       "      <td>Kgtu_instituts_parser</td>\n",
       "      <td>site</td>\n",
       "      <td>instituts</td>\n",
       "      <td>2024-06-24</td>\n",
       "      <td>None</td>\n",
       "      <td>Институт агроинженерии и...</td>\n",
       "      <td>Институт агроинженерии и пищевых систем - заго...</td>\n",
       "      <td>&lt;main class=\"main\"&gt; &lt;section class=\"section mo...</td>\n",
       "      <td>False</td>\n",
       "    </tr>\n",
       "    <tr>\n",
       "      <th>2</th>\n",
       "      <td>https://www.klgtu.ru/institutes/institut_tsifr...</td>\n",
       "      <td>Kgtu_instituts_parser</td>\n",
       "      <td>site</td>\n",
       "      <td>instituts</td>\n",
       "      <td>2024-06-24</td>\n",
       "      <td>None</td>\n",
       "      <td>Институт цифровых технол...</td>\n",
       "      <td>Институт цифровых технологий - заголовок стран...</td>\n",
       "      <td>&lt;main class=\"main\"&gt; &lt;section class=\"section mo...</td>\n",
       "      <td>False</td>\n",
       "    </tr>\n",
       "    <tr>\n",
       "      <th>3</th>\n",
       "      <td>https://www.klgtu.ru/institutes/institut_morsk...</td>\n",
       "      <td>Kgtu_instituts_parser</td>\n",
       "      <td>site</td>\n",
       "      <td>instituts</td>\n",
       "      <td>2024-06-24</td>\n",
       "      <td>None</td>\n",
       "      <td>Институт морских техноло...</td>\n",
       "      <td>Институт морских технологий, энергетики и стро...</td>\n",
       "      <td>&lt;main class=\"main\"&gt; &lt;section class=\"section mo...</td>\n",
       "      <td>False</td>\n",
       "    </tr>\n",
       "    <tr>\n",
       "      <th>4</th>\n",
       "      <td>https://www.klgtu.ru/institutes/institut_inzhe...</td>\n",
       "      <td>Kgtu_instituts_parser</td>\n",
       "      <td>site</td>\n",
       "      <td>instituts</td>\n",
       "      <td>2024-06-24</td>\n",
       "      <td>None</td>\n",
       "      <td>Институт инженерной педа...</td>\n",
       "      <td>Институт инженерной педагогики и гуманитарной ...</td>\n",
       "      <td>&lt;main class=\"main\"&gt; &lt;section class=\"section mo...</td>\n",
       "      <td>False</td>\n",
       "    </tr>\n",
       "    <tr>\n",
       "      <th>5</th>\n",
       "      <td>https://www.klgtu.ru/institutes/institut_otras...</td>\n",
       "      <td>Kgtu_instituts_parser</td>\n",
       "      <td>site</td>\n",
       "      <td>instituts</td>\n",
       "      <td>2024-06-24</td>\n",
       "      <td>None</td>\n",
       "      <td>Институт отраслевой экон...</td>\n",
       "      <td>Институт отраслевой экономики и управления - з...</td>\n",
       "      <td>&lt;main class=\"main\"&gt; &lt;section class=\"section mo...</td>\n",
       "      <td>False</td>\n",
       "    </tr>\n",
       "    <tr>\n",
       "      <th>6</th>\n",
       "      <td>https://www.klgtu.ru/institutes/kaliningradski...</td>\n",
       "      <td>Kgtu_instituts_parser</td>\n",
       "      <td>site</td>\n",
       "      <td>instituts</td>\n",
       "      <td>2024-06-24</td>\n",
       "      <td>None</td>\n",
       "      <td>Калининградский морской ...</td>\n",
       "      <td>Калининградский морской рыбопромышленный колле...</td>\n",
       "      <td>&lt;main class=\"main\"&gt; &lt;section class=\"section bg...</td>\n",
       "      <td>False</td>\n",
       "    </tr>\n",
       "    <tr>\n",
       "      <th>7</th>\n",
       "      <td>https://www.klgtu.ru/institutes/morskoy_institut/</td>\n",
       "      <td>Kgtu_instituts_parser</td>\n",
       "      <td>site</td>\n",
       "      <td>instituts</td>\n",
       "      <td>2024-06-24</td>\n",
       "      <td>None</td>\n",
       "      <td>Морской институт        ...</td>\n",
       "      <td>Морской институт - заголовок страницы;; Контак...</td>\n",
       "      <td>&lt;main class=\"main\"&gt; &lt;section class=\"section mo...</td>\n",
       "      <td>False</td>\n",
       "    </tr>\n",
       "    <tr>\n",
       "      <th>8</th>\n",
       "      <td>https://www.klgtu.ru/institutes/sankt_peterbur...</td>\n",
       "      <td>Kgtu_instituts_parser</td>\n",
       "      <td>site</td>\n",
       "      <td>instituts</td>\n",
       "      <td>2024-06-24</td>\n",
       "      <td>None</td>\n",
       "      <td>Санкт-Петербургский морс...</td>\n",
       "      <td>Санкт-Петербургский морской рыбопромышленный к...</td>\n",
       "      <td>&lt;main class=\"main\"&gt; &lt;section class=\"section bg...</td>\n",
       "      <td>False</td>\n",
       "    </tr>\n",
       "  </tbody>\n",
       "</table>\n",
       "</div>"
      ],
      "text/plain": [
       "                                                 url                 parser  \\\n",
       "0  https://www.klgtu.ru/institutes/institut_rybol...  Kgtu_instituts_parser   \n",
       "1  https://www.klgtu.ru/institutes/institut_agroi...  Kgtu_instituts_parser   \n",
       "2  https://www.klgtu.ru/institutes/institut_tsifr...  Kgtu_instituts_parser   \n",
       "3  https://www.klgtu.ru/institutes/institut_morsk...  Kgtu_instituts_parser   \n",
       "4  https://www.klgtu.ru/institutes/institut_inzhe...  Kgtu_instituts_parser   \n",
       "5  https://www.klgtu.ru/institutes/institut_otras...  Kgtu_instituts_parser   \n",
       "6  https://www.klgtu.ru/institutes/kaliningradski...  Kgtu_instituts_parser   \n",
       "7  https://www.klgtu.ru/institutes/morskoy_institut/  Kgtu_instituts_parser   \n",
       "8  https://www.klgtu.ru/institutes/sankt_peterbur...  Kgtu_instituts_parser   \n",
       "\n",
       "  source topic_block parsing_date public_date  \\\n",
       "0   site   instituts   2024-06-24        None   \n",
       "1   site   instituts   2024-06-24        None   \n",
       "2   site   instituts   2024-06-24        None   \n",
       "3   site   instituts   2024-06-24        None   \n",
       "4   site   instituts   2024-06-24        None   \n",
       "5   site   instituts   2024-06-24        None   \n",
       "6   site   instituts   2024-06-24        None   \n",
       "7   site   instituts   2024-06-24        None   \n",
       "8   site   instituts   2024-06-24        None   \n",
       "\n",
       "                                               title  \\\n",
       "0                        Институт рыболовства и а...   \n",
       "1                        Институт агроинженерии и...   \n",
       "2                        Институт цифровых технол...   \n",
       "3                        Институт морских техноло...   \n",
       "4                        Институт инженерной педа...   \n",
       "5                        Институт отраслевой экон...   \n",
       "6                        Калининградский морской ...   \n",
       "7                        Морской институт        ...   \n",
       "8                        Санкт-Петербургский морс...   \n",
       "\n",
       "                                             context  \\\n",
       "0  Институт рыболовства и аквакультуры - заголово...   \n",
       "1  Институт агроинженерии и пищевых систем - заго...   \n",
       "2  Институт цифровых технологий - заголовок стран...   \n",
       "3  Институт морских технологий, энергетики и стро...   \n",
       "4  Институт инженерной педагогики и гуманитарной ...   \n",
       "5  Институт отраслевой экономики и управления - з...   \n",
       "6  Калининградский морской рыбопромышленный колле...   \n",
       "7  Морской институт - заголовок страницы;; Контак...   \n",
       "8  Санкт-Петербургский морской рыбопромышленный к...   \n",
       "\n",
       "                                            raw_html  is_document  \n",
       "0  <main class=\"main\"> <section class=\"section mo...        False  \n",
       "1  <main class=\"main\"> <section class=\"section mo...        False  \n",
       "2  <main class=\"main\"> <section class=\"section mo...        False  \n",
       "3  <main class=\"main\"> <section class=\"section mo...        False  \n",
       "4  <main class=\"main\"> <section class=\"section mo...        False  \n",
       "5  <main class=\"main\"> <section class=\"section mo...        False  \n",
       "6  <main class=\"main\"> <section class=\"section bg...        False  \n",
       "7  <main class=\"main\"> <section class=\"section mo...        False  \n",
       "8  <main class=\"main\"> <section class=\"section bg...        False  "
      ]
     },
     "execution_count": 25,
     "metadata": {},
     "output_type": "execute_result"
    }
   ],
   "source": [
    "programms_df.head(9)"
   ]
  },
  {
   "cell_type": "code",
   "execution_count": 26,
   "metadata": {},
   "outputs": [
    {
     "name": "stdout",
     "output_type": "stream",
     "text": [
      "Институт агроинженерии и пищевых систем - заголовок страницы;; Контакты: ДИРЕКЦИЯ ; тел: 8 (4012) 99-53-40; email - vasilij.verkhoturov@klgtu.ru; адрес - г. Калининград, Советский проспект, 1 ; режим работы ПН-ПТ 8:30 – 17:00 ; обеденный перерыв 13:00 – 13:30 ; соц. сети ;; Контакты: СТУДЕНЧЕСКИЙ ОФИС ; тел: 8 (4012) 99-53-50; адрес - г. Калининград, Советский проспект, 1 ; режим работы ПН-ПТ 9:00 – 17:00 ; обеденный перерыв 13:00 – 13:30 ;; Кафедра агрономии и агроэкологии; Кафедра инжиниринга технологического оборудования; Кафедра производства и экспертизы качества сельскохозяйственной продукции; Кафедра пищевой биотехнологии; Кафедра технологии продуктов питания; Учебно-практический центр «БалтикВет»; Кафедра химии; Балтийская высшая школа гастрономии\n"
     ]
    }
   ],
   "source": [
    "print(programms_df.iloc[1]['context'])"
   ]
  },
  {
   "cell_type": "code",
   "execution_count": 27,
   "metadata": {},
   "outputs": [],
   "source": [
    "programms_df.to_json('parsing_instituts.json', orient='records', force_ascii=False)"
   ]
  },
  {
   "cell_type": "markdown",
   "metadata": {},
   "source": [
    "### Блок \"Новости на английском сайта КГТУ\""
   ]
  },
  {
   "cell_type": "code",
   "execution_count": 28,
   "metadata": {},
   "outputs": [],
   "source": [
    "from block_parsers import Kgtu_news_en_parser\n",
    "programms_parser = Kgtu_news_en_parser(3, time_sleep=False)"
   ]
  },
  {
   "cell_type": "code",
   "execution_count": 29,
   "metadata": {},
   "outputs": [
    {
     "name": "stdout",
     "output_type": "stream",
     "text": [
      "Cпарсено 30 документов\n"
     ]
    }
   ],
   "source": [
    "programms_df = parse_data(programms_parser)"
   ]
  },
  {
   "cell_type": "code",
   "execution_count": 30,
   "metadata": {},
   "outputs": [
    {
     "data": {
      "text/html": [
       "<div>\n",
       "<style scoped>\n",
       "    .dataframe tbody tr th:only-of-type {\n",
       "        vertical-align: middle;\n",
       "    }\n",
       "\n",
       "    .dataframe tbody tr th {\n",
       "        vertical-align: top;\n",
       "    }\n",
       "\n",
       "    .dataframe thead th {\n",
       "        text-align: right;\n",
       "    }\n",
       "</style>\n",
       "<table border=\"1\" class=\"dataframe\">\n",
       "  <thead>\n",
       "    <tr style=\"text-align: right;\">\n",
       "      <th></th>\n",
       "      <th>url</th>\n",
       "      <th>parser</th>\n",
       "      <th>source</th>\n",
       "      <th>topic_block</th>\n",
       "      <th>parsing_date</th>\n",
       "      <th>public_date</th>\n",
       "      <th>title</th>\n",
       "      <th>context</th>\n",
       "      <th>raw_html</th>\n",
       "      <th>is_document</th>\n",
       "    </tr>\n",
       "  </thead>\n",
       "  <tbody>\n",
       "    <tr>\n",
       "      <th>0</th>\n",
       "      <td>https://www.klgtu.ru/en/media/news_en/kstu-sci...</td>\n",
       "      <td>Kgtu_news_en_parser</td>\n",
       "      <td>site</td>\n",
       "      <td>news_en</td>\n",
       "      <td>2024-06-24</td>\n",
       "      <td>2024-04-18</td>\n",
       "      <td>KSTU scientists became diploma winners of...</td>\n",
       "      <td>KSTU scientists became diploma winners of the ...</td>\n",
       "      <td>&lt;main class=\"main\"&gt;&lt;section class=\"section pt-...</td>\n",
       "      <td>False</td>\n",
       "    </tr>\n",
       "    <tr>\n",
       "      <th>1</th>\n",
       "      <td>https://www.klgtu.ru/en/media/news_en/kstu-che...</td>\n",
       "      <td>Kgtu_news_en_parser</td>\n",
       "      <td>site</td>\n",
       "      <td>news_en</td>\n",
       "      <td>2024-06-24</td>\n",
       "      <td>2024-04-04</td>\n",
       "      <td>KSTU chemists found a solution to the pro...</td>\n",
       "      <td>KSTU chemists found a solution to the problem ...</td>\n",
       "      <td>&lt;main class=\"main\"&gt;&lt;section class=\"section pt-...</td>\n",
       "      <td>False</td>\n",
       "    </tr>\n",
       "    <tr>\n",
       "      <th>2</th>\n",
       "      <td>https://www.klgtu.ru/en/media/news_en/kstu-ich...</td>\n",
       "      <td>Kgtu_news_en_parser</td>\n",
       "      <td>site</td>\n",
       "      <td>news_en</td>\n",
       "      <td>2024-06-24</td>\n",
       "      <td>2024-03-22</td>\n",
       "      <td>KSTU ichthyologists started the field sea...</td>\n",
       "      <td>KSTU ichthyologists started the field season! ...</td>\n",
       "      <td>&lt;main class=\"main\"&gt;&lt;section class=\"section pt-...</td>\n",
       "      <td>False</td>\n",
       "    </tr>\n",
       "    <tr>\n",
       "      <th>3</th>\n",
       "      <td>https://www.klgtu.ru/en/media/news_en/iaefs-st...</td>\n",
       "      <td>Kgtu_news_en_parser</td>\n",
       "      <td>site</td>\n",
       "      <td>news_en</td>\n",
       "      <td>2024-06-24</td>\n",
       "      <td>2024-03-22</td>\n",
       "      <td>IAEFS students performed ultrasound exami...</td>\n",
       "      <td>IAEFS students performed ultrasound examinatio...</td>\n",
       "      <td>&lt;main class=\"main\"&gt;&lt;section class=\"section pt-...</td>\n",
       "      <td>False</td>\n",
       "    </tr>\n",
       "    <tr>\n",
       "      <th>4</th>\n",
       "      <td>https://www.klgtu.ru/en/media/news_en/kstu-rep...</td>\n",
       "      <td>Kgtu_news_en_parser</td>\n",
       "      <td>site</td>\n",
       "      <td>news_en</td>\n",
       "      <td>2024-06-24</td>\n",
       "      <td>2024-03-21</td>\n",
       "      <td>KSTU representative took part in internat...</td>\n",
       "      <td>KSTU representative took part in international...</td>\n",
       "      <td>&lt;main class=\"main\"&gt;&lt;section class=\"section pt-...</td>\n",
       "      <td>False</td>\n",
       "    </tr>\n",
       "    <tr>\n",
       "      <th>5</th>\n",
       "      <td>https://www.klgtu.ru/en/media/news_en/baltikve...</td>\n",
       "      <td>Kgtu_news_en_parser</td>\n",
       "      <td>site</td>\n",
       "      <td>news_en</td>\n",
       "      <td>2024-06-24</td>\n",
       "      <td>2024-03-18</td>\n",
       "      <td>BaltikVet training and practice centre pe...</td>\n",
       "      <td>BaltikVet training and practice centre perform...</td>\n",
       "      <td>&lt;main class=\"main\"&gt;&lt;section class=\"section pt-...</td>\n",
       "      <td>False</td>\n",
       "    </tr>\n",
       "  </tbody>\n",
       "</table>\n",
       "</div>"
      ],
      "text/plain": [
       "                                                 url               parser  \\\n",
       "0  https://www.klgtu.ru/en/media/news_en/kstu-sci...  Kgtu_news_en_parser   \n",
       "1  https://www.klgtu.ru/en/media/news_en/kstu-che...  Kgtu_news_en_parser   \n",
       "2  https://www.klgtu.ru/en/media/news_en/kstu-ich...  Kgtu_news_en_parser   \n",
       "3  https://www.klgtu.ru/en/media/news_en/iaefs-st...  Kgtu_news_en_parser   \n",
       "4  https://www.klgtu.ru/en/media/news_en/kstu-rep...  Kgtu_news_en_parser   \n",
       "5  https://www.klgtu.ru/en/media/news_en/baltikve...  Kgtu_news_en_parser   \n",
       "\n",
       "  source topic_block parsing_date public_date  \\\n",
       "0   site     news_en   2024-06-24  2024-04-18   \n",
       "1   site     news_en   2024-06-24  2024-04-04   \n",
       "2   site     news_en   2024-06-24  2024-03-22   \n",
       "3   site     news_en   2024-06-24  2024-03-22   \n",
       "4   site     news_en   2024-06-24  2024-03-21   \n",
       "5   site     news_en   2024-06-24  2024-03-18   \n",
       "\n",
       "                                               title  \\\n",
       "0       KSTU scientists became diploma winners of...   \n",
       "1       KSTU chemists found a solution to the pro...   \n",
       "2       KSTU ichthyologists started the field sea...   \n",
       "3       IAEFS students performed ultrasound exami...   \n",
       "4       KSTU representative took part in internat...   \n",
       "5       BaltikVet training and practice centre pe...   \n",
       "\n",
       "                                             context  \\\n",
       "0  KSTU scientists became diploma winners of the ...   \n",
       "1  KSTU chemists found a solution to the problem ...   \n",
       "2  KSTU ichthyologists started the field season! ...   \n",
       "3  IAEFS students performed ultrasound examinatio...   \n",
       "4  KSTU representative took part in international...   \n",
       "5  BaltikVet training and practice centre perform...   \n",
       "\n",
       "                                            raw_html  is_document  \n",
       "0  <main class=\"main\"><section class=\"section pt-...        False  \n",
       "1  <main class=\"main\"><section class=\"section pt-...        False  \n",
       "2  <main class=\"main\"><section class=\"section pt-...        False  \n",
       "3  <main class=\"main\"><section class=\"section pt-...        False  \n",
       "4  <main class=\"main\"><section class=\"section pt-...        False  \n",
       "5  <main class=\"main\"><section class=\"section pt-...        False  "
      ]
     },
     "execution_count": 30,
     "metadata": {},
     "output_type": "execute_result"
    }
   ],
   "source": [
    "programms_df.head(6)"
   ]
  },
  {
   "cell_type": "code",
   "execution_count": 31,
   "metadata": {},
   "outputs": [
    {
     "name": "stdout",
     "output_type": "stream",
     "text": [
      "https://www.klgtu.ru/en/media/news_en/kstu-scientists-became-diploma-winners-of-the-hope-of-russia-award/\n",
      "KSTU scientists became diploma winners of the \"Hope of Russia\" award - заголовок страницы;; The results of the Hope of Russia youth award in science and technology, presented by the Russian Union of Scientific and Engineering Public Associations, have been announced. Our university successfully participates in this competition for the second year. ;; According to the results of 2023 the work of Maxim Kharitonov, Candidate of Technical Sciences, Associate Professor of the Department of Power Engineering, and Daria Kugucheva, Senior Lecturer, postgraduate student of the Department of Power Engineering, Low-Profile Positioning System of Photovoltaic Panels \"Soltrek-MG\" for Microgeneration Facilities was awarded with a diploma. ;; We send our sincere congratulations to our scientists and wish them further successes and victories!\n"
     ]
    }
   ],
   "source": [
    "print(programms_df.iloc[0]['url'])\n",
    "print(programms_df.iloc[0]['context'])"
   ]
  },
  {
   "cell_type": "code",
   "execution_count": 32,
   "metadata": {},
   "outputs": [],
   "source": [
    "programms_df.to_json('parsing_news_en.json', orient='records', force_ascii=False)"
   ]
  },
  {
   "cell_type": "markdown",
   "metadata": {},
   "source": [
    "### Блок \"Институты на английском\""
   ]
  },
  {
   "cell_type": "code",
   "execution_count": 33,
   "metadata": {},
   "outputs": [],
   "source": [
    "from block_parsers import Kgtu_instituts_en_parser\n",
    "programms_parser = Kgtu_instituts_en_parser(time_sleep=False)"
   ]
  },
  {
   "cell_type": "code",
   "execution_count": null,
   "metadata": {},
   "outputs": [],
   "source": [
    "programms_df = parse_data(programms_parser)"
   ]
  },
  {
   "cell_type": "code",
   "execution_count": null,
   "metadata": {},
   "outputs": [],
   "source": [
    "programms_df.head(6)"
   ]
  },
  {
   "cell_type": "code",
   "execution_count": null,
   "metadata": {},
   "outputs": [],
   "source": [
    "print(programms_df.iloc[2]['context'])"
   ]
  },
  {
   "cell_type": "code",
   "execution_count": null,
   "metadata": {},
   "outputs": [],
   "source": [
    "programms_df.to_json('parsing_instituts_en.json', orient='records', force_ascii=False)"
   ]
  },
  {
   "cell_type": "markdown",
   "metadata": {},
   "source": [
    "# Парсеры телеграмма"
   ]
  },
  {
   "cell_type": "markdown",
   "metadata": {},
   "source": [
    "### Блок \"Новости телеграмм-канала КГТУ\""
   ]
  },
  {
   "cell_type": "code",
   "execution_count": null,
   "metadata": {},
   "outputs": [],
   "source": [
    "from block_parsers_tg_kgtu import Telegram_parser_news"
   ]
  },
  {
   "cell_type": "code",
   "execution_count": null,
   "metadata": {
    "scrolled": true
   },
   "outputs": [],
   "source": [
    "programms_df = pd.DataFrame(Telegram_parser_news.df)"
   ]
  },
  {
   "cell_type": "code",
   "execution_count": null,
   "metadata": {},
   "outputs": [],
   "source": [
    "programms_df.head(20)"
   ]
  },
  {
   "cell_type": "code",
   "execution_count": null,
   "metadata": {},
   "outputs": [],
   "source": [
    "print(programms_df.iloc[3]['context'])"
   ]
  },
  {
   "cell_type": "code",
   "execution_count": null,
   "metadata": {},
   "outputs": [],
   "source": [
    "programms_df.to_json('parsing_tg_news.json', orient='records', force_ascii=False)"
   ]
  },
  {
   "cell_type": "markdown",
   "metadata": {},
   "source": [
    "### Блок \"Новости телеграмм-канала Студенческого совета КГТУ\""
   ]
  },
  {
   "cell_type": "code",
   "execution_count": null,
   "metadata": {},
   "outputs": [],
   "source": [
    "from block_parsers_tg_studsov import Telegram_parser_studsov"
   ]
  },
  {
   "cell_type": "code",
   "execution_count": null,
   "metadata": {},
   "outputs": [],
   "source": [
    "programms_df = pd.DataFrame(Telegram_parser_studsov.df)"
   ]
  },
  {
   "cell_type": "code",
   "execution_count": null,
   "metadata": {},
   "outputs": [],
   "source": [
    "programms_df.head(20)"
   ]
  },
  {
   "cell_type": "code",
   "execution_count": null,
   "metadata": {},
   "outputs": [],
   "source": [
    "programms_df.to_json('parsing_tg_studsov.json', orient='records', force_ascii=False)"
   ]
  },
  {
   "cell_type": "markdown",
   "metadata": {},
   "source": [
    "### Блок \"Новости телеграмм-канала Плотва КГТУ\""
   ]
  },
  {
   "cell_type": "code",
   "execution_count": null,
   "metadata": {},
   "outputs": [],
   "source": [
    "from block_parsers_tg_plotva import Telegram_parser_plotva"
   ]
  },
  {
   "cell_type": "code",
   "execution_count": null,
   "metadata": {},
   "outputs": [],
   "source": [
    "programms_df = pd.DataFrame(Telegram_parser_plotva.df)"
   ]
  },
  {
   "cell_type": "code",
   "execution_count": null,
   "metadata": {},
   "outputs": [],
   "source": [
    "programms_df.head(20)"
   ]
  },
  {
   "cell_type": "code",
   "execution_count": null,
   "metadata": {},
   "outputs": [],
   "source": [
    "programms_df.to_json('parsing_tg_plotva.json', orient='records', force_ascii=False)"
   ]
  },
  {
   "cell_type": "markdown",
   "metadata": {},
   "source": [
    "### Блок \"Новости телеграмм-канала Центр карьеры КГТУ\""
   ]
  },
  {
   "cell_type": "code",
   "execution_count": null,
   "metadata": {},
   "outputs": [],
   "source": [
    "from block_parsers_tg_career import Telegram_parser_career"
   ]
  },
  {
   "cell_type": "code",
   "execution_count": null,
   "metadata": {},
   "outputs": [],
   "source": [
    "programms_df = pd.DataFrame(Telegram_parser_career.df)"
   ]
  },
  {
   "cell_type": "code",
   "execution_count": null,
   "metadata": {},
   "outputs": [],
   "source": [
    "programms_df.head(20)"
   ]
  },
  {
   "cell_type": "code",
   "execution_count": null,
   "metadata": {},
   "outputs": [],
   "source": [
    "programms_df.to_json('parsing_tg_career.json', orient='records', force_ascii=False)"
   ]
  },
  {
   "cell_type": "markdown",
   "metadata": {},
   "source": [
    "### Блок \"Новости телеграмм-канала ИЦТ\""
   ]
  },
  {
   "cell_type": "code",
   "execution_count": null,
   "metadata": {},
   "outputs": [],
   "source": [
    "from block_parsers_tg_icht import Telegram_parser_icht"
   ]
  },
  {
   "cell_type": "code",
   "execution_count": null,
   "metadata": {},
   "outputs": [],
   "source": [
    "programms_df = pd.DataFrame(Telegram_parser_icht.df)"
   ]
  },
  {
   "cell_type": "code",
   "execution_count": null,
   "metadata": {},
   "outputs": [],
   "source": [
    "programms_df.head(50)"
   ]
  },
  {
   "cell_type": "code",
   "execution_count": null,
   "metadata": {},
   "outputs": [],
   "source": [
    "programms_df.to_json('parsing_tg_career.json', orient='records', force_ascii=False)"
   ]
  },
  {
   "cell_type": "code",
   "execution_count": null,
   "metadata": {},
   "outputs": [],
   "source": []
  },
  {
   "cell_type": "code",
   "execution_count": null,
   "metadata": {},
   "outputs": [],
   "source": []
  }
 ],
 "metadata": {
  "kernelspec": {
   "display_name": "Python 3 (ipykernel)",
   "language": "python",
   "name": "python3"
  },
  "language_info": {
   "codemirror_mode": {
    "name": "ipython",
    "version": 3
   },
   "file_extension": ".py",
   "mimetype": "text/x-python",
   "name": "python",
   "nbconvert_exporter": "python",
   "pygments_lexer": "ipython3",
   "version": "3.11.2"
  },
  "vscode": {
   "interpreter": {
    "hash": "b0fa6594d8f4cbf19f97940f81e996739fb7646882a419484c72d19e05852a7e"
   }
  }
 },
 "nbformat": 4,
 "nbformat_minor": 4
}
