{
 "cells": [
  {
   "cell_type": "code",
   "execution_count": 1,
   "metadata": {},
   "outputs": [
    {
     "name": "stdout",
     "output_type": "stream",
     "text": [
      "klgtu\n",
      "database_klgtu\n",
      "klgtu_basic_data\n"
     ]
    }
   ],
   "source": [
    "import sys\n",
    "import json\n",
    "import pandas as pd\n",
    "import os\n",
    "\n",
    "current_dir = os.getcwd()\n",
    "project_dir = os.path.dirname(current_dir)\n",
    "sys.path.append(project_dir)\n",
    "\n",
    "from commonlib.data_manipulation import parse_data\n",
    "from database import BasicData, TimetableData, NewsData\n",
    "\n",
    "with open('parsing_settings.json') as file:\n",
    "    settings = json.load(file)\n",
    "\n",
    "UNI_NAME = settings['uni_name']\n",
    "DB_NAME = settings['db_name']\n",
    "\n",
    "print(UNI_NAME) #идентификатор университа\n",
    "print(DB_NAME) #идентификатор Базы данных\n",
    "print(BasicData.__tablename__) #Базовая таблица (в которую сохраняется основная статическая информация страницы)"
   ]
  },
  {
   "cell_type": "markdown",
   "metadata": {},
   "source": [
    "# Парсеры"
   ]
  },
  {
   "cell_type": "markdown",
   "metadata": {},
   "source": [
    "### Блок \"Новости сайта КГТУ\""
   ]
  },
  {
   "cell_type": "code",
   "execution_count": 2,
   "metadata": {},
   "outputs": [],
   "source": [
    "from block_parsers import Kgtu_news_parser\n",
    "programms_parser = Kgtu_news_parser(3, time_sleep=False)\n"
   ]
  },
  {
   "cell_type": "code",
   "execution_count": 3,
   "metadata": {},
   "outputs": [
    {
     "name": "stdout",
     "output_type": "stream",
     "text": [
      "Cпарсено 30 документов\n"
     ]
    }
   ],
   "source": [
    "programms_df = parse_data(programms_parser)"
   ]
  },
  {
   "cell_type": "code",
   "execution_count": 4,
   "metadata": {},
   "outputs": [
    {
     "data": {
      "text/html": [
       "<div>\n",
       "<style scoped>\n",
       "    .dataframe tbody tr th:only-of-type {\n",
       "        vertical-align: middle;\n",
       "    }\n",
       "\n",
       "    .dataframe tbody tr th {\n",
       "        vertical-align: top;\n",
       "    }\n",
       "\n",
       "    .dataframe thead th {\n",
       "        text-align: right;\n",
       "    }\n",
       "</style>\n",
       "<table border=\"1\" class=\"dataframe\">\n",
       "  <thead>\n",
       "    <tr style=\"text-align: right;\">\n",
       "      <th></th>\n",
       "      <th>url</th>\n",
       "      <th>topic_block</th>\n",
       "      <th>parsing_date</th>\n",
       "      <th>public_date</th>\n",
       "      <th>title</th>\n",
       "      <th>context</th>\n",
       "      <th>html</th>\n",
       "    </tr>\n",
       "  </thead>\n",
       "  <tbody>\n",
       "    <tr>\n",
       "      <th>0</th>\n",
       "      <td>https://www.klgtu.ru/media/novosti/novoe_zased...</td>\n",
       "      <td>news</td>\n",
       "      <td>2024-04-23</td>\n",
       "      <td>2024-04-23</td>\n",
       "      <td>Новое заседание КЛИО посвятили истории ро...</td>\n",
       "      <td>Новое заседание КЛИО посвятили истории российс...</td>\n",
       "      <td>&lt;main class=\"main\"&gt;&lt;section class=\"section pt-...</td>\n",
       "    </tr>\n",
       "    <tr>\n",
       "      <th>1</th>\n",
       "      <td>https://www.klgtu.ru/media/novosti/na_mezhduna...</td>\n",
       "      <td>news</td>\n",
       "      <td>2024-04-23</td>\n",
       "      <td>2024-04-23</td>\n",
       "      <td>На Международной научной конференции обсу...</td>\n",
       "      <td>На Международной научной конференции обсудили ...</td>\n",
       "      <td>&lt;main class=\"main\"&gt;&lt;section class=\"section pt-...</td>\n",
       "    </tr>\n",
       "    <tr>\n",
       "      <th>2</th>\n",
       "      <td>https://www.klgtu.ru/media/novosti/zaklyuchite...</td>\n",
       "      <td>news</td>\n",
       "      <td>2024-04-23</td>\n",
       "      <td>2024-04-23</td>\n",
       "      <td>Заключительный этап олимпиады \"Траектория...</td>\n",
       "      <td>Заключительный этап олимпиады \"Траектория 4К\" ...</td>\n",
       "      <td>&lt;main class=\"main\"&gt;&lt;section class=\"section pt-...</td>\n",
       "    </tr>\n",
       "    <tr>\n",
       "      <th>3</th>\n",
       "      <td>https://www.klgtu.ru/media/novosti/v_kgtu_pros...</td>\n",
       "      <td>news</td>\n",
       "      <td>2024-04-23</td>\n",
       "      <td>2024-04-23</td>\n",
       "      <td>В КГТУ прошёл молодежный квест для студентов</td>\n",
       "      <td>В КГТУ прошёл молодежный квест для студентов -...</td>\n",
       "      <td>&lt;main class=\"main\"&gt;&lt;section class=\"section pt-...</td>\n",
       "    </tr>\n",
       "    <tr>\n",
       "      <th>4</th>\n",
       "      <td>https://www.klgtu.ru/media/novosti/dni_nauki_p...</td>\n",
       "      <td>news</td>\n",
       "      <td>2024-04-23</td>\n",
       "      <td>2024-04-23</td>\n",
       "      <td>\"Дни Науки\" прошли на кафедре технологии ...</td>\n",
       "      <td>\"Дни Науки\" прошли на кафедре технологии проду...</td>\n",
       "      <td>&lt;main class=\"main\"&gt;&lt;section class=\"section pt-...</td>\n",
       "    </tr>\n",
       "    <tr>\n",
       "      <th>5</th>\n",
       "      <td>https://www.klgtu.ru/media/novosti/inostrannye...</td>\n",
       "      <td>news</td>\n",
       "      <td>2024-04-23</td>\n",
       "      <td>2024-04-23</td>\n",
       "      <td>Иностранные студенты КГТУ приняли участие...</td>\n",
       "      <td>Иностранные студенты КГТУ приняли участие в \"Б...</td>\n",
       "      <td>&lt;main class=\"main\"&gt;&lt;section class=\"section pt-...</td>\n",
       "    </tr>\n",
       "  </tbody>\n",
       "</table>\n",
       "</div>"
      ],
      "text/plain": [
       "                                                 url topic_block parsing_date  \\\n",
       "0  https://www.klgtu.ru/media/novosti/novoe_zased...        news   2024-04-23   \n",
       "1  https://www.klgtu.ru/media/novosti/na_mezhduna...        news   2024-04-23   \n",
       "2  https://www.klgtu.ru/media/novosti/zaklyuchite...        news   2024-04-23   \n",
       "3  https://www.klgtu.ru/media/novosti/v_kgtu_pros...        news   2024-04-23   \n",
       "4  https://www.klgtu.ru/media/novosti/dni_nauki_p...        news   2024-04-23   \n",
       "5  https://www.klgtu.ru/media/novosti/inostrannye...        news   2024-04-23   \n",
       "\n",
       "  public_date                                              title  \\\n",
       "0  2024-04-23       Новое заседание КЛИО посвятили истории ро...   \n",
       "1  2024-04-23       На Международной научной конференции обсу...   \n",
       "2  2024-04-23       Заключительный этап олимпиады \"Траектория...   \n",
       "3  2024-04-23       В КГТУ прошёл молодежный квест для студентов   \n",
       "4  2024-04-23       \"Дни Науки\" прошли на кафедре технологии ...   \n",
       "5  2024-04-23       Иностранные студенты КГТУ приняли участие...   \n",
       "\n",
       "                                             context  \\\n",
       "0  Новое заседание КЛИО посвятили истории российс...   \n",
       "1  На Международной научной конференции обсудили ...   \n",
       "2  Заключительный этап олимпиады \"Траектория 4К\" ...   \n",
       "3  В КГТУ прошёл молодежный квест для студентов -...   \n",
       "4  \"Дни Науки\" прошли на кафедре технологии проду...   \n",
       "5  Иностранные студенты КГТУ приняли участие в \"Б...   \n",
       "\n",
       "                                                html  \n",
       "0  <main class=\"main\"><section class=\"section pt-...  \n",
       "1  <main class=\"main\"><section class=\"section pt-...  \n",
       "2  <main class=\"main\"><section class=\"section pt-...  \n",
       "3  <main class=\"main\"><section class=\"section pt-...  \n",
       "4  <main class=\"main\"><section class=\"section pt-...  \n",
       "5  <main class=\"main\"><section class=\"section pt-...  "
      ]
     },
     "execution_count": 4,
     "metadata": {},
     "output_type": "execute_result"
    }
   ],
   "source": [
    "programms_df.head(6)"
   ]
  },
  {
   "cell_type": "code",
   "execution_count": 5,
   "metadata": {
    "scrolled": true
   },
   "outputs": [
    {
     "name": "stdout",
     "output_type": "stream",
     "text": [
      "На Международной научной конференции обсудили философские и педагогические идеи И. Канта - заголовок страницы;; Конференцию, посвящённую 300-летию со дня рождения И. Канта, провели в смешанном формате (очное и дистанционное участие). Мероприятие и объединило более 40 участников из Монголии, Сирии, различных регионов Российской Федерации. ;; 18 апреля в академии состоялось открытие конференции. С приветственным словом выступили проректор КГТУ по научной работе, кандидат физико-математических наук Наталья Анатольевна Кострикова; начальник БГАРФ Александр Владимирович Грунтов, директор Калининградского музея «Фридландские ворота», доктор исторических наук, профессор БФУ им. И. Канта Андрей Анатольевич Ярцев. ;; Директор Института инженерной педагогики и гуманитарной подготовки БГАРФ, зав. кафедрой социальных наук, педагогики и права, доктор педагогических наук, профессор Нина Юрьевна Бугакова также приветствовала участников международной конференции, а также представила доклад, посвящённый педагогическому наследию И. Канта. В течение работы конференции обсуждались самые разные темы. Были затронуты педагогические идеи И. Канта, идеи морали и этики, гуманистическое наследие философа. Аспирант МГИМО, сотрудник Государственной корпораци «Росатом» А.Ю.Кожиев поднял вопрос о современных интеллектуальных системах в рамках философии И. Канта. Участники конференции узнали и об особенностях изучения идей Канта в Арабских странах из доклада представительницы университета Дамаска (Сирийская Арабская Республика), аспирантки КГТУ Базнжанех Рагад. ;; После обеда участники конференции посетили Историко-культурный центр морского образования БГАРФ. Заведующая центром Елена Александровна Антипина рассказала об истории вуза, о людях, которые заложили фундамент для его успешной работы, об истории и настоящем всемирно известных учебно-парусных судов «Крузенштерн» и «Седов». ;; 19 апреля конференция носила выездной характер. Участники конференции посетили музей «Фридландские ворота». Особый интерес вызвала подготовленная к 300-летию со дня рождения знаменитого немецкого философа выставка «Разбуди в себе Канта». В экспозиции были представлены иллюстрации художника-этнографа Ольги Дмитриевой (Калининград) из графической новеллы «Жизнь и суждения философа Иммануила Канта». ;; Затем участники конференции направились в поселок Веселовка Черняховского района, где в Доме Пастора располагается музей И. Канта. Познавательную, насыщенную интересными фактами автобусную экскурсии по пути к Веселовке провёл лично директор Калининградского музея «Фридландские ворота», доктор исторических наук А. А. Ярцев. В музее И. Канта участники конференции с интересом ознакомились с представленными экспозициями, посмотрели фильм-историю «Веселовка – место силы», который в художественной форме рассказывает о месте, где когда-то жил и преподавал великий философ. После знакомства с экспонатами музея И. Канта прошло заседании круглого стола, на котором его участники обсудили влияние философских и педагогических идей знаменитого философа на современную науку, культуру, педагогику. ;; Участники международной научной конференции выразили искреннюю благодарность ее организаторам: Институту инженерной педагогики и гуманитарной подготовки БГАРФ, кафедре философии, руководству университетского комплекса, а также сотрудникам музея «Фридландские ворота» и лично его директору, Ярцеву Андрею Анатольевичу.\n"
     ]
    }
   ],
   "source": [
    "#print(programms_df.iloc[1]['url'])\n",
    "print(programms_df.iloc[1]['context'])\n",
    "#print(programms_df.iloc[1]['html'])"
   ]
  },
  {
   "cell_type": "code",
   "execution_count": 6,
   "metadata": {},
   "outputs": [],
   "source": [
    "programms_df.to_json('parsing_news.json', orient='records', force_ascii=False)"
   ]
  },
  {
   "cell_type": "markdown",
   "metadata": {},
   "source": [
    "### Блок \"Анонсы сайта КГТУ\""
   ]
  },
  {
   "cell_type": "code",
   "execution_count": 7,
   "metadata": {},
   "outputs": [],
   "source": [
    "from block_parsers import Kgtu_anons_parser\n",
    "programms_parser = Kgtu_anons_parser(3, time_sleep=False)\n"
   ]
  },
  {
   "cell_type": "code",
   "execution_count": 8,
   "metadata": {},
   "outputs": [
    {
     "name": "stdout",
     "output_type": "stream",
     "text": [
      "Cпарсено 30 документов\n"
     ]
    }
   ],
   "source": [
    "programms_df = parse_data(programms_parser)"
   ]
  },
  {
   "cell_type": "code",
   "execution_count": 9,
   "metadata": {},
   "outputs": [
    {
     "data": {
      "text/html": [
       "<div>\n",
       "<style scoped>\n",
       "    .dataframe tbody tr th:only-of-type {\n",
       "        vertical-align: middle;\n",
       "    }\n",
       "\n",
       "    .dataframe tbody tr th {\n",
       "        vertical-align: top;\n",
       "    }\n",
       "\n",
       "    .dataframe thead th {\n",
       "        text-align: right;\n",
       "    }\n",
       "</style>\n",
       "<table border=\"1\" class=\"dataframe\">\n",
       "  <thead>\n",
       "    <tr style=\"text-align: right;\">\n",
       "      <th></th>\n",
       "      <th>url</th>\n",
       "      <th>topic_block</th>\n",
       "      <th>parsing_date</th>\n",
       "      <th>public_date</th>\n",
       "      <th>title</th>\n",
       "      <th>context</th>\n",
       "      <th>html</th>\n",
       "    </tr>\n",
       "  </thead>\n",
       "  <tbody>\n",
       "    <tr>\n",
       "      <th>0</th>\n",
       "      <td>https://www.klgtu.ru/media/anonsy/diktant_pobedy/</td>\n",
       "      <td>anons</td>\n",
       "      <td>2024-04-23</td>\n",
       "      <td>2024-04-22</td>\n",
       "      <td>«Диктант Победы»</td>\n",
       "      <td>«Диктант Победы» - заголовок страницы;; «Дикта...</td>\n",
       "      <td>&lt;main class=\"main\"&gt;&lt;section class=\"section pt-...</td>\n",
       "    </tr>\n",
       "    <tr>\n",
       "      <th>1</th>\n",
       "      <td>https://www.klgtu.ru/media/anonsy/pokolenie_z_...</td>\n",
       "      <td>anons</td>\n",
       "      <td>2024-04-23</td>\n",
       "      <td>2024-04-22</td>\n",
       "      <td>Поколение Z готовит наставников!</td>\n",
       "      <td>Поколение Z готовит наставников! - заголовок с...</td>\n",
       "      <td>&lt;main class=\"main\"&gt;&lt;section class=\"section pt-...</td>\n",
       "    </tr>\n",
       "    <tr>\n",
       "      <th>2</th>\n",
       "      <td>https://www.klgtu.ru/media/anonsy/zapishis_na_...</td>\n",
       "      <td>anons</td>\n",
       "      <td>2024-04-23</td>\n",
       "      <td>2024-04-19</td>\n",
       "      <td>Запишись на тренинг предпринимательских к...</td>\n",
       "      <td>Запишись на тренинг предпринимательских компет...</td>\n",
       "      <td>&lt;main class=\"main\"&gt;&lt;section class=\"section pt-...</td>\n",
       "    </tr>\n",
       "    <tr>\n",
       "      <th>3</th>\n",
       "      <td>https://www.klgtu.ru/media/anonsy/abiturientam...</td>\n",
       "      <td>anons</td>\n",
       "      <td>2024-04-23</td>\n",
       "      <td>2024-04-16</td>\n",
       "      <td>Абитуриентам с ограниченными возможностям...</td>\n",
       "      <td>Абитуриентам с ограниченными возможностями здо...</td>\n",
       "      <td>&lt;main class=\"main\"&gt;&lt;section class=\"section pt-...</td>\n",
       "    </tr>\n",
       "    <tr>\n",
       "      <th>4</th>\n",
       "      <td>https://www.klgtu.ru/media/anonsy/kgtu_i_sber_...</td>\n",
       "      <td>anons</td>\n",
       "      <td>2024-04-23</td>\n",
       "      <td>2024-04-15</td>\n",
       "      <td>КГТУ и Сбер расширяют сотрудничество</td>\n",
       "      <td>КГТУ и Сбер расширяют сотрудничество - заголов...</td>\n",
       "      <td>&lt;main class=\"main\"&gt;&lt;section class=\"section pt-...</td>\n",
       "    </tr>\n",
       "    <tr>\n",
       "      <th>5</th>\n",
       "      <td>https://www.klgtu.ru/media/anonsy/priglashaem_...</td>\n",
       "      <td>anons</td>\n",
       "      <td>2024-04-23</td>\n",
       "      <td>2024-04-09</td>\n",
       "      <td>Приглашаем присоединиться к II Фестивалю ...</td>\n",
       "      <td>Приглашаем присоединиться к II Фестивалю техно...</td>\n",
       "      <td>&lt;main class=\"main\"&gt;&lt;section class=\"section pt-...</td>\n",
       "    </tr>\n",
       "  </tbody>\n",
       "</table>\n",
       "</div>"
      ],
      "text/plain": [
       "                                                 url topic_block parsing_date  \\\n",
       "0  https://www.klgtu.ru/media/anonsy/diktant_pobedy/       anons   2024-04-23   \n",
       "1  https://www.klgtu.ru/media/anonsy/pokolenie_z_...       anons   2024-04-23   \n",
       "2  https://www.klgtu.ru/media/anonsy/zapishis_na_...       anons   2024-04-23   \n",
       "3  https://www.klgtu.ru/media/anonsy/abiturientam...       anons   2024-04-23   \n",
       "4  https://www.klgtu.ru/media/anonsy/kgtu_i_sber_...       anons   2024-04-23   \n",
       "5  https://www.klgtu.ru/media/anonsy/priglashaem_...       anons   2024-04-23   \n",
       "\n",
       "  public_date                                              title  \\\n",
       "0  2024-04-22                                   «Диктант Победы»   \n",
       "1  2024-04-22                   Поколение Z готовит наставников!   \n",
       "2  2024-04-19       Запишись на тренинг предпринимательских к...   \n",
       "3  2024-04-16       Абитуриентам с ограниченными возможностям...   \n",
       "4  2024-04-15               КГТУ и Сбер расширяют сотрудничество   \n",
       "5  2024-04-09       Приглашаем присоединиться к II Фестивалю ...   \n",
       "\n",
       "                                             context  \\\n",
       "0  «Диктант Победы» - заголовок страницы;; «Дикта...   \n",
       "1  Поколение Z готовит наставников! - заголовок с...   \n",
       "2  Запишись на тренинг предпринимательских компет...   \n",
       "3  Абитуриентам с ограниченными возможностями здо...   \n",
       "4  КГТУ и Сбер расширяют сотрудничество - заголов...   \n",
       "5  Приглашаем присоединиться к II Фестивалю техно...   \n",
       "\n",
       "                                                html  \n",
       "0  <main class=\"main\"><section class=\"section pt-...  \n",
       "1  <main class=\"main\"><section class=\"section pt-...  \n",
       "2  <main class=\"main\"><section class=\"section pt-...  \n",
       "3  <main class=\"main\"><section class=\"section pt-...  \n",
       "4  <main class=\"main\"><section class=\"section pt-...  \n",
       "5  <main class=\"main\"><section class=\"section pt-...  "
      ]
     },
     "execution_count": 9,
     "metadata": {},
     "output_type": "execute_result"
    }
   ],
   "source": [
    "programms_df.head(6)"
   ]
  },
  {
   "cell_type": "code",
   "execution_count": 10,
   "metadata": {},
   "outputs": [
    {
     "name": "stdout",
     "output_type": "stream",
     "text": [
      "https://www.klgtu.ru/media/anonsy/pokolenie_z_gotovit_nastavnikov/\n",
      "Поколение Z готовит наставников! - заголовок страницы;; Каждый успешный проект - это, в первую очередь, команда и ее лидер. Новый сезон проектного интенсива \"Поколение Z\" мы решили посвятить именно этому - развитию наставников и лидеров для технологических команд. Сезон пройдет в формате совместного проектного обучения лидерству и наставничеству - опытные наставники будут на равных учиться и делиться знаниями вместе со студентами. ;; Программа сезона компактная и разнообразная: поговорим про креативные техники, целеполагание и эффективность, мотивацию, маркетинг, научимся выступать уверенно и эффектно. Чтобы учиться было комфортнее - мы подобрали график таким образом, чтобы обучение закончилось до сессии. Сезон продлится 3 недели, и по результатам будут выданы удостоверения о повышении квалификации. ;; А еще - в рамках обучения, вместе с Марией Семинихиной мы реализуем эко-проект и поможем любимой Балтике стать чище. ;; Открытие Поколения состоится 26 апреля, 13:00, в Точке Кипения. Заявки на участие оставляем в форме регистрации до 26 апреля включительно: https://forms.yandex.ru/u/66227156eb61461c2d2766ef/ ;; Регистрация на LeaderID обязательна: https://leader-id.ru/events/501103?draft=true\n"
     ]
    }
   ],
   "source": [
    "print(programms_df.iloc[1]['url'])\n",
    "print(programms_df.iloc[1]['context'])"
   ]
  },
  {
   "cell_type": "code",
   "execution_count": 11,
   "metadata": {},
   "outputs": [],
   "source": [
    "programms_df.to_json('parsing_anons.json', orient='records', force_ascii=False)"
   ]
  },
  {
   "cell_type": "markdown",
   "metadata": {},
   "source": [
    "### Блок \"Объявления сайта КГТУ\""
   ]
  },
  {
   "cell_type": "code",
   "execution_count": 12,
   "metadata": {},
   "outputs": [],
   "source": [
    "from block_parsers import Kgtu_obyava_parser\n",
    "programms_parser = Kgtu_obyava_parser(3, time_sleep=False)"
   ]
  },
  {
   "cell_type": "code",
   "execution_count": 13,
   "metadata": {},
   "outputs": [
    {
     "name": "stdout",
     "output_type": "stream",
     "text": [
      "Cпарсено 30 документов\n"
     ]
    }
   ],
   "source": [
    "programms_df = parse_data(programms_parser)"
   ]
  },
  {
   "cell_type": "code",
   "execution_count": 14,
   "metadata": {},
   "outputs": [
    {
     "data": {
      "text/html": [
       "<div>\n",
       "<style scoped>\n",
       "    .dataframe tbody tr th:only-of-type {\n",
       "        vertical-align: middle;\n",
       "    }\n",
       "\n",
       "    .dataframe tbody tr th {\n",
       "        vertical-align: top;\n",
       "    }\n",
       "\n",
       "    .dataframe thead th {\n",
       "        text-align: right;\n",
       "    }\n",
       "</style>\n",
       "<table border=\"1\" class=\"dataframe\">\n",
       "  <thead>\n",
       "    <tr style=\"text-align: right;\">\n",
       "      <th></th>\n",
       "      <th>url</th>\n",
       "      <th>topic_block</th>\n",
       "      <th>parsing_date</th>\n",
       "      <th>public_date</th>\n",
       "      <th>title</th>\n",
       "      <th>context</th>\n",
       "      <th>html</th>\n",
       "    </tr>\n",
       "  </thead>\n",
       "  <tbody>\n",
       "    <tr>\n",
       "      <th>0</th>\n",
       "      <td>https://www.klgtu.ru/media/obyavleniya/rabota_...</td>\n",
       "      <td>obyava</td>\n",
       "      <td>2024-04-23</td>\n",
       "      <td>2024-04-15</td>\n",
       "      <td>Работа для профессорско-преподавательског...</td>\n",
       "      <td>Работа для профессорско-преподавательского сос...</td>\n",
       "      <td>&lt;main class=\"main\"&gt;&lt;section class=\"section pt-...</td>\n",
       "    </tr>\n",
       "    <tr>\n",
       "      <th>1</th>\n",
       "      <td>https://www.klgtu.ru/media/obyavleniya/obyavle...</td>\n",
       "      <td>obyava</td>\n",
       "      <td>2024-04-23</td>\n",
       "      <td>2024-02-29</td>\n",
       "      <td>Объявлен всероссийский конкурс «Создай НАШЕ»</td>\n",
       "      <td>Объявлен всероссийский конкурс «Создай НАШЕ» -...</td>\n",
       "      <td>&lt;main class=\"main\"&gt;&lt;section class=\"section pt-...</td>\n",
       "    </tr>\n",
       "    <tr>\n",
       "      <th>2</th>\n",
       "      <td>https://www.klgtu.ru/media/obyavleniya/fond_so...</td>\n",
       "      <td>obyava</td>\n",
       "      <td>2024-04-23</td>\n",
       "      <td>2024-02-28</td>\n",
       "      <td>Фонд содействия инновациям открыл приём з...</td>\n",
       "      <td>Фонд содействия инновациям открыл приём заявок...</td>\n",
       "      <td>&lt;main class=\"main\"&gt;&lt;section class=\"section pt-...</td>\n",
       "    </tr>\n",
       "    <tr>\n",
       "      <th>3</th>\n",
       "      <td>https://www.klgtu.ru/media/obyavleniya/trek_pe...</td>\n",
       "      <td>obyava</td>\n",
       "      <td>2024-04-23</td>\n",
       "      <td>2024-02-21</td>\n",
       "      <td>Трек \"Первопроходец\" от Всероссийского ст...</td>\n",
       "      <td>Трек \"Первопроходец\" от Всероссийского студенч...</td>\n",
       "      <td>&lt;main class=\"main\"&gt;&lt;section class=\"section pt-...</td>\n",
       "    </tr>\n",
       "    <tr>\n",
       "      <th>4</th>\n",
       "      <td>https://www.klgtu.ru/media/obyavleniya/blagotv...</td>\n",
       "      <td>obyava</td>\n",
       "      <td>2024-04-23</td>\n",
       "      <td>2024-02-20</td>\n",
       "      <td>Благотворительная акция</td>\n",
       "      <td>Благотворительная акция - заголовок страницы;;...</td>\n",
       "      <td>&lt;main class=\"main\"&gt;&lt;section class=\"section pt-...</td>\n",
       "    </tr>\n",
       "    <tr>\n",
       "      <th>5</th>\n",
       "      <td>https://www.klgtu.ru/media/obyavleniya/sbor_ma...</td>\n",
       "      <td>obyava</td>\n",
       "      <td>2024-04-23</td>\n",
       "      <td>2024-02-20</td>\n",
       "      <td>Сбор макулатуры</td>\n",
       "      <td>Сбор макулатуры - заголовок страницы;; На базе...</td>\n",
       "      <td>&lt;main class=\"main\"&gt;&lt;section class=\"section pt-...</td>\n",
       "    </tr>\n",
       "  </tbody>\n",
       "</table>\n",
       "</div>"
      ],
      "text/plain": [
       "                                                 url topic_block parsing_date  \\\n",
       "0  https://www.klgtu.ru/media/obyavleniya/rabota_...      obyava   2024-04-23   \n",
       "1  https://www.klgtu.ru/media/obyavleniya/obyavle...      obyava   2024-04-23   \n",
       "2  https://www.klgtu.ru/media/obyavleniya/fond_so...      obyava   2024-04-23   \n",
       "3  https://www.klgtu.ru/media/obyavleniya/trek_pe...      obyava   2024-04-23   \n",
       "4  https://www.klgtu.ru/media/obyavleniya/blagotv...      obyava   2024-04-23   \n",
       "5  https://www.klgtu.ru/media/obyavleniya/sbor_ma...      obyava   2024-04-23   \n",
       "\n",
       "  public_date                                              title  \\\n",
       "0  2024-04-15       Работа для профессорско-преподавательског...   \n",
       "1  2024-02-29       Объявлен всероссийский конкурс «Создай НАШЕ»   \n",
       "2  2024-02-28       Фонд содействия инновациям открыл приём з...   \n",
       "3  2024-02-21       Трек \"Первопроходец\" от Всероссийского ст...   \n",
       "4  2024-02-20                            Благотворительная акция   \n",
       "5  2024-02-20                                    Сбор макулатуры   \n",
       "\n",
       "                                             context  \\\n",
       "0  Работа для профессорско-преподавательского сос...   \n",
       "1  Объявлен всероссийский конкурс «Создай НАШЕ» -...   \n",
       "2  Фонд содействия инновациям открыл приём заявок...   \n",
       "3  Трек \"Первопроходец\" от Всероссийского студенч...   \n",
       "4  Благотворительная акция - заголовок страницы;;...   \n",
       "5  Сбор макулатуры - заголовок страницы;; На базе...   \n",
       "\n",
       "                                                html  \n",
       "0  <main class=\"main\"><section class=\"section pt-...  \n",
       "1  <main class=\"main\"><section class=\"section pt-...  \n",
       "2  <main class=\"main\"><section class=\"section pt-...  \n",
       "3  <main class=\"main\"><section class=\"section pt-...  \n",
       "4  <main class=\"main\"><section class=\"section pt-...  \n",
       "5  <main class=\"main\"><section class=\"section pt-...  "
      ]
     },
     "execution_count": 14,
     "metadata": {},
     "output_type": "execute_result"
    }
   ],
   "source": [
    "programms_df.head(6)"
   ]
  },
  {
   "cell_type": "code",
   "execution_count": 15,
   "metadata": {},
   "outputs": [
    {
     "name": "stdout",
     "output_type": "stream",
     "text": [
      "https://www.klgtu.ru/media/obyavleniya/fond_sodeystviya_innovatsiyam_otkryl_priyem_zayavok_na_v_ochered_konkursa_studencheskiy_startap/\n",
      "Фонд содействия инновациям открыл приём заявок на V очередь конкурса «Студенческий стартап» - заголовок страницы;; Фонд содействия инновациям открыл приём заявок на V очередь конкурса «Студенческий стартап»! ;; Две тысячи – именно столько студентов в этом году смогут выиграть грант в 1 млн рублей! ;; Всё о конкурсе – на странице: https://fasie.ru/studstartup/ ;; Заполняйте форму, чтобы получить инструкцию по подаче заявки! ;; Направления проектов: ;; - цифровые технологии; ;; - медицина и технологии здоровьесбережения; ;; - химические технологии и новые материалы; ;; - новые приборы и интеллектуальные производственные технологии; ;; - биотехнологии; ;; - ресурсосберегающая энергетика; ;; - креативные индустрии. ;; Приоритет получат проекты в области микроэлектроники, БПЛА, станкостроения, ИИ и цифровых технологий, а также персонализированной медицины и агробиотехнологий. ;; «Имея всероссийский и международный характер, «Студенческий стартап» является доступным инструментом поддержки для наиболее широкого числа студентов, стремящихся воплотить свои идеи в реальность. Именно поэтому мы упростили форму подачи заявки, сделав её более компактной и понятной», – комментирует генеральный директор Фонда содействия инновациям Сергей Поляков. ;; Гранты будут предоставляться в рамках федерального проекта «Платформа университетского технологического предпринимательства» ;; Приём заявок – до 15 апреля 2024 года! ;; Дополнительные консультации по вопросам участия в конкурсном отборе можно получить в центре молодежной науки и предпринимательства: ;; Мороз Елена Дмитриевна, телефон 8 (4012) 995-994, e-mail: elena.moroz@klgtu.ru ;; Веселовский Кирилл Константинович, телефон 8 (4012) 995-994 ;; e-mail: kirill.veselovskij@klgtu.ru\n"
     ]
    }
   ],
   "source": [
    "print(programms_df.iloc[2]['url'])\n",
    "print(programms_df.iloc[2]['context'])"
   ]
  },
  {
   "cell_type": "code",
   "execution_count": 16,
   "metadata": {},
   "outputs": [],
   "source": [
    "programms_df.to_json('parsing_obyava.json', orient='records', force_ascii=False)"
   ]
  },
  {
   "cell_type": "markdown",
   "metadata": {},
   "source": [
    "### Блок \"Институты КГТУ\""
   ]
  },
  {
   "cell_type": "code",
   "execution_count": 2,
   "metadata": {},
   "outputs": [],
   "source": [
    "from block_parsers import Kgtu_instituts_parser\n",
    "programms_parser = Kgtu_instituts_parser(time_sleep=False)"
   ]
  },
  {
   "cell_type": "code",
   "execution_count": 3,
   "metadata": {},
   "outputs": [
    {
     "name": "stdout",
     "output_type": "stream",
     "text": [
      "Cпарсено 9 документов\n"
     ]
    }
   ],
   "source": [
    "programms_df = parse_data(programms_parser)"
   ]
  },
  {
   "cell_type": "code",
   "execution_count": 4,
   "metadata": {},
   "outputs": [
    {
     "data": {
      "text/html": [
       "<div>\n",
       "<style scoped>\n",
       "    .dataframe tbody tr th:only-of-type {\n",
       "        vertical-align: middle;\n",
       "    }\n",
       "\n",
       "    .dataframe tbody tr th {\n",
       "        vertical-align: top;\n",
       "    }\n",
       "\n",
       "    .dataframe thead th {\n",
       "        text-align: right;\n",
       "    }\n",
       "</style>\n",
       "<table border=\"1\" class=\"dataframe\">\n",
       "  <thead>\n",
       "    <tr style=\"text-align: right;\">\n",
       "      <th></th>\n",
       "      <th>url</th>\n",
       "      <th>topic_block</th>\n",
       "      <th>parsing_date</th>\n",
       "      <th>public_date</th>\n",
       "      <th>title</th>\n",
       "      <th>context</th>\n",
       "      <th>html</th>\n",
       "    </tr>\n",
       "  </thead>\n",
       "  <tbody>\n",
       "    <tr>\n",
       "      <th>0</th>\n",
       "      <td>https://www.klgtu.ru/institutes/institut_rybol...</td>\n",
       "      <td>instituts</td>\n",
       "      <td>2024-04-23</td>\n",
       "      <td>None</td>\n",
       "      <td>Институт рыболовства и а...</td>\n",
       "      <td>Институт рыболовства и аквакультуры - заголово...</td>\n",
       "      <td>&lt;main class=\"main\"&gt; &lt;section class=\"section mo...</td>\n",
       "    </tr>\n",
       "    <tr>\n",
       "      <th>1</th>\n",
       "      <td>https://www.klgtu.ru/institutes/institut_agroi...</td>\n",
       "      <td>instituts</td>\n",
       "      <td>2024-04-23</td>\n",
       "      <td>None</td>\n",
       "      <td>Институт агроинженерии и...</td>\n",
       "      <td>Институт агроинженерии и пищевых систем - заго...</td>\n",
       "      <td>&lt;main class=\"main\"&gt; &lt;section class=\"section mo...</td>\n",
       "    </tr>\n",
       "    <tr>\n",
       "      <th>2</th>\n",
       "      <td>https://www.klgtu.ru/institutes/institut_tsifr...</td>\n",
       "      <td>instituts</td>\n",
       "      <td>2024-04-23</td>\n",
       "      <td>None</td>\n",
       "      <td>Институт цифровых технол...</td>\n",
       "      <td>Институт цифровых технологий - заголовок стран...</td>\n",
       "      <td>&lt;main class=\"main\"&gt; &lt;section class=\"section mo...</td>\n",
       "    </tr>\n",
       "    <tr>\n",
       "      <th>3</th>\n",
       "      <td>https://www.klgtu.ru/institutes/institut_morsk...</td>\n",
       "      <td>instituts</td>\n",
       "      <td>2024-04-23</td>\n",
       "      <td>None</td>\n",
       "      <td>Институт морских техноло...</td>\n",
       "      <td>Институт морских технологий, энергетики и стро...</td>\n",
       "      <td>&lt;main class=\"main\"&gt; &lt;section class=\"section mo...</td>\n",
       "    </tr>\n",
       "    <tr>\n",
       "      <th>4</th>\n",
       "      <td>https://www.klgtu.ru/institutes/institut_inzhe...</td>\n",
       "      <td>instituts</td>\n",
       "      <td>2024-04-23</td>\n",
       "      <td>None</td>\n",
       "      <td>Институт инженерной педа...</td>\n",
       "      <td>Институт инженерной педагогики и гуманитарной ...</td>\n",
       "      <td>&lt;main class=\"main\"&gt; &lt;section class=\"section mo...</td>\n",
       "    </tr>\n",
       "    <tr>\n",
       "      <th>5</th>\n",
       "      <td>https://www.klgtu.ru/institutes/institut_otras...</td>\n",
       "      <td>instituts</td>\n",
       "      <td>2024-04-23</td>\n",
       "      <td>None</td>\n",
       "      <td>Институт отраслевой экон...</td>\n",
       "      <td>Институт отраслевой экономики и управления - з...</td>\n",
       "      <td>&lt;main class=\"main\"&gt; &lt;section class=\"section mo...</td>\n",
       "    </tr>\n",
       "    <tr>\n",
       "      <th>6</th>\n",
       "      <td>https://www.klgtu.ru/institutes/kaliningradski...</td>\n",
       "      <td>instituts</td>\n",
       "      <td>2024-04-23</td>\n",
       "      <td>None</td>\n",
       "      <td>Калининградский морской ...</td>\n",
       "      <td>Калининградский морской рыбопромышленный колле...</td>\n",
       "      <td>&lt;main class=\"main\"&gt; &lt;section class=\"section bg...</td>\n",
       "    </tr>\n",
       "    <tr>\n",
       "      <th>7</th>\n",
       "      <td>https://www.klgtu.ru/institutes/morskoy_institut/</td>\n",
       "      <td>instituts</td>\n",
       "      <td>2024-04-23</td>\n",
       "      <td>None</td>\n",
       "      <td>Морской институт        ...</td>\n",
       "      <td>Морской институт - заголовок страницы;; Контак...</td>\n",
       "      <td>&lt;main class=\"main\"&gt; &lt;section class=\"section mo...</td>\n",
       "    </tr>\n",
       "    <tr>\n",
       "      <th>8</th>\n",
       "      <td>https://www.klgtu.ru/institutes/sankt_peterbur...</td>\n",
       "      <td>instituts</td>\n",
       "      <td>2024-04-23</td>\n",
       "      <td>None</td>\n",
       "      <td>Санкт-Петербургский морс...</td>\n",
       "      <td>Санкт-Петербургский морской рыбопромышленный к...</td>\n",
       "      <td>&lt;main class=\"main\"&gt; &lt;section class=\"section bg...</td>\n",
       "    </tr>\n",
       "  </tbody>\n",
       "</table>\n",
       "</div>"
      ],
      "text/plain": [
       "                                                 url topic_block parsing_date  \\\n",
       "0  https://www.klgtu.ru/institutes/institut_rybol...   instituts   2024-04-23   \n",
       "1  https://www.klgtu.ru/institutes/institut_agroi...   instituts   2024-04-23   \n",
       "2  https://www.klgtu.ru/institutes/institut_tsifr...   instituts   2024-04-23   \n",
       "3  https://www.klgtu.ru/institutes/institut_morsk...   instituts   2024-04-23   \n",
       "4  https://www.klgtu.ru/institutes/institut_inzhe...   instituts   2024-04-23   \n",
       "5  https://www.klgtu.ru/institutes/institut_otras...   instituts   2024-04-23   \n",
       "6  https://www.klgtu.ru/institutes/kaliningradski...   instituts   2024-04-23   \n",
       "7  https://www.klgtu.ru/institutes/morskoy_institut/   instituts   2024-04-23   \n",
       "8  https://www.klgtu.ru/institutes/sankt_peterbur...   instituts   2024-04-23   \n",
       "\n",
       "  public_date                                              title  \\\n",
       "0        None                        Институт рыболовства и а...   \n",
       "1        None                        Институт агроинженерии и...   \n",
       "2        None                        Институт цифровых технол...   \n",
       "3        None                        Институт морских техноло...   \n",
       "4        None                        Институт инженерной педа...   \n",
       "5        None                        Институт отраслевой экон...   \n",
       "6        None                        Калининградский морской ...   \n",
       "7        None                        Морской институт        ...   \n",
       "8        None                        Санкт-Петербургский морс...   \n",
       "\n",
       "                                             context  \\\n",
       "0  Институт рыболовства и аквакультуры - заголово...   \n",
       "1  Институт агроинженерии и пищевых систем - заго...   \n",
       "2  Институт цифровых технологий - заголовок стран...   \n",
       "3  Институт морских технологий, энергетики и стро...   \n",
       "4  Институт инженерной педагогики и гуманитарной ...   \n",
       "5  Институт отраслевой экономики и управления - з...   \n",
       "6  Калининградский морской рыбопромышленный колле...   \n",
       "7  Морской институт - заголовок страницы;; Контак...   \n",
       "8  Санкт-Петербургский морской рыбопромышленный к...   \n",
       "\n",
       "                                                html  \n",
       "0  <main class=\"main\"> <section class=\"section mo...  \n",
       "1  <main class=\"main\"> <section class=\"section mo...  \n",
       "2  <main class=\"main\"> <section class=\"section mo...  \n",
       "3  <main class=\"main\"> <section class=\"section mo...  \n",
       "4  <main class=\"main\"> <section class=\"section mo...  \n",
       "5  <main class=\"main\"> <section class=\"section mo...  \n",
       "6  <main class=\"main\"> <section class=\"section bg...  \n",
       "7  <main class=\"main\"> <section class=\"section mo...  \n",
       "8  <main class=\"main\"> <section class=\"section bg...  "
      ]
     },
     "execution_count": 4,
     "metadata": {},
     "output_type": "execute_result"
    }
   ],
   "source": [
    "programms_df.head(9)"
   ]
  },
  {
   "cell_type": "code",
   "execution_count": 5,
   "metadata": {},
   "outputs": [
    {
     "name": "stdout",
     "output_type": "stream",
     "text": [
      "Институт агроинженерии и пищевых систем - заголовок страницы;; Контакты: ДИРЕКЦИЯ ; тел: 8 (4012) 99-53-40; email - vasilij.verkhoturov@klgtu.ru; адрес - г. Калининград, Советский проспект, 1 ; режим работы ПН-ПТ 8:30 – 17:00 ; обеденный перерыв 13:00 – 13:30 ; соц. сети ;; Контакты: СТУДЕНЧЕСКИЙ ОФИС ; тел: 8 (4012) 99-53-50; адрес - г. Калининград, Советский проспект, 1 ; режим работы ПН-ПТ 9:00 – 17:00 ; обеденный перерыв 13:00 – 13:30 ;; Кафедра агрономии и агроэкологии; Кафедра инжиниринга технологического оборудования; Кафедра производства и экспертизы качества сельскохозяйственной продукции; Кафедра пищевой биотехнологии; Кафедра технологии продуктов питания; Учебно-практический центр «БалтикВет»; Кафедра химии; Балтийская высшая школа гастрономии\n"
     ]
    }
   ],
   "source": [
    "print(programms_df.iloc[1]['context'])"
   ]
  },
  {
   "cell_type": "code",
   "execution_count": 6,
   "metadata": {},
   "outputs": [],
   "source": [
    "programms_df.to_json('parsing_instituts.json', orient='records', force_ascii=False)"
   ]
  },
  {
   "cell_type": "markdown",
   "metadata": {},
   "source": [
    "### Блок \"Новости на английском сайта КГТУ\""
   ]
  },
  {
   "cell_type": "code",
   "execution_count": 22,
   "metadata": {},
   "outputs": [],
   "source": [
    "from block_parsers import Kgtu_news_en_parser\n",
    "programms_parser = Kgtu_news_en_parser(3, time_sleep=False)"
   ]
  },
  {
   "cell_type": "code",
   "execution_count": 23,
   "metadata": {},
   "outputs": [
    {
     "name": "stdout",
     "output_type": "stream",
     "text": [
      "Cпарсено 30 документов\n"
     ]
    }
   ],
   "source": [
    "programms_df = parse_data(programms_parser)"
   ]
  },
  {
   "cell_type": "code",
   "execution_count": 24,
   "metadata": {},
   "outputs": [
    {
     "data": {
      "text/html": [
       "<div>\n",
       "<style scoped>\n",
       "    .dataframe tbody tr th:only-of-type {\n",
       "        vertical-align: middle;\n",
       "    }\n",
       "\n",
       "    .dataframe tbody tr th {\n",
       "        vertical-align: top;\n",
       "    }\n",
       "\n",
       "    .dataframe thead th {\n",
       "        text-align: right;\n",
       "    }\n",
       "</style>\n",
       "<table border=\"1\" class=\"dataframe\">\n",
       "  <thead>\n",
       "    <tr style=\"text-align: right;\">\n",
       "      <th></th>\n",
       "      <th>url</th>\n",
       "      <th>topic_block</th>\n",
       "      <th>parsing_date</th>\n",
       "      <th>public_date</th>\n",
       "      <th>title</th>\n",
       "      <th>context</th>\n",
       "      <th>html</th>\n",
       "    </tr>\n",
       "  </thead>\n",
       "  <tbody>\n",
       "    <tr>\n",
       "      <th>0</th>\n",
       "      <td>https://www.klgtu.ru/en/media/news_en/iaefs-st...</td>\n",
       "      <td>news_en</td>\n",
       "      <td>2024-04-23</td>\n",
       "      <td>2024-03-22</td>\n",
       "      <td>IAEFS students performed ultrasound exami...</td>\n",
       "      <td>IAEFS students performed ultrasound examinatio...</td>\n",
       "      <td>&lt;main class=\"main\"&gt;&lt;section class=\"section pt-...</td>\n",
       "    </tr>\n",
       "    <tr>\n",
       "      <th>1</th>\n",
       "      <td>https://www.klgtu.ru/en/media/news_en/kstu-rep...</td>\n",
       "      <td>news_en</td>\n",
       "      <td>2024-04-23</td>\n",
       "      <td>2024-03-21</td>\n",
       "      <td>KSTU representative took part in internat...</td>\n",
       "      <td>KSTU representative took part in international...</td>\n",
       "      <td>&lt;main class=\"main\"&gt;&lt;section class=\"section pt-...</td>\n",
       "    </tr>\n",
       "    <tr>\n",
       "      <th>2</th>\n",
       "      <td>https://www.klgtu.ru/en/media/news_en/baltikve...</td>\n",
       "      <td>news_en</td>\n",
       "      <td>2024-04-23</td>\n",
       "      <td>2024-03-18</td>\n",
       "      <td>BaltikVet training and practice centre pe...</td>\n",
       "      <td>BaltikVet training and practice centre perform...</td>\n",
       "      <td>&lt;main class=\"main\"&gt;&lt;section class=\"section pt-...</td>\n",
       "    </tr>\n",
       "    <tr>\n",
       "      <th>3</th>\n",
       "      <td>https://www.klgtu.ru/en/media/news_en/kstu-con...</td>\n",
       "      <td>news_en</td>\n",
       "      <td>2024-04-23</td>\n",
       "      <td>2024-03-13</td>\n",
       "      <td>KSTU conducted the opening ceremony of an...</td>\n",
       "      <td>KSTU conducted the opening ceremony of an inte...</td>\n",
       "      <td>&lt;main class=\"main\"&gt;&lt;section class=\"section pt-...</td>\n",
       "    </tr>\n",
       "    <tr>\n",
       "      <th>4</th>\n",
       "      <td>https://www.klgtu.ru/en/media/news_en/kstu-mas...</td>\n",
       "      <td>news_en</td>\n",
       "      <td>2024-04-23</td>\n",
       "      <td>2024-03-04</td>\n",
       "      <td>KSTU master’s students spoke at the inter...</td>\n",
       "      <td>KSTU master’s students spoke at the internatio...</td>\n",
       "      <td>&lt;main class=\"main\"&gt;&lt;section class=\"section pt-...</td>\n",
       "    </tr>\n",
       "    <tr>\n",
       "      <th>5</th>\n",
       "      <td>https://www.klgtu.ru/en/media/news_en/kstu-stu...</td>\n",
       "      <td>news_en</td>\n",
       "      <td>2024-04-23</td>\n",
       "      <td>2024-03-01</td>\n",
       "      <td>KSTU student - participant of the Exhibit...</td>\n",
       "      <td>KSTU student - participant of the Exhibition-F...</td>\n",
       "      <td>&lt;main class=\"main\"&gt;&lt;section class=\"section pt-...</td>\n",
       "    </tr>\n",
       "  </tbody>\n",
       "</table>\n",
       "</div>"
      ],
      "text/plain": [
       "                                                 url topic_block parsing_date  \\\n",
       "0  https://www.klgtu.ru/en/media/news_en/iaefs-st...     news_en   2024-04-23   \n",
       "1  https://www.klgtu.ru/en/media/news_en/kstu-rep...     news_en   2024-04-23   \n",
       "2  https://www.klgtu.ru/en/media/news_en/baltikve...     news_en   2024-04-23   \n",
       "3  https://www.klgtu.ru/en/media/news_en/kstu-con...     news_en   2024-04-23   \n",
       "4  https://www.klgtu.ru/en/media/news_en/kstu-mas...     news_en   2024-04-23   \n",
       "5  https://www.klgtu.ru/en/media/news_en/kstu-stu...     news_en   2024-04-23   \n",
       "\n",
       "  public_date                                              title  \\\n",
       "0  2024-03-22       IAEFS students performed ultrasound exami...   \n",
       "1  2024-03-21       KSTU representative took part in internat...   \n",
       "2  2024-03-18       BaltikVet training and practice centre pe...   \n",
       "3  2024-03-13       KSTU conducted the opening ceremony of an...   \n",
       "4  2024-03-04       KSTU master’s students spoke at the inter...   \n",
       "5  2024-03-01       KSTU student - participant of the Exhibit...   \n",
       "\n",
       "                                             context  \\\n",
       "0  IAEFS students performed ultrasound examinatio...   \n",
       "1  KSTU representative took part in international...   \n",
       "2  BaltikVet training and practice centre perform...   \n",
       "3  KSTU conducted the opening ceremony of an inte...   \n",
       "4  KSTU master’s students spoke at the internatio...   \n",
       "5  KSTU student - participant of the Exhibition-F...   \n",
       "\n",
       "                                                html  \n",
       "0  <main class=\"main\"><section class=\"section pt-...  \n",
       "1  <main class=\"main\"><section class=\"section pt-...  \n",
       "2  <main class=\"main\"><section class=\"section pt-...  \n",
       "3  <main class=\"main\"><section class=\"section pt-...  \n",
       "4  <main class=\"main\"><section class=\"section pt-...  \n",
       "5  <main class=\"main\"><section class=\"section pt-...  "
      ]
     },
     "execution_count": 24,
     "metadata": {},
     "output_type": "execute_result"
    }
   ],
   "source": [
    "programms_df.head(6)"
   ]
  },
  {
   "cell_type": "code",
   "execution_count": 25,
   "metadata": {},
   "outputs": [
    {
     "name": "stdout",
     "output_type": "stream",
     "text": [
      "https://www.klgtu.ru/en/media/news_en/iaefs-students-performed-ultrasound-examinations-on-pets/\n",
      "IAEFS students performed ultrasound examinations on pets - заголовок страницы;; Veterinary practice is not just a part of the educational process, it is an important step towards understanding the details of working with animals, from disease diagnosis to treatment. In this context, BaltikVet, a training and practical centre at the Department of Production and Quality Expertise of Agricultural Products of IAEFS (Institute of Agricultural Engineering and Food Systems), helps students acquire the necessary practical skills. ;; BaltikVet holds classes on the study of clinical methods of animal research using modern equipment. On March 19, students, under the guidance of experienced specialists, carried out ultrasound examinations of pets and were present at the operation (ovariohysterectomy was performed). ;; Such classes help students acquire the competencies needed for their future professions.\n"
     ]
    }
   ],
   "source": [
    "print(programms_df.iloc[0]['url'])\n",
    "print(programms_df.iloc[0]['context'])"
   ]
  },
  {
   "cell_type": "code",
   "execution_count": 26,
   "metadata": {},
   "outputs": [],
   "source": [
    "programms_df.to_json('parsing_news_en.json', orient='records', force_ascii=False)"
   ]
  },
  {
   "cell_type": "markdown",
   "metadata": {},
   "source": [
    "### Блок \"Институты на английском\""
   ]
  },
  {
   "cell_type": "code",
   "execution_count": 2,
   "metadata": {},
   "outputs": [],
   "source": [
    "from block_parsers import Kgtu_instituts_en_parser\n",
    "programms_parser = Kgtu_instituts_en_parser(time_sleep=False)"
   ]
  },
  {
   "cell_type": "code",
   "execution_count": 3,
   "metadata": {},
   "outputs": [
    {
     "name": "stdout",
     "output_type": "stream",
     "text": [
      "Cпарсено 5 документов\n"
     ]
    }
   ],
   "source": [
    "programms_df = parse_data(programms_parser)"
   ]
  },
  {
   "cell_type": "code",
   "execution_count": 4,
   "metadata": {},
   "outputs": [
    {
     "data": {
      "text/html": [
       "<div>\n",
       "<style scoped>\n",
       "    .dataframe tbody tr th:only-of-type {\n",
       "        vertical-align: middle;\n",
       "    }\n",
       "\n",
       "    .dataframe tbody tr th {\n",
       "        vertical-align: top;\n",
       "    }\n",
       "\n",
       "    .dataframe thead th {\n",
       "        text-align: right;\n",
       "    }\n",
       "</style>\n",
       "<table border=\"1\" class=\"dataframe\">\n",
       "  <thead>\n",
       "    <tr style=\"text-align: right;\">\n",
       "      <th></th>\n",
       "      <th>url</th>\n",
       "      <th>topic_block</th>\n",
       "      <th>parsing_date</th>\n",
       "      <th>public_date</th>\n",
       "      <th>title</th>\n",
       "      <th>context</th>\n",
       "      <th>html</th>\n",
       "    </tr>\n",
       "  </thead>\n",
       "  <tbody>\n",
       "    <tr>\n",
       "      <th>0</th>\n",
       "      <td>https://www.klgtu.ru/en/institutes/institute_o...</td>\n",
       "      <td>instituts</td>\n",
       "      <td>2024-04-23</td>\n",
       "      <td>None</td>\n",
       "      <td>Institute of Agricultura...</td>\n",
       "      <td>Institute of Agricultural Engineering and Food...</td>\n",
       "      <td>&lt;main class=\"main\"&gt; &lt;section class=\"section mo...</td>\n",
       "    </tr>\n",
       "    <tr>\n",
       "      <th>1</th>\n",
       "      <td>https://www.klgtu.ru/en/institutes/institute_o...</td>\n",
       "      <td>instituts</td>\n",
       "      <td>2024-04-23</td>\n",
       "      <td>None</td>\n",
       "      <td>Institute of Digital Tec...</td>\n",
       "      <td>Institute of Digital Technologies - заголовок ...</td>\n",
       "      <td>&lt;main class=\"main\"&gt; &lt;section class=\"section mo...</td>\n",
       "    </tr>\n",
       "    <tr>\n",
       "      <th>2</th>\n",
       "      <td>https://www.klgtu.ru/en/institutes/institute_o...</td>\n",
       "      <td>instituts</td>\n",
       "      <td>2024-04-23</td>\n",
       "      <td>None</td>\n",
       "      <td>Institute of Fisheries a...</td>\n",
       "      <td>Institute of Fisheries and Aquaculture - загол...</td>\n",
       "      <td>&lt;main class=\"main\"&gt; &lt;section class=\"section mo...</td>\n",
       "    </tr>\n",
       "    <tr>\n",
       "      <th>3</th>\n",
       "      <td>https://www.klgtu.ru/en/institutes/institute_o...</td>\n",
       "      <td>instituts</td>\n",
       "      <td>2024-04-23</td>\n",
       "      <td>None</td>\n",
       "      <td>Institute of Industry-Ba...</td>\n",
       "      <td>Institute of Industry-Based Economics and Mana...</td>\n",
       "      <td>&lt;main class=\"main\"&gt; &lt;section class=\"section mo...</td>\n",
       "    </tr>\n",
       "    <tr>\n",
       "      <th>4</th>\n",
       "      <td>https://www.klgtu.ru/en/institutes/institute_o...</td>\n",
       "      <td>instituts</td>\n",
       "      <td>2024-04-23</td>\n",
       "      <td>None</td>\n",
       "      <td>Institute of Marine Tech...</td>\n",
       "      <td>Institute of Marine Technologies, Power Engine...</td>\n",
       "      <td>&lt;main class=\"main\"&gt; &lt;section class=\"section mo...</td>\n",
       "    </tr>\n",
       "  </tbody>\n",
       "</table>\n",
       "</div>"
      ],
      "text/plain": [
       "                                                 url topic_block parsing_date  \\\n",
       "0  https://www.klgtu.ru/en/institutes/institute_o...   instituts   2024-04-23   \n",
       "1  https://www.klgtu.ru/en/institutes/institute_o...   instituts   2024-04-23   \n",
       "2  https://www.klgtu.ru/en/institutes/institute_o...   instituts   2024-04-23   \n",
       "3  https://www.klgtu.ru/en/institutes/institute_o...   instituts   2024-04-23   \n",
       "4  https://www.klgtu.ru/en/institutes/institute_o...   instituts   2024-04-23   \n",
       "\n",
       "  public_date                                              title  \\\n",
       "0        None                        Institute of Agricultura...   \n",
       "1        None                        Institute of Digital Tec...   \n",
       "2        None                        Institute of Fisheries a...   \n",
       "3        None                        Institute of Industry-Ba...   \n",
       "4        None                        Institute of Marine Tech...   \n",
       "\n",
       "                                             context  \\\n",
       "0  Institute of Agricultural Engineering and Food...   \n",
       "1  Institute of Digital Technologies - заголовок ...   \n",
       "2  Institute of Fisheries and Aquaculture - загол...   \n",
       "3  Institute of Industry-Based Economics and Mana...   \n",
       "4  Institute of Marine Technologies, Power Engine...   \n",
       "\n",
       "                                                html  \n",
       "0  <main class=\"main\"> <section class=\"section mo...  \n",
       "1  <main class=\"main\"> <section class=\"section mo...  \n",
       "2  <main class=\"main\"> <section class=\"section mo...  \n",
       "3  <main class=\"main\"> <section class=\"section mo...  \n",
       "4  <main class=\"main\"> <section class=\"section mo...  "
      ]
     },
     "execution_count": 4,
     "metadata": {},
     "output_type": "execute_result"
    }
   ],
   "source": [
    "programms_df.head(6)"
   ]
  },
  {
   "cell_type": "code",
   "execution_count": 5,
   "metadata": {},
   "outputs": [
    {
     "name": "stdout",
     "output_type": "stream",
     "text": [
      "Institute of Fisheries and Aquaculture - заголовок страницы;; Contacts: DIRECTORATE ; phone - +74012995369; email - oleg.novozhilov@klgtu.ru; address - Kaliningrad, Sovetsky Prospekt, 1 ; work time Mon-Fri 8:30 a.m – 5:00 p.m ; time break 1:00 – 1:30 p.m ;; Contacts: STUDENT OFFICE ; phone - +74012995369; email - office_ira@klgtu.ru; address - Kaliningrad, Sovetsky Prospekt, 1 ; work time Mon-Fri 9:00 a.m – 5:00 p.m ; time break 1:00 – 1:30 p.m\n"
     ]
    }
   ],
   "source": [
    "print(programms_df.iloc[2]['context'])"
   ]
  },
  {
   "cell_type": "code",
   "execution_count": 6,
   "metadata": {},
   "outputs": [],
   "source": [
    "programms_df.to_json('parsing_instituts_en.json', orient='records', force_ascii=False)"
   ]
  },
  {
   "cell_type": "markdown",
   "metadata": {},
   "source": [
    "# Парсеры телеграмма"
   ]
  },
  {
   "cell_type": "markdown",
   "metadata": {},
   "source": [
    "### Блок \"Новости телеграмм-канала КГТУ\""
   ]
  },
  {
   "cell_type": "code",
   "execution_count": 2,
   "metadata": {},
   "outputs": [
    {
     "name": "stderr",
     "output_type": "stream",
     "text": [
      "[nltk_data] Downloading package punkt to\n",
      "[nltk_data]     C:\\Users\\GoLuBoK\\AppData\\Roaming\\nltk_data...\n",
      "[nltk_data]   Package punkt is already up-to-date!\n"
     ]
    }
   ],
   "source": [
    "from block_parsers_tg_kgtu import Telegram_parser_news"
   ]
  },
  {
   "cell_type": "code",
   "execution_count": 3,
   "metadata": {
    "scrolled": true
   },
   "outputs": [],
   "source": [
    "programms_df = pd.DataFrame(Telegram_parser_news.df)"
   ]
  },
  {
   "cell_type": "code",
   "execution_count": 4,
   "metadata": {},
   "outputs": [
    {
     "data": {
      "text/html": [
       "<div>\n",
       "<style scoped>\n",
       "    .dataframe tbody tr th:only-of-type {\n",
       "        vertical-align: middle;\n",
       "    }\n",
       "\n",
       "    .dataframe tbody tr th {\n",
       "        vertical-align: top;\n",
       "    }\n",
       "\n",
       "    .dataframe thead th {\n",
       "        text-align: right;\n",
       "    }\n",
       "</style>\n",
       "<table border=\"1\" class=\"dataframe\">\n",
       "  <thead>\n",
       "    <tr style=\"text-align: right;\">\n",
       "      <th></th>\n",
       "      <th>url</th>\n",
       "      <th>topic_block</th>\n",
       "      <th>parsing_date</th>\n",
       "      <th>public_date</th>\n",
       "      <th>title</th>\n",
       "      <th>context</th>\n",
       "      <th>html</th>\n",
       "    </tr>\n",
       "  </thead>\n",
       "  <tbody>\n",
       "    <tr>\n",
       "      <th>0</th>\n",
       "      <td>https://t.me/klgtu39/1783</td>\n",
       "      <td>tg_news</td>\n",
       "      <td>2024-04-19</td>\n",
       "      <td>None</td>\n",
       "      <td>⚡️В Калининградском государственном техническо...</td>\n",
       "      <td>⚡️В Калининградском государственном техническо...</td>\n",
       "      <td>&lt;main class=\"tgme_main\" data-url=\"/klgtu39\"&gt;\\n...</td>\n",
       "    </tr>\n",
       "    <tr>\n",
       "      <th>1</th>\n",
       "      <td>https://t.me/klgtu39/1784</td>\n",
       "      <td>tg_news</td>\n",
       "      <td>2024-04-19</td>\n",
       "      <td>None</td>\n",
       "      <td>⚛️«Дни науки» успешно стартовали в стенах наше...</td>\n",
       "      <td>⚛️«Дни науки» успешно стартовали в стенах наше...</td>\n",
       "      <td>&lt;main class=\"tgme_main\" data-url=\"/klgtu39\"&gt;\\n...</td>\n",
       "    </tr>\n",
       "    <tr>\n",
       "      <th>2</th>\n",
       "      <td>https://t.me/klgtu39/1785</td>\n",
       "      <td>tg_news</td>\n",
       "      <td>2024-04-19</td>\n",
       "      <td>None</td>\n",
       "      <td>🛰Группа иностранных студентов КГТУ посетила на...</td>\n",
       "      <td>🛰Группа иностранных студентов КГТУ посетила на...</td>\n",
       "      <td>&lt;main class=\"tgme_main\" data-url=\"/klgtu39\"&gt;\\n...</td>\n",
       "    </tr>\n",
       "    <tr>\n",
       "      <th>3</th>\n",
       "      <td>https://t.me/klgtu39/1786</td>\n",
       "      <td>tg_news</td>\n",
       "      <td>2024-04-19</td>\n",
       "      <td>None</td>\n",
       "      <td>💫Сегодня по итогу школы КВН состоялся  отбороч...</td>\n",
       "      <td>💫Сегодня по итогу школы КВН состоялся  отбороч...</td>\n",
       "      <td>&lt;main class=\"tgme_main\" data-url=\"/klgtu39\"&gt;\\n...</td>\n",
       "    </tr>\n",
       "    <tr>\n",
       "      <th>4</th>\n",
       "      <td>https://t.me/klgtu39/1795</td>\n",
       "      <td>tg_news</td>\n",
       "      <td>2024-04-19</td>\n",
       "      <td>None</td>\n",
       "      <td>⚛️Продолжаются \"Дни науки\" в стенах нашего уни...</td>\n",
       "      <td>⚛️Продолжаются \"Дни науки\" в стенах нашего уни...</td>\n",
       "      <td>&lt;main class=\"tgme_main\" data-url=\"/klgtu39\"&gt;\\n...</td>\n",
       "    </tr>\n",
       "    <tr>\n",
       "      <th>5</th>\n",
       "      <td>https://t.me/klgtu39/1797</td>\n",
       "      <td>tg_news</td>\n",
       "      <td>2024-04-19</td>\n",
       "      <td>None</td>\n",
       "      <td>🧡Студенты КГТУ направления обучения «Агрономия...</td>\n",
       "      <td>🧡Студенты КГТУ направления обучения «Агрономия...</td>\n",
       "      <td>&lt;main class=\"tgme_main\" data-url=\"/klgtu39\"&gt;\\n...</td>\n",
       "    </tr>\n",
       "    <tr>\n",
       "      <th>6</th>\n",
       "      <td>https://t.me/klgtu39/1799</td>\n",
       "      <td>tg_news</td>\n",
       "      <td>2024-04-19</td>\n",
       "      <td>None</td>\n",
       "      <td>⚛️17 апреля, в рамках III научно-технической к...</td>\n",
       "      <td>⚛️17 апреля, в рамках III научно-технической к...</td>\n",
       "      <td>&lt;main class=\"tgme_main\" data-url=\"/klgtu39\"&gt;\\n...</td>\n",
       "    </tr>\n",
       "    <tr>\n",
       "      <th>7</th>\n",
       "      <td>https://t.me/klgtu39/1802</td>\n",
       "      <td>tg_news</td>\n",
       "      <td>2024-04-19</td>\n",
       "      <td>None</td>\n",
       "      <td>🧡Стали известны результаты IХ международной ст...</td>\n",
       "      <td>🧡Стали известны результаты IХ международной ст...</td>\n",
       "      <td>&lt;main class=\"tgme_main\" data-url=\"/klgtu39\"&gt;\\n...</td>\n",
       "    </tr>\n",
       "  </tbody>\n",
       "</table>\n",
       "</div>"
      ],
      "text/plain": [
       "                         url topic_block parsing_date public_date  \\\n",
       "0  https://t.me/klgtu39/1783     tg_news   2024-04-19        None   \n",
       "1  https://t.me/klgtu39/1784     tg_news   2024-04-19        None   \n",
       "2  https://t.me/klgtu39/1785     tg_news   2024-04-19        None   \n",
       "3  https://t.me/klgtu39/1786     tg_news   2024-04-19        None   \n",
       "4  https://t.me/klgtu39/1795     tg_news   2024-04-19        None   \n",
       "5  https://t.me/klgtu39/1797     tg_news   2024-04-19        None   \n",
       "6  https://t.me/klgtu39/1799     tg_news   2024-04-19        None   \n",
       "7  https://t.me/klgtu39/1802     tg_news   2024-04-19        None   \n",
       "\n",
       "                                               title  \\\n",
       "0  ⚡️В Калининградском государственном техническо...   \n",
       "1  ⚛️«Дни науки» успешно стартовали в стенах наше...   \n",
       "2  🛰Группа иностранных студентов КГТУ посетила на...   \n",
       "3  💫Сегодня по итогу школы КВН состоялся  отбороч...   \n",
       "4  ⚛️Продолжаются \"Дни науки\" в стенах нашего уни...   \n",
       "5  🧡Студенты КГТУ направления обучения «Агрономия...   \n",
       "6  ⚛️17 апреля, в рамках III научно-технической к...   \n",
       "7  🧡Стали известны результаты IХ международной ст...   \n",
       "\n",
       "                                             context  \\\n",
       "0  ⚡️В Калининградском государственном техническо...   \n",
       "1  ⚛️«Дни науки» успешно стартовали в стенах наше...   \n",
       "2  🛰Группа иностранных студентов КГТУ посетила на...   \n",
       "3  💫Сегодня по итогу школы КВН состоялся  отбороч...   \n",
       "4  ⚛️Продолжаются \"Дни науки\" в стенах нашего уни...   \n",
       "5  🧡Студенты КГТУ направления обучения «Агрономия...   \n",
       "6  ⚛️17 апреля, в рамках III научно-технической к...   \n",
       "7  🧡Стали известны результаты IХ международной ст...   \n",
       "\n",
       "                                                html  \n",
       "0  <main class=\"tgme_main\" data-url=\"/klgtu39\">\\n...  \n",
       "1  <main class=\"tgme_main\" data-url=\"/klgtu39\">\\n...  \n",
       "2  <main class=\"tgme_main\" data-url=\"/klgtu39\">\\n...  \n",
       "3  <main class=\"tgme_main\" data-url=\"/klgtu39\">\\n...  \n",
       "4  <main class=\"tgme_main\" data-url=\"/klgtu39\">\\n...  \n",
       "5  <main class=\"tgme_main\" data-url=\"/klgtu39\">\\n...  \n",
       "6  <main class=\"tgme_main\" data-url=\"/klgtu39\">\\n...  \n",
       "7  <main class=\"tgme_main\" data-url=\"/klgtu39\">\\n...  "
      ]
     },
     "execution_count": 4,
     "metadata": {},
     "output_type": "execute_result"
    }
   ],
   "source": [
    "programms_df.head(20)"
   ]
  },
  {
   "cell_type": "code",
   "execution_count": 5,
   "metadata": {},
   "outputs": [
    {
     "name": "stdout",
     "output_type": "stream",
     "text": [
      "💫Сегодня по итогу школы КВН состоялся  отборочный фестиваль проекта Министерства молодёжной политики  «Просто и смешно», на котором выступили 5 наших команд со следующими результатами: 👀«Твоими глазами» (КГТУ) - 1 место 3 блока🐟«Сборная КМРК» (КМРК) - 2 место 3 блока ⚡️«Опоссумы» (КГТУ) - победители в душе😌🚢«Морячки» (БГАРФ) - 2 место 2 блока💥«Сборная апокалипсиса» (КГТУ) - 2 место 1 блока По итогу игры в общем зачете Команда КВН «Твоими глазами» заняла 3 место🔥Также мы забрали сразу 2 номинации:🕺🏻Лучший актер- Даниил  «Сборная КМРК»💃Лучшая актриса- Ксения  «Морячки» Хотим поблагодарить всех организаторов, кураторов и преподавателей школы за бесценный опыт и знания❤️#КГТУ #БГАРФ #КМРК #лигаквнплотва #квнплотва #лигаплотва #molod39 #квнзапад #командаВолкогона\n"
     ]
    }
   ],
   "source": [
    "print(programms_df.iloc[3]['context'])"
   ]
  },
  {
   "cell_type": "code",
   "execution_count": 6,
   "metadata": {},
   "outputs": [],
   "source": [
    "programms_df.to_json('parsing_tg_news.json', orient='records', force_ascii=False)"
   ]
  },
  {
   "cell_type": "markdown",
   "metadata": {},
   "source": [
    "### Блок \"Новости телеграмм-канала Студенческого совета КГТУ\""
   ]
  },
  {
   "cell_type": "code",
   "execution_count": 7,
   "metadata": {},
   "outputs": [
    {
     "name": "stderr",
     "output_type": "stream",
     "text": [
      "[nltk_data] Downloading package punkt to\n",
      "[nltk_data]     C:\\Users\\GoLuBoK\\AppData\\Roaming\\nltk_data...\n",
      "[nltk_data]   Package punkt is already up-to-date!\n"
     ]
    }
   ],
   "source": [
    "from block_parsers_tg_studsov import Telegram_parser_studsov"
   ]
  },
  {
   "cell_type": "code",
   "execution_count": 8,
   "metadata": {},
   "outputs": [],
   "source": [
    "programms_df = pd.DataFrame(Telegram_parser_studsov.df)"
   ]
  },
  {
   "cell_type": "code",
   "execution_count": 9,
   "metadata": {},
   "outputs": [
    {
     "data": {
      "text/html": [
       "<div>\n",
       "<style scoped>\n",
       "    .dataframe tbody tr th:only-of-type {\n",
       "        vertical-align: middle;\n",
       "    }\n",
       "\n",
       "    .dataframe tbody tr th {\n",
       "        vertical-align: top;\n",
       "    }\n",
       "\n",
       "    .dataframe thead th {\n",
       "        text-align: right;\n",
       "    }\n",
       "</style>\n",
       "<table border=\"1\" class=\"dataframe\">\n",
       "  <thead>\n",
       "    <tr style=\"text-align: right;\">\n",
       "      <th></th>\n",
       "      <th>url</th>\n",
       "      <th>topic_block</th>\n",
       "      <th>parsing_date</th>\n",
       "      <th>public_date</th>\n",
       "      <th>title</th>\n",
       "      <th>context</th>\n",
       "      <th>html</th>\n",
       "    </tr>\n",
       "  </thead>\n",
       "  <tbody>\n",
       "    <tr>\n",
       "      <th>0</th>\n",
       "      <td>https://t.me/students_counsil/1</td>\n",
       "      <td>tg_studsov</td>\n",
       "      <td>2024-04-19</td>\n",
       "      <td>None</td>\n",
       "      <td>Channel created</td>\n",
       "      <td>Channel created</td>\n",
       "      <td>&lt;main class=\"tgme_main\" data-url=\"/students_co...</td>\n",
       "    </tr>\n",
       "    <tr>\n",
       "      <th>1</th>\n",
       "      <td>https://t.me/students_counsil/5</td>\n",
       "      <td>tg_studsov</td>\n",
       "      <td>2024-04-19</td>\n",
       "      <td>None</td>\n",
       "      <td>🌟Всем привет, это студенческий совет КГТУ Мы т...</td>\n",
       "      <td>🌟Всем привет, это студенческий совет КГТУ Мы т...</td>\n",
       "      <td>&lt;main class=\"tgme_main\" data-url=\"/students_co...</td>\n",
       "    </tr>\n",
       "    <tr>\n",
       "      <th>2</th>\n",
       "      <td>https://t.me/students_counsil/7</td>\n",
       "      <td>tg_studsov</td>\n",
       "      <td>2024-04-19</td>\n",
       "      <td>None</td>\n",
       "      <td>💥Региональный форум студенческого самоуправлен...</td>\n",
       "      <td>💥Региональный форум студенческого самоуправлен...</td>\n",
       "      <td>&lt;main class=\"tgme_main\" data-url=\"/students_co...</td>\n",
       "    </tr>\n",
       "    <tr>\n",
       "      <th>3</th>\n",
       "      <td>https://t.me/students_counsil/8</td>\n",
       "      <td>tg_studsov</td>\n",
       "      <td>2024-04-19</td>\n",
       "      <td>None</td>\n",
       "      <td>📣 Сегодня прошло открытие выездной школы социа...</td>\n",
       "      <td>📣 Сегодня прошло открытие выездной школы социа...</td>\n",
       "      <td>&lt;main class=\"tgme_main\" data-url=\"/students_co...</td>\n",
       "    </tr>\n",
       "    <tr>\n",
       "      <th>4</th>\n",
       "      <td>https://t.me/students_counsil/9</td>\n",
       "      <td>tg_studsov</td>\n",
       "      <td>2024-04-19</td>\n",
       "      <td>None</td>\n",
       "      <td>📣Квест СТУДПРОФИ для студентов и курсантов СПО...</td>\n",
       "      <td>📣Квест СТУДПРОФИ для студентов и курсантов СПО...</td>\n",
       "      <td>&lt;main class=\"tgme_main\" data-url=\"/students_co...</td>\n",
       "    </tr>\n",
       "  </tbody>\n",
       "</table>\n",
       "</div>"
      ],
      "text/plain": [
       "                               url topic_block parsing_date public_date  \\\n",
       "0  https://t.me/students_counsil/1  tg_studsov   2024-04-19        None   \n",
       "1  https://t.me/students_counsil/5  tg_studsov   2024-04-19        None   \n",
       "2  https://t.me/students_counsil/7  tg_studsov   2024-04-19        None   \n",
       "3  https://t.me/students_counsil/8  tg_studsov   2024-04-19        None   \n",
       "4  https://t.me/students_counsil/9  tg_studsov   2024-04-19        None   \n",
       "\n",
       "                                               title  \\\n",
       "0                                    Channel created   \n",
       "1  🌟Всем привет, это студенческий совет КГТУ Мы т...   \n",
       "2  💥Региональный форум студенческого самоуправлен...   \n",
       "3  📣 Сегодня прошло открытие выездной школы социа...   \n",
       "4  📣Квест СТУДПРОФИ для студентов и курсантов СПО...   \n",
       "\n",
       "                                             context  \\\n",
       "0                                    Channel created   \n",
       "1  🌟Всем привет, это студенческий совет КГТУ Мы т...   \n",
       "2  💥Региональный форум студенческого самоуправлен...   \n",
       "3  📣 Сегодня прошло открытие выездной школы социа...   \n",
       "4  📣Квест СТУДПРОФИ для студентов и курсантов СПО...   \n",
       "\n",
       "                                                html  \n",
       "0  <main class=\"tgme_main\" data-url=\"/students_co...  \n",
       "1  <main class=\"tgme_main\" data-url=\"/students_co...  \n",
       "2  <main class=\"tgme_main\" data-url=\"/students_co...  \n",
       "3  <main class=\"tgme_main\" data-url=\"/students_co...  \n",
       "4  <main class=\"tgme_main\" data-url=\"/students_co...  "
      ]
     },
     "execution_count": 9,
     "metadata": {},
     "output_type": "execute_result"
    }
   ],
   "source": [
    "programms_df.head(20)"
   ]
  },
  {
   "cell_type": "code",
   "execution_count": 10,
   "metadata": {},
   "outputs": [],
   "source": [
    "programms_df.to_json('parsing_tg_studsov.json', orient='records', force_ascii=False)"
   ]
  },
  {
   "cell_type": "markdown",
   "metadata": {},
   "source": [
    "### Блок \"Новости телеграмм-канала Плотва КГТУ\""
   ]
  },
  {
   "cell_type": "code",
   "execution_count": 11,
   "metadata": {},
   "outputs": [
    {
     "name": "stderr",
     "output_type": "stream",
     "text": [
      "[nltk_data] Downloading package punkt to\n",
      "[nltk_data]     C:\\Users\\GoLuBoK\\AppData\\Roaming\\nltk_data...\n",
      "[nltk_data]   Package punkt is already up-to-date!\n"
     ]
    }
   ],
   "source": [
    "from block_parsers_tg_plotva import Telegram_parser_plotva"
   ]
  },
  {
   "cell_type": "code",
   "execution_count": 12,
   "metadata": {},
   "outputs": [],
   "source": [
    "programms_df = pd.DataFrame(Telegram_parser_plotva.df)"
   ]
  },
  {
   "cell_type": "code",
   "execution_count": 13,
   "metadata": {},
   "outputs": [
    {
     "data": {
      "text/html": [
       "<div>\n",
       "<style scoped>\n",
       "    .dataframe tbody tr th:only-of-type {\n",
       "        vertical-align: middle;\n",
       "    }\n",
       "\n",
       "    .dataframe tbody tr th {\n",
       "        vertical-align: top;\n",
       "    }\n",
       "\n",
       "    .dataframe thead th {\n",
       "        text-align: right;\n",
       "    }\n",
       "</style>\n",
       "<table border=\"1\" class=\"dataframe\">\n",
       "  <thead>\n",
       "    <tr style=\"text-align: right;\">\n",
       "      <th></th>\n",
       "      <th>url</th>\n",
       "      <th>topic_block</th>\n",
       "      <th>parsing_date</th>\n",
       "      <th>public_date</th>\n",
       "      <th>title</th>\n",
       "      <th>context</th>\n",
       "      <th>html</th>\n",
       "    </tr>\n",
       "  </thead>\n",
       "  <tbody>\n",
       "    <tr>\n",
       "      <th>0</th>\n",
       "      <td>https://t.me/ligaplotv/620</td>\n",
       "      <td>tg_plotva</td>\n",
       "      <td>2024-04-19</td>\n",
       "      <td>None</td>\n",
       "      <td>💫Целыми днями готовился к полуфиналу?</td>\n",
       "      <td>💫Целыми днями готовился к полуфиналу? Устал от...</td>\n",
       "      <td>&lt;main class=\"tgme_main\" data-url=\"/ligaplotv\"&gt;...</td>\n",
       "    </tr>\n",
       "    <tr>\n",
       "      <th>1</th>\n",
       "      <td>https://t.me/ligaplotv/621</td>\n",
       "      <td>tg_plotva</td>\n",
       "      <td>2024-04-19</td>\n",
       "      <td>None</td>\n",
       "      <td>Результаты полуфинала лиги КВН «ПЛОТВА»🔥💅Лучша...</td>\n",
       "      <td>Результаты полуфинала лиги КВН «ПЛОТВА»🔥💅Лучша...</td>\n",
       "      <td>&lt;main class=\"tgme_main\" data-url=\"/ligaplotv\"&gt;...</td>\n",
       "    </tr>\n",
       "    <tr>\n",
       "      <th>2</th>\n",
       "      <td>https://t.me/ligaplotv/622</td>\n",
       "      <td>tg_plotva</td>\n",
       "      <td>2024-04-19</td>\n",
       "      <td>None</td>\n",
       "      <td>🎉 Накануне вечером было жарко от шуток в актов...</td>\n",
       "      <td>🎉 Накануне вечером было жарко от шуток в актов...</td>\n",
       "      <td>&lt;main class=\"tgme_main\" data-url=\"/ligaplotv\"&gt;...</td>\n",
       "    </tr>\n",
       "    <tr>\n",
       "      <th>3</th>\n",
       "      <td>https://t.me/ligaplotv/623</td>\n",
       "      <td>tg_plotva</td>\n",
       "      <td>2024-04-19</td>\n",
       "      <td>None</td>\n",
       "      <td>Фотоотчет о полуфинале от Насти Ликиновой🥰КГТУ...</td>\n",
       "      <td>Фотоотчет о полуфинале от Насти Ликиновой🥰КГТУ...</td>\n",
       "      <td>&lt;main class=\"tgme_main\" data-url=\"/ligaplotv\"&gt;...</td>\n",
       "    </tr>\n",
       "    <tr>\n",
       "      <th>4</th>\n",
       "      <td>https://t.me/ligaplotv/624</td>\n",
       "      <td>tg_plotva</td>\n",
       "      <td>2024-04-19</td>\n",
       "      <td>None</td>\n",
       "      <td>💫В 1961 году 12 апреля Юрий Гагарин сказал «По...</td>\n",
       "      <td>💫В 1961 году 12 апреля Юрий Гагарин сказал «По...</td>\n",
       "      <td>&lt;main class=\"tgme_main\" data-url=\"/ligaplotv\"&gt;...</td>\n",
       "    </tr>\n",
       "    <tr>\n",
       "      <th>5</th>\n",
       "      <td>https://t.me/ligaplotv/625</td>\n",
       "      <td>tg_plotva</td>\n",
       "      <td>2024-04-19</td>\n",
       "      <td>None</td>\n",
       "      <td>💫 Наши ребята находятся на школе КВН «Просто и...</td>\n",
       "      <td>💫 Наши ребята находятся на школе КВН «Просто и...</td>\n",
       "      <td>&lt;main class=\"tgme_main\" data-url=\"/ligaplotv\"&gt;...</td>\n",
       "    </tr>\n",
       "    <tr>\n",
       "      <th>6</th>\n",
       "      <td>https://t.me/ligaplotv/637</td>\n",
       "      <td>tg_plotva</td>\n",
       "      <td>2024-04-19</td>\n",
       "      <td>None</td>\n",
       "      <td>💫Сегодня по итогу школы КВН состоялся  отбороч...</td>\n",
       "      <td>💫Сегодня по итогу школы КВН состоялся  отбороч...</td>\n",
       "      <td>&lt;main class=\"tgme_main\" data-url=\"/ligaplotv\"&gt;...</td>\n",
       "    </tr>\n",
       "  </tbody>\n",
       "</table>\n",
       "</div>"
      ],
      "text/plain": [
       "                          url topic_block parsing_date public_date  \\\n",
       "0  https://t.me/ligaplotv/620   tg_plotva   2024-04-19        None   \n",
       "1  https://t.me/ligaplotv/621   tg_plotva   2024-04-19        None   \n",
       "2  https://t.me/ligaplotv/622   tg_plotva   2024-04-19        None   \n",
       "3  https://t.me/ligaplotv/623   tg_plotva   2024-04-19        None   \n",
       "4  https://t.me/ligaplotv/624   tg_plotva   2024-04-19        None   \n",
       "5  https://t.me/ligaplotv/625   tg_plotva   2024-04-19        None   \n",
       "6  https://t.me/ligaplotv/637   tg_plotva   2024-04-19        None   \n",
       "\n",
       "                                               title  \\\n",
       "0              💫Целыми днями готовился к полуфиналу?   \n",
       "1  Результаты полуфинала лиги КВН «ПЛОТВА»🔥💅Лучша...   \n",
       "2  🎉 Накануне вечером было жарко от шуток в актов...   \n",
       "3  Фотоотчет о полуфинале от Насти Ликиновой🥰КГТУ...   \n",
       "4  💫В 1961 году 12 апреля Юрий Гагарин сказал «По...   \n",
       "5  💫 Наши ребята находятся на школе КВН «Просто и...   \n",
       "6  💫Сегодня по итогу школы КВН состоялся  отбороч...   \n",
       "\n",
       "                                             context  \\\n",
       "0  💫Целыми днями готовился к полуфиналу? Устал от...   \n",
       "1  Результаты полуфинала лиги КВН «ПЛОТВА»🔥💅Лучша...   \n",
       "2  🎉 Накануне вечером было жарко от шуток в актов...   \n",
       "3  Фотоотчет о полуфинале от Насти Ликиновой🥰КГТУ...   \n",
       "4  💫В 1961 году 12 апреля Юрий Гагарин сказал «По...   \n",
       "5  💫 Наши ребята находятся на школе КВН «Просто и...   \n",
       "6  💫Сегодня по итогу школы КВН состоялся  отбороч...   \n",
       "\n",
       "                                                html  \n",
       "0  <main class=\"tgme_main\" data-url=\"/ligaplotv\">...  \n",
       "1  <main class=\"tgme_main\" data-url=\"/ligaplotv\">...  \n",
       "2  <main class=\"tgme_main\" data-url=\"/ligaplotv\">...  \n",
       "3  <main class=\"tgme_main\" data-url=\"/ligaplotv\">...  \n",
       "4  <main class=\"tgme_main\" data-url=\"/ligaplotv\">...  \n",
       "5  <main class=\"tgme_main\" data-url=\"/ligaplotv\">...  \n",
       "6  <main class=\"tgme_main\" data-url=\"/ligaplotv\">...  "
      ]
     },
     "execution_count": 13,
     "metadata": {},
     "output_type": "execute_result"
    }
   ],
   "source": [
    "programms_df.head(20)"
   ]
  },
  {
   "cell_type": "code",
   "execution_count": 14,
   "metadata": {},
   "outputs": [],
   "source": [
    "programms_df.to_json('parsing_tg_plotva.json', orient='records', force_ascii=False)"
   ]
  },
  {
   "cell_type": "markdown",
   "metadata": {},
   "source": [
    "### Блок \"Новости телеграмм-канала Центр карьеры КГТУ\""
   ]
  },
  {
   "cell_type": "code",
   "execution_count": 15,
   "metadata": {},
   "outputs": [
    {
     "name": "stderr",
     "output_type": "stream",
     "text": [
      "[nltk_data] Downloading package punkt to\n",
      "[nltk_data]     C:\\Users\\GoLuBoK\\AppData\\Roaming\\nltk_data...\n",
      "[nltk_data]   Package punkt is already up-to-date!\n"
     ]
    }
   ],
   "source": [
    "from block_parsers_tg_career import Telegram_parser_career"
   ]
  },
  {
   "cell_type": "code",
   "execution_count": 16,
   "metadata": {},
   "outputs": [],
   "source": [
    "programms_df = pd.DataFrame(Telegram_parser_career.df)"
   ]
  },
  {
   "cell_type": "code",
   "execution_count": 17,
   "metadata": {},
   "outputs": [
    {
     "data": {
      "text/html": [
       "<div>\n",
       "<style scoped>\n",
       "    .dataframe tbody tr th:only-of-type {\n",
       "        vertical-align: middle;\n",
       "    }\n",
       "\n",
       "    .dataframe tbody tr th {\n",
       "        vertical-align: top;\n",
       "    }\n",
       "\n",
       "    .dataframe thead th {\n",
       "        text-align: right;\n",
       "    }\n",
       "</style>\n",
       "<table border=\"1\" class=\"dataframe\">\n",
       "  <thead>\n",
       "    <tr style=\"text-align: right;\">\n",
       "      <th></th>\n",
       "      <th>url</th>\n",
       "      <th>topic_block</th>\n",
       "      <th>parsing_date</th>\n",
       "      <th>public_date</th>\n",
       "      <th>title</th>\n",
       "      <th>context</th>\n",
       "      <th>html</th>\n",
       "    </tr>\n",
       "  </thead>\n",
       "  <tbody>\n",
       "    <tr>\n",
       "      <th>0</th>\n",
       "      <td>https://t.me/cprk_klgtu/374</td>\n",
       "      <td>tg_career</td>\n",
       "      <td>2024-04-19</td>\n",
       "      <td>None</td>\n",
       "      <td>✅Вакансия дня:Инженер по качеству производстве...</td>\n",
       "      <td>✅Вакансия дня:Инженер по качеству производстве...</td>\n",
       "      <td>&lt;main class=\"tgme_main\" data-url=\"/cprk_klgtu\"...</td>\n",
       "    </tr>\n",
       "    <tr>\n",
       "      <th>1</th>\n",
       "      <td>https://t.me/cprk_klgtu/375</td>\n",
       "      <td>tg_career</td>\n",
       "      <td>2024-04-19</td>\n",
       "      <td>None</td>\n",
       "      <td>Регистрация уже началась!Не упусти свой шанс!#...</td>\n",
       "      <td>Регистрация уже началась!Не упусти свой шанс!#...</td>\n",
       "      <td>&lt;main class=\"tgme_main\" data-url=\"/cprk_klgtu\"...</td>\n",
       "    </tr>\n",
       "    <tr>\n",
       "      <th>2</th>\n",
       "      <td>https://t.me/cprk_klgtu/376</td>\n",
       "      <td>tg_career</td>\n",
       "      <td>2024-04-19</td>\n",
       "      <td>None</td>\n",
       "      <td>Наши рубрики:#вакансия - свежие вакансии ;#кар...</td>\n",
       "      <td>Наши рубрики:#вакансия - свежие вакансии ;#кар...</td>\n",
       "      <td>&lt;main class=\"tgme_main\" data-url=\"/cprk_klgtu\"...</td>\n",
       "    </tr>\n",
       "    <tr>\n",
       "      <th>3</th>\n",
       "      <td>https://t.me/cprk_klgtu/377</td>\n",
       "      <td>tg_career</td>\n",
       "      <td>2024-04-19</td>\n",
       "      <td>None</td>\n",
       "      <td>Центр карьеры КГТУ pinned «Наши рубрики: #вака...</td>\n",
       "      <td>Центр карьеры КГТУ pinned «Наши рубрики: #вака...</td>\n",
       "      <td>&lt;main class=\"tgme_main\" data-url=\"/cprk_klgtu\"...</td>\n",
       "    </tr>\n",
       "    <tr>\n",
       "      <th>4</th>\n",
       "      <td>https://t.me/cprk_klgtu/378</td>\n",
       "      <td>tg_career</td>\n",
       "      <td>2024-04-19</td>\n",
       "      <td>None</td>\n",
       "      <td>❓Видишь себя в образовательной деятельности?То...</td>\n",
       "      <td>❓Видишь себя в образовательной деятельности?То...</td>\n",
       "      <td>&lt;main class=\"tgme_main\" data-url=\"/cprk_klgtu\"...</td>\n",
       "    </tr>\n",
       "    <tr>\n",
       "      <th>5</th>\n",
       "      <td>https://t.me/cprk_klgtu/380</td>\n",
       "      <td>tg_career</td>\n",
       "      <td>2024-04-19</td>\n",
       "      <td>None</td>\n",
       "      <td>📌Сегодня мы подготовили для тебя подборку дост...</td>\n",
       "      <td>📌Сегодня мы подготовили для тебя подборку дост...</td>\n",
       "      <td>&lt;main class=\"tgme_main\" data-url=\"/cprk_klgtu\"...</td>\n",
       "    </tr>\n",
       "    <tr>\n",
       "      <th>6</th>\n",
       "      <td>https://t.me/cprk_klgtu/381</td>\n",
       "      <td>tg_career</td>\n",
       "      <td>2024-04-19</td>\n",
       "      <td>None</td>\n",
       "      <td>📝Технолог пищевого производства - эта вакансия...</td>\n",
       "      <td>📝Технолог пищевого производства - эта вакансия...</td>\n",
       "      <td>&lt;main class=\"tgme_main\" data-url=\"/cprk_klgtu\"...</td>\n",
       "    </tr>\n",
       "    <tr>\n",
       "      <th>7</th>\n",
       "      <td>https://t.me/cprk_klgtu/384</td>\n",
       "      <td>tg_career</td>\n",
       "      <td>2024-04-19</td>\n",
       "      <td>None</td>\n",
       "      <td>👩‍🍳Твое направление подготовки - технология пр...</td>\n",
       "      <td>👩‍🍳Твое направление подготовки - технология пр...</td>\n",
       "      <td>&lt;main class=\"tgme_main\" data-url=\"/cprk_klgtu\"...</td>\n",
       "    </tr>\n",
       "    <tr>\n",
       "      <th>8</th>\n",
       "      <td>https://t.me/cprk_klgtu/385</td>\n",
       "      <td>tg_career</td>\n",
       "      <td>2024-04-19</td>\n",
       "      <td>None</td>\n",
       "      <td>🤓Оплачиваемая стажировка!Стажёр-разработчик С+...</td>\n",
       "      <td>🤓Оплачиваемая стажировка!Стажёр-разработчик С+...</td>\n",
       "      <td>&lt;main class=\"tgme_main\" data-url=\"/cprk_klgtu\"...</td>\n",
       "    </tr>\n",
       "    <tr>\n",
       "      <th>9</th>\n",
       "      <td>https://t.me/cprk_klgtu/387</td>\n",
       "      <td>tg_career</td>\n",
       "      <td>2024-04-19</td>\n",
       "      <td>None</td>\n",
       "      <td>♻ Знакомься с нашим новым кадровым партнером -...</td>\n",
       "      <td>♻ Знакомься с нашим новым кадровым партнером -...</td>\n",
       "      <td>&lt;main class=\"tgme_main\" data-url=\"/cprk_klgtu\"...</td>\n",
       "    </tr>\n",
       "    <tr>\n",
       "      <th>10</th>\n",
       "      <td>https://t.me/cprk_klgtu/390</td>\n",
       "      <td>tg_career</td>\n",
       "      <td>2024-04-19</td>\n",
       "      <td>None</td>\n",
       "      <td>❓Любишь залипать в соцсетях?☺Тогда эта ваканси...</td>\n",
       "      <td>❓Любишь залипать в соцсетях?☺Тогда эта ваканси...</td>\n",
       "      <td>&lt;main class=\"tgme_main\" data-url=\"/cprk_klgtu\"...</td>\n",
       "    </tr>\n",
       "    <tr>\n",
       "      <th>11</th>\n",
       "      <td>https://t.me/cprk_klgtu/392</td>\n",
       "      <td>tg_career</td>\n",
       "      <td>2024-04-19</td>\n",
       "      <td>None</td>\n",
       "      <td>📌Профразвитие: стажировки📑 200 + стажировок✅ 8...</td>\n",
       "      <td>📌Профразвитие: стажировки📑 200 + стажировок✅ 8...</td>\n",
       "      <td>&lt;main class=\"tgme_main\" data-url=\"/cprk_klgtu\"...</td>\n",
       "    </tr>\n",
       "    <tr>\n",
       "      <th>12</th>\n",
       "      <td>https://t.me/cprk_klgtu/393</td>\n",
       "      <td>tg_career</td>\n",
       "      <td>2024-04-19</td>\n",
       "      <td>None</td>\n",
       "      <td>⁉Ты амбициозный студент предпоследнего курса и...</td>\n",
       "      <td>⁉Ты амбициозный студент предпоследнего курса и...</td>\n",
       "      <td>&lt;main class=\"tgme_main\" data-url=\"/cprk_klgtu\"...</td>\n",
       "    </tr>\n",
       "    <tr>\n",
       "      <th>13</th>\n",
       "      <td>https://t.me/cprk_klgtu/394</td>\n",
       "      <td>tg_career</td>\n",
       "      <td>2024-04-19</td>\n",
       "      <td>None</td>\n",
       "      <td>✅Выпускникам направления подготовки \"Строитель...</td>\n",
       "      <td>✅Выпускникам направления подготовки \"Строитель...</td>\n",
       "      <td>&lt;main class=\"tgme_main\" data-url=\"/cprk_klgtu\"...</td>\n",
       "    </tr>\n",
       "    <tr>\n",
       "      <th>14</th>\n",
       "      <td>https://t.me/cprk_klgtu/396</td>\n",
       "      <td>tg_career</td>\n",
       "      <td>2024-04-19</td>\n",
       "      <td>None</td>\n",
       "      <td>🏆Вакансия от нашего кадрового партнера АО \"Рос...</td>\n",
       "      <td>🏆Вакансия от нашего кадрового партнера АО \"Рос...</td>\n",
       "      <td>&lt;main class=\"tgme_main\" data-url=\"/cprk_klgtu\"...</td>\n",
       "    </tr>\n",
       "    <tr>\n",
       "      <th>15</th>\n",
       "      <td>https://t.me/cprk_klgtu/398</td>\n",
       "      <td>tg_career</td>\n",
       "      <td>2024-04-19</td>\n",
       "      <td>None</td>\n",
       "      <td>💼 бЕЗ ОПЫТАПодборка вакансийhttps://facultet.u...</td>\n",
       "      <td>💼 бЕЗ ОПЫТАПодборка вакансийhttps://facultet.u...</td>\n",
       "      <td>&lt;main class=\"tgme_main\" data-url=\"/cprk_klgtu\"...</td>\n",
       "    </tr>\n",
       "    <tr>\n",
       "      <th>16</th>\n",
       "      <td>https://t.me/cprk_klgtu/399</td>\n",
       "      <td>tg_career</td>\n",
       "      <td>2024-04-19</td>\n",
       "      <td>None</td>\n",
       "      <td>• Деловая встреча с инспектором по Калининград...</td>\n",
       "      <td>• Деловая встреча с инспектором по Калининград...</td>\n",
       "      <td>&lt;main class=\"tgme_main\" data-url=\"/cprk_klgtu\"...</td>\n",
       "    </tr>\n",
       "    <tr>\n",
       "      <th>17</th>\n",
       "      <td>https://t.me/cprk_klgtu/400</td>\n",
       "      <td>tg_career</td>\n",
       "      <td>2024-04-19</td>\n",
       "      <td>None</td>\n",
       "      <td>• Стажировка в Банке России📅 14 мартаНабор на ...</td>\n",
       "      <td>• Стажировка в Банке России📅 14 мартаНабор на ...</td>\n",
       "      <td>&lt;main class=\"tgme_main\" data-url=\"/cprk_klgtu\"...</td>\n",
       "    </tr>\n",
       "    <tr>\n",
       "      <th>18</th>\n",
       "      <td>https://t.me/cprk_klgtu/401</td>\n",
       "      <td>tg_career</td>\n",
       "      <td>2024-04-19</td>\n",
       "      <td>None</td>\n",
       "      <td>• День открытых дверей Росстандарта.</td>\n",
       "      <td>• День открытых дверей Росстандарта. КГТУ &amp; ФБ...</td>\n",
       "      <td>&lt;main class=\"tgme_main\" data-url=\"/cprk_klgtu\"...</td>\n",
       "    </tr>\n",
       "  </tbody>\n",
       "</table>\n",
       "</div>"
      ],
      "text/plain": [
       "                            url topic_block parsing_date public_date  \\\n",
       "0   https://t.me/cprk_klgtu/374   tg_career   2024-04-19        None   \n",
       "1   https://t.me/cprk_klgtu/375   tg_career   2024-04-19        None   \n",
       "2   https://t.me/cprk_klgtu/376   tg_career   2024-04-19        None   \n",
       "3   https://t.me/cprk_klgtu/377   tg_career   2024-04-19        None   \n",
       "4   https://t.me/cprk_klgtu/378   tg_career   2024-04-19        None   \n",
       "5   https://t.me/cprk_klgtu/380   tg_career   2024-04-19        None   \n",
       "6   https://t.me/cprk_klgtu/381   tg_career   2024-04-19        None   \n",
       "7   https://t.me/cprk_klgtu/384   tg_career   2024-04-19        None   \n",
       "8   https://t.me/cprk_klgtu/385   tg_career   2024-04-19        None   \n",
       "9   https://t.me/cprk_klgtu/387   tg_career   2024-04-19        None   \n",
       "10  https://t.me/cprk_klgtu/390   tg_career   2024-04-19        None   \n",
       "11  https://t.me/cprk_klgtu/392   tg_career   2024-04-19        None   \n",
       "12  https://t.me/cprk_klgtu/393   tg_career   2024-04-19        None   \n",
       "13  https://t.me/cprk_klgtu/394   tg_career   2024-04-19        None   \n",
       "14  https://t.me/cprk_klgtu/396   tg_career   2024-04-19        None   \n",
       "15  https://t.me/cprk_klgtu/398   tg_career   2024-04-19        None   \n",
       "16  https://t.me/cprk_klgtu/399   tg_career   2024-04-19        None   \n",
       "17  https://t.me/cprk_klgtu/400   tg_career   2024-04-19        None   \n",
       "18  https://t.me/cprk_klgtu/401   tg_career   2024-04-19        None   \n",
       "\n",
       "                                                title  \\\n",
       "0   ✅Вакансия дня:Инженер по качеству производстве...   \n",
       "1   Регистрация уже началась!Не упусти свой шанс!#...   \n",
       "2   Наши рубрики:#вакансия - свежие вакансии ;#кар...   \n",
       "3   Центр карьеры КГТУ pinned «Наши рубрики: #вака...   \n",
       "4   ❓Видишь себя в образовательной деятельности?То...   \n",
       "5   📌Сегодня мы подготовили для тебя подборку дост...   \n",
       "6   📝Технолог пищевого производства - эта вакансия...   \n",
       "7   👩‍🍳Твое направление подготовки - технология пр...   \n",
       "8   🤓Оплачиваемая стажировка!Стажёр-разработчик С+...   \n",
       "9   ♻ Знакомься с нашим новым кадровым партнером -...   \n",
       "10  ❓Любишь залипать в соцсетях?☺Тогда эта ваканси...   \n",
       "11  📌Профразвитие: стажировки📑 200 + стажировок✅ 8...   \n",
       "12  ⁉Ты амбициозный студент предпоследнего курса и...   \n",
       "13  ✅Выпускникам направления подготовки \"Строитель...   \n",
       "14  🏆Вакансия от нашего кадрового партнера АО \"Рос...   \n",
       "15  💼 бЕЗ ОПЫТАПодборка вакансийhttps://facultet.u...   \n",
       "16  • Деловая встреча с инспектором по Калининград...   \n",
       "17  • Стажировка в Банке России📅 14 мартаНабор на ...   \n",
       "18               • День открытых дверей Росстандарта.   \n",
       "\n",
       "                                              context  \\\n",
       "0   ✅Вакансия дня:Инженер по качеству производстве...   \n",
       "1   Регистрация уже началась!Не упусти свой шанс!#...   \n",
       "2   Наши рубрики:#вакансия - свежие вакансии ;#кар...   \n",
       "3   Центр карьеры КГТУ pinned «Наши рубрики: #вака...   \n",
       "4   ❓Видишь себя в образовательной деятельности?То...   \n",
       "5   📌Сегодня мы подготовили для тебя подборку дост...   \n",
       "6   📝Технолог пищевого производства - эта вакансия...   \n",
       "7   👩‍🍳Твое направление подготовки - технология пр...   \n",
       "8   🤓Оплачиваемая стажировка!Стажёр-разработчик С+...   \n",
       "9   ♻ Знакомься с нашим новым кадровым партнером -...   \n",
       "10  ❓Любишь залипать в соцсетях?☺Тогда эта ваканси...   \n",
       "11  📌Профразвитие: стажировки📑 200 + стажировок✅ 8...   \n",
       "12  ⁉Ты амбициозный студент предпоследнего курса и...   \n",
       "13  ✅Выпускникам направления подготовки \"Строитель...   \n",
       "14  🏆Вакансия от нашего кадрового партнера АО \"Рос...   \n",
       "15  💼 бЕЗ ОПЫТАПодборка вакансийhttps://facultet.u...   \n",
       "16  • Деловая встреча с инспектором по Калининград...   \n",
       "17  • Стажировка в Банке России📅 14 мартаНабор на ...   \n",
       "18  • День открытых дверей Росстандарта. КГТУ & ФБ...   \n",
       "\n",
       "                                                 html  \n",
       "0   <main class=\"tgme_main\" data-url=\"/cprk_klgtu\"...  \n",
       "1   <main class=\"tgme_main\" data-url=\"/cprk_klgtu\"...  \n",
       "2   <main class=\"tgme_main\" data-url=\"/cprk_klgtu\"...  \n",
       "3   <main class=\"tgme_main\" data-url=\"/cprk_klgtu\"...  \n",
       "4   <main class=\"tgme_main\" data-url=\"/cprk_klgtu\"...  \n",
       "5   <main class=\"tgme_main\" data-url=\"/cprk_klgtu\"...  \n",
       "6   <main class=\"tgme_main\" data-url=\"/cprk_klgtu\"...  \n",
       "7   <main class=\"tgme_main\" data-url=\"/cprk_klgtu\"...  \n",
       "8   <main class=\"tgme_main\" data-url=\"/cprk_klgtu\"...  \n",
       "9   <main class=\"tgme_main\" data-url=\"/cprk_klgtu\"...  \n",
       "10  <main class=\"tgme_main\" data-url=\"/cprk_klgtu\"...  \n",
       "11  <main class=\"tgme_main\" data-url=\"/cprk_klgtu\"...  \n",
       "12  <main class=\"tgme_main\" data-url=\"/cprk_klgtu\"...  \n",
       "13  <main class=\"tgme_main\" data-url=\"/cprk_klgtu\"...  \n",
       "14  <main class=\"tgme_main\" data-url=\"/cprk_klgtu\"...  \n",
       "15  <main class=\"tgme_main\" data-url=\"/cprk_klgtu\"...  \n",
       "16  <main class=\"tgme_main\" data-url=\"/cprk_klgtu\"...  \n",
       "17  <main class=\"tgme_main\" data-url=\"/cprk_klgtu\"...  \n",
       "18  <main class=\"tgme_main\" data-url=\"/cprk_klgtu\"...  "
      ]
     },
     "execution_count": 17,
     "metadata": {},
     "output_type": "execute_result"
    }
   ],
   "source": [
    "programms_df.head(20)"
   ]
  },
  {
   "cell_type": "code",
   "execution_count": 18,
   "metadata": {},
   "outputs": [],
   "source": [
    "programms_df.to_json('parsing_tg_career.json', orient='records', force_ascii=False)"
   ]
  },
  {
   "cell_type": "markdown",
   "metadata": {},
   "source": [
    "### Блок \"Новости телеграмм-канала ИЦТ\""
   ]
  },
  {
   "cell_type": "code",
   "execution_count": 19,
   "metadata": {},
   "outputs": [
    {
     "name": "stderr",
     "output_type": "stream",
     "text": [
      "[nltk_data] Downloading package punkt to\n",
      "[nltk_data]     C:\\Users\\GoLuBoK\\AppData\\Roaming\\nltk_data...\n",
      "[nltk_data]   Package punkt is already up-to-date!\n"
     ]
    }
   ],
   "source": [
    "from block_parsers_tg_icht import Telegram_parser_icht"
   ]
  },
  {
   "cell_type": "code",
   "execution_count": 20,
   "metadata": {},
   "outputs": [],
   "source": [
    "programms_df = pd.DataFrame(Telegram_parser_icht.df)"
   ]
  },
  {
   "cell_type": "code",
   "execution_count": 21,
   "metadata": {},
   "outputs": [
    {
     "data": {
      "text/html": [
       "<div>\n",
       "<style scoped>\n",
       "    .dataframe tbody tr th:only-of-type {\n",
       "        vertical-align: middle;\n",
       "    }\n",
       "\n",
       "    .dataframe tbody tr th {\n",
       "        vertical-align: top;\n",
       "    }\n",
       "\n",
       "    .dataframe thead th {\n",
       "        text-align: right;\n",
       "    }\n",
       "</style>\n",
       "<table border=\"1\" class=\"dataframe\">\n",
       "  <thead>\n",
       "    <tr style=\"text-align: right;\">\n",
       "      <th></th>\n",
       "      <th>url</th>\n",
       "      <th>topic_block</th>\n",
       "      <th>parsing_date</th>\n",
       "      <th>public_date</th>\n",
       "      <th>title</th>\n",
       "      <th>context</th>\n",
       "      <th>html</th>\n",
       "    </tr>\n",
       "  </thead>\n",
       "  <tbody>\n",
       "    <tr>\n",
       "      <th>0</th>\n",
       "      <td>https://t.me/klgtu_digital_channel/1187</td>\n",
       "      <td>tg_icht</td>\n",
       "      <td>2024-04-19</td>\n",
       "      <td>None</td>\n",
       "      <td>25 апреля фирма «1С:Северо-Запад» проводит кон...</td>\n",
       "      <td>25 апреля фирма «1С:Северо-Запад» проводит кон...</td>\n",
       "      <td>&lt;main class=\"tgme_main\" data-url=\"/klgtu_digit...</td>\n",
       "    </tr>\n",
       "    <tr>\n",
       "      <th>1</th>\n",
       "      <td>https://t.me/klgtu_digital_channel/1188</td>\n",
       "      <td>tg_icht</td>\n",
       "      <td>2024-04-19</td>\n",
       "      <td>None</td>\n",
       "      <td>КГТУ и Сбер расширяют сотрудничество.</td>\n",
       "      <td>КГТУ и Сбер расширяют сотрудничество. 18 апрел...</td>\n",
       "      <td>&lt;main class=\"tgme_main\" data-url=\"/klgtu_digit...</td>\n",
       "    </tr>\n",
       "    <tr>\n",
       "      <th>2</th>\n",
       "      <td>https://t.me/klgtu_digital_channel/1189</td>\n",
       "      <td>tg_icht</td>\n",
       "      <td>2024-04-19</td>\n",
       "      <td>None</td>\n",
       "      <td>Поздравляем участников Квеста \"Цифровой прорыв...</td>\n",
       "      <td>Поздравляем участников Квеста \"Цифровой прорыв...</td>\n",
       "      <td>&lt;main class=\"tgme_main\" data-url=\"/klgtu_digit...</td>\n",
       "    </tr>\n",
       "    <tr>\n",
       "      <th>3</th>\n",
       "      <td>https://t.me/klgtu_digital_channel/1200</td>\n",
       "      <td>tg_icht</td>\n",
       "      <td>2024-04-19</td>\n",
       "      <td>None</td>\n",
       "      <td>В субботу 13 апреля в ИЦТ состоялся Квест \"Циф...</td>\n",
       "      <td>В субботу 13 апреля в ИЦТ состоялся Квест \"Циф...</td>\n",
       "      <td>&lt;main class=\"tgme_main\" data-url=\"/klgtu_digit...</td>\n",
       "    </tr>\n",
       "    <tr>\n",
       "      <th>4</th>\n",
       "      <td>https://t.me/klgtu_digital_channel/1201</td>\n",
       "      <td>tg_icht</td>\n",
       "      <td>2024-04-19</td>\n",
       "      <td>None</td>\n",
       "      <td>Приглашаем студентов и сотрудников ИЦТ присоед...</td>\n",
       "      <td>Приглашаем студентов и сотрудников ИЦТ присоед...</td>\n",
       "      <td>&lt;main class=\"tgme_main\" data-url=\"/klgtu_digit...</td>\n",
       "    </tr>\n",
       "    <tr>\n",
       "      <th>5</th>\n",
       "      <td>https://t.me/klgtu_digital_channel/1202</td>\n",
       "      <td>tg_icht</td>\n",
       "      <td>2024-04-19</td>\n",
       "      <td>None</td>\n",
       "      <td>Студенты ИЦТ посетили уже вторую встречу- диск...</td>\n",
       "      <td>Студенты ИЦТ посетили уже вторую встречу- диск...</td>\n",
       "      <td>&lt;main class=\"tgme_main\" data-url=\"/klgtu_digit...</td>\n",
       "    </tr>\n",
       "  </tbody>\n",
       "</table>\n",
       "</div>"
      ],
      "text/plain": [
       "                                       url topic_block parsing_date  \\\n",
       "0  https://t.me/klgtu_digital_channel/1187     tg_icht   2024-04-19   \n",
       "1  https://t.me/klgtu_digital_channel/1188     tg_icht   2024-04-19   \n",
       "2  https://t.me/klgtu_digital_channel/1189     tg_icht   2024-04-19   \n",
       "3  https://t.me/klgtu_digital_channel/1200     tg_icht   2024-04-19   \n",
       "4  https://t.me/klgtu_digital_channel/1201     tg_icht   2024-04-19   \n",
       "5  https://t.me/klgtu_digital_channel/1202     tg_icht   2024-04-19   \n",
       "\n",
       "  public_date                                              title  \\\n",
       "0        None  25 апреля фирма «1С:Северо-Запад» проводит кон...   \n",
       "1        None              КГТУ и Сбер расширяют сотрудничество.   \n",
       "2        None  Поздравляем участников Квеста \"Цифровой прорыв...   \n",
       "3        None  В субботу 13 апреля в ИЦТ состоялся Квест \"Циф...   \n",
       "4        None  Приглашаем студентов и сотрудников ИЦТ присоед...   \n",
       "5        None  Студенты ИЦТ посетили уже вторую встречу- диск...   \n",
       "\n",
       "                                             context  \\\n",
       "0  25 апреля фирма «1С:Северо-Запад» проводит кон...   \n",
       "1  КГТУ и Сбер расширяют сотрудничество. 18 апрел...   \n",
       "2  Поздравляем участников Квеста \"Цифровой прорыв...   \n",
       "3  В субботу 13 апреля в ИЦТ состоялся Квест \"Циф...   \n",
       "4  Приглашаем студентов и сотрудников ИЦТ присоед...   \n",
       "5  Студенты ИЦТ посетили уже вторую встречу- диск...   \n",
       "\n",
       "                                                html  \n",
       "0  <main class=\"tgme_main\" data-url=\"/klgtu_digit...  \n",
       "1  <main class=\"tgme_main\" data-url=\"/klgtu_digit...  \n",
       "2  <main class=\"tgme_main\" data-url=\"/klgtu_digit...  \n",
       "3  <main class=\"tgme_main\" data-url=\"/klgtu_digit...  \n",
       "4  <main class=\"tgme_main\" data-url=\"/klgtu_digit...  \n",
       "5  <main class=\"tgme_main\" data-url=\"/klgtu_digit...  "
      ]
     },
     "execution_count": 21,
     "metadata": {},
     "output_type": "execute_result"
    }
   ],
   "source": [
    "programms_df.head(50)"
   ]
  },
  {
   "cell_type": "code",
   "execution_count": 22,
   "metadata": {},
   "outputs": [],
   "source": [
    "programms_df.to_json('parsing_tg_career.json', orient='records', force_ascii=False)"
   ]
  },
  {
   "cell_type": "code",
   "execution_count": null,
   "metadata": {},
   "outputs": [],
   "source": []
  },
  {
   "cell_type": "code",
   "execution_count": null,
   "metadata": {},
   "outputs": [],
   "source": []
  }
 ],
 "metadata": {
  "kernelspec": {
   "display_name": "Python 3 (ipykernel)",
   "language": "python",
   "name": "python3"
  },
  "language_info": {
   "codemirror_mode": {
    "name": "ipython",
    "version": 3
   },
   "file_extension": ".py",
   "mimetype": "text/x-python",
   "name": "python",
   "nbconvert_exporter": "python",
   "pygments_lexer": "ipython3",
   "version": "3.11.2"
  },
  "vscode": {
   "interpreter": {
    "hash": "b0fa6594d8f4cbf19f97940f81e996739fb7646882a419484c72d19e05852a7e"
   }
  }
 },
 "nbformat": 4,
 "nbformat_minor": 4
}
